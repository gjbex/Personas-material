{
 "cells": [
  {
   "cell_type": "markdown",
   "id": "74e1e743-0a60-4edf-b0e1-5a53fdb69177",
   "metadata": {},
   "source": [
    "# HPC intro"
   ]
  },
  {
   "cell_type": "markdown",
   "id": "2bf6915b-8158-4e57-aed9-8bc4e5406db5",
   "metadata": {},
   "source": [
    "## Running computations in parallel"
   ]
  },
  {
   "cell_type": "markdown",
   "id": "30c544b0-962b-4be8-85b1-9f48d8d542df",
   "metadata": {},
   "source": [
    "By itself, a computation will not necessarily run faster on a compute node than it does on your laptop or desktop system.  However, there are a number of scenarios where using a supercomputer will speed up your computations considerably.\n",
    "\n",
    "  1. Your application has been designed to use multiple cores.\n",
    "  2. Your application has been designed to run on multiple compute nodes.\n",
    "  3. Your application has been designed to use GPU accelerators.\n",
    "  4. You have to run your application many times on different data sets or with different parameters.\n",
    "\n",
    "Here, you will learn about each of these scenarios, and get hints on how to determine which applies to you.  First however, you will need to understand the basics of the architecture of a typical HPC system."
   ]
  },
  {
   "cell_type": "markdown",
   "id": "8aa201ef-b0c1-449d-9910-d50069fd50d2",
   "metadata": {},
   "source": [
    "## Computer & cluster architecture"
   ]
  },
  {
   "cell_type": "markdown",
   "id": "6427b5c7-2567-45ca-9175-b291b3ec5dbb",
   "metadata": {},
   "source": [
    "First you need to understand the basics of what an HPC system looks likes and functions.  This is a very technical topic on which you can spend days, so here you will only get a high-level overview of the key concepts."
   ]
  },
  {
   "cell_type": "markdown",
   "id": "f00d0da8-4445-469f-acc5-1a50247fb444",
   "metadata": {},
   "source": [
    "### Cluster"
   ]
  },
  {
   "cell_type": "markdown",
   "id": "4d380d19-1988-4f78-8471-e0bf1fc83679",
   "metadata": {},
   "source": [
    "An HPC cluster consists of many compute nodes.  The latter are individual computers that are connected through a high-speed interconnect, i.e., a very fast and reliable network.  This network allows the individual compute nodes to communicate with one another and provides fast access to data stored in your home, data or scratch directory."
   ]
  },
  {
   "cell_type": "markdown",
   "id": "6b3175f7-5ad1-442a-ab75-e50224ff935e",
   "metadata": {},
   "source": [
    "### Compute node"
   ]
  },
  {
   "cell_type": "markdown",
   "id": "faed96e7-07a0-42d8-a576-4b131cf2a68b",
   "metadata": {},
   "source": [
    "Zooming into a compute node, a number of features make it (potentially) a lot faster than your own laptop.\n",
    "\n",
    "Each computer has at least one Central Processing Unit (CPU).  The CPU of a computer is the chip that carries out all computations, it is the brain of the computer.  A modern CPU has many cores, and you can view those as independent processing units, i.e., each core on a CPU can carry out an individual task.  For instance, if a CPU has 18 cores, it can run 18 Python interpreters in parallel, each of those performing an individual computation.\n",
    "\n",
    "Another critical part of a computer is its working memory (Random Access Memory --- RAM) that stores data while the computer is on.  This memory is volatile, i.e., when you shut down the computer, the contents of the RAM is lost.  That means your files are not stored in RAM, but rather on a hard disk or, for an HPC system, on a network file system.\n",
    "\n",
    "If you compare the numbers on CPUs and RAM between an HPC compute node and a laptop, it will be clear why the former is part of a supercomputer.\n",
    "\n",
    "  1. A compute node has two CPUs, while your laptop has only one.\n",
    "  2. A single CPU in a compute node has 18 cores (genius) or 36 cores (wice) as compared to the 4 a typical laptop has.\n",
    "  3. A compute node has 196 GB (genius) or 256 GB (wice) RAM, again much more than the 8 to 16 GB RAM of your laptop.\n",
    "\n",
    "Just considering the CPUs in a compute node, you note that *if your application can use multiple cores* it will potentially run much faster on a compute node.  Since the total number of cores is 36 (genius) or 72 (wice), your application could run 9 (genius) to 18 (wice) times faster than on your laptop.\n",
    "\n",
    "Whether you will have such a speedup depends on many technical factors that go beyond the scope of this introduction, but in practice, expect lower numbers.\n",
    "\n",
    "For some applications, memory requirements exceed your laptop's specifications.  As you can see, compute nodes have much more RAM, and hence can process larger data sets, or more complex systems.\n",
    "\n",
    "There are several other factors that influence the performance of a compute node such as the memory subsystem, vector registers, and so on, but again, this is not in the scope of this training, although it is very useful to know about it."
   ]
  },
  {
   "cell_type": "markdown",
   "id": "014e2196-3779-464a-b941-aa6753c1b278",
   "metadata": {},
   "source": [
    "### GPUs"
   ]
  },
  {
   "cell_type": "markdown",
   "id": "ffdf1f6f-346c-4efb-b714-6d621d6db28d",
   "metadata": {},
   "source": [
    "Although originally designed for graphics applications and gaming, researchers started using Graphical Processing Units (GPUs) for scientific workloads.\n",
    "\n",
    "On many HPC clusters, some (or all) of the nodes are equipped with one or more GPUs.  *If your application has been developed to use GPUs*, you can use those to (potentially) speed up your computation.\n",
    "\n",
    "The GPUs on HPC systems are much more powerful than those in a laptop or a desktop system.\n",
    "\n",
    "  1. They have more compute cores.\n",
    "  2. They can perform floating-point computations in double precision.\n",
    "  3. They can perform floating-point computations in half precision.\n",
    "  4. They have special units that accelerate matrix operations.\n",
    "  5. They have much more memory on board.\n",
    "\n",
    "Due to these differences, GPUs that are designed for scientific computations are often referred to as General Purpose GPU (GPGPUs).\n",
    "\n",
    "The design choices mentioned above imply that you can expect a considerable speed up, or work much more comfortably on large data sets on a GPGPU when cmopared to the typical consumer GPU in your laptop or desktop."
   ]
  },
  {
   "cell_type": "markdown",
   "id": "fb27d111-040f-4036-ade4-cfa3035eebd7",
   "metadata": {},
   "source": [
    "## Multicore applications"
   ]
  },
  {
   "cell_type": "markdown",
   "id": "558a9b1a-a197-4d17-95dd-3fe73f65bb02",
   "metadata": {},
   "source": [
    "Many HPC applications have been developed to take advantage of multiple cores to speed up computations."
   ]
  }
 ],
 "metadata": {
  "kernelspec": {
   "display_name": "Bash",
   "language": "bash",
   "name": "bash"
  },
  "language_info": {
   "codemirror_mode": "shell",
   "file_extension": ".sh",
   "mimetype": "text/x-sh",
   "name": "bash"
  }
 },
 "nbformat": 4,
 "nbformat_minor": 5
}
