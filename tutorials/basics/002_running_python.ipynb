{
 "cells": [
  {
   "cell_type": "markdown",
   "id": "212e39a3-b55f-43d2-a4ca-689006b4ef63",
   "metadata": {},
   "source": [
    "# HPC intro"
   ]
  },
  {
   "cell_type": "markdown",
   "id": "5f607235-7b96-4d98-a84d-a45d5d527f76",
   "metadata": {},
   "source": [
    "## Using Python"
   ]
  },
  {
   "cell_type": "markdown",
   "id": "6a36e6eb-9671-472e-8043-a676b40ff1f4",
   "metadata": {},
   "source": [
    "Python is of course a very useful programming language for data processing, analysis and visualization.\n",
    "\n",
    "There are many tutorials and courses that will teach you Python, so that is not the scope of this tutorial.  Here you will learn how to run Python on our HPC infrastructure, assuming you are already familiar with the language and packages."
   ]
  },
  {
   "cell_type": "markdown",
   "id": "862edb6d-6a59-4435-9f3c-e13601ff6cc2",
   "metadata": {},
   "source": [
    "### Python scripts"
   ]
  },
  {
   "cell_type": "markdown",
   "id": "30a3fab4-1e0c-4146-9c4c-ef346a094869",
   "metadata": {},
   "source": [
    "Given that Python scripts are simple text files, you can create or modify them using your favorite editor.  You can do this for instance on the infrastructure using `nano`, or on your own system and transfer the finished script or module to the HPC system.\n",
    "\n",
    "To build up gradually, you can start with a very simple script that takes a string as a command line argument, and prints a greeting to standard output.  Your script is stored in a file `hello.py` which could look like this.\n",
    "\n",
    "```\n",
    "#!/usr/bin/env python\n",
    "\n",
    "import argparse\n",
    "\n",
    "\n",
    "arg_parser = argparse.ArgumentParser(description='say hello')\n",
    "arg_parser.add_argument('name', help='who to say hello to')\n",
    "options = arg_parser.parse_args()\n",
    "\n",
    "print('Hello ' + options.name + '!')\n",
    "```\n",
    "\n",
    "The only module used in this script, `argparse` is in Python's standard library, and the script has been written in such a way that it will work with any version of Python.  In practice, use f-strings, and a recent version of Python."
   ]
  },
  {
   "cell_type": "markdown",
   "id": "9bdd4dd3-465e-40d8-995f-a07161856d7a",
   "metadata": {},
   "source": [
    "### Running simple scripts"
   ]
  },
  {
   "cell_type": "markdown",
   "id": "976cea0c-d222-4838-b03b-6e9adf13f4d9",
   "metadata": {},
   "source": [
    "You can run it by giving it as a command line argument to the Python interpreter."
   ]
  },
  {
   "cell_type": "code",
   "execution_count": 3,
   "id": "5f63a009-9c86-44ee-a23f-bae6e2b52931",
   "metadata": {
    "tags": []
   },
   "outputs": [
    {
     "name": "stdout",
     "output_type": "stream",
     "text": [
      "Hello there!\n"
     ]
    }
   ],
   "source": [
    "python hello.py there"
   ]
  },
  {
   "cell_type": "markdown",
   "id": "b30e3c53-f673-4f65-aaec-d4df1c39e45b",
   "metadata": {},
   "source": [
    "You can of course easily check which version of Python is used to run your script, as well as where it is installed on the system."
   ]
  },
  {
   "cell_type": "code",
   "execution_count": 4,
   "id": "d76d6a18-bdd9-47fb-882f-d7aaf04257e7",
   "metadata": {
    "tags": []
   },
   "outputs": [
    {
     "name": "stdout",
     "output_type": "stream",
     "text": [
      "Python 3.6.8\n"
     ]
    }
   ],
   "source": [
    "python --version"
   ]
  },
  {
   "cell_type": "code",
   "execution_count": 5,
   "id": "d9816deb-bcc7-4fbf-bc8a-fba7b7af2c0a",
   "metadata": {
    "tags": []
   },
   "outputs": [
    {
     "name": "stdout",
     "output_type": "stream",
     "text": [
      "/usr/bin/python\n"
     ]
    }
   ],
   "source": [
    "which python"
   ]
  },
  {
   "cell_type": "markdown",
   "id": "a21fa7b7-7d3e-4252-92a0-10413f497d44",
   "metadata": {},
   "source": [
    "However, often the version of the Python interpreter that comes with the operating system is not the one you would like to use, or you want to use Python packages that are not installed, so what can you do?\n",
    "\n",
    "Here, we will assume that you have a (fairly simple) script that computes a function for an array of floating point values, and that writes a line plot that shows the results to a file.\n",
    "\n",
    "```\n",
    "#!/usr/bin/env python\n",
    "\n",
    "import matplotlib.pyplot as plt\n",
    "import numpy as np\n",
    "\n",
    "\n",
    "x = np.linspace(-2*np.pi, 2*np.pi, 501)\n",
    "y = np.sin(x)\n",
    "\n",
    "plt.plot(x, y, '-')\n",
    "plt.savefig('sin.png')\n",
    "```\n",
    "\n",
    "This script requires both the numpy and matplotlib packages, running it with the default Python interpreter is not going to be a big success."
   ]
  },
  {
   "cell_type": "code",
   "execution_count": 7,
   "id": "3bdbe126-28a4-41f5-a7a0-f3205a2715a4",
   "metadata": {
    "tags": []
   },
   "outputs": [
    {
     "name": "stdout",
     "output_type": "stream",
     "text": [
      "Traceback (most recent call last):\n",
      "  File \"sin_plot.py\", line 3, in <module>\n",
      "    import numpy as np\n",
      "ModuleNotFoundError: No module named 'numpy'\n"
     ]
    },
    {
     "ename": "",
     "evalue": "1",
     "output_type": "error",
     "traceback": []
    }
   ],
   "source": [
    "python sin_plot.py"
   ]
  },
  {
   "cell_type": "markdown",
   "id": "2c4ad69d-3804-4115-b394-f16409b1d3ec",
   "metadata": {},
   "source": [
    "As it happens, there are quite a number of options,\n",
    "\n",
    "  1. install packages in your home directory's `.local` directory using `pip`;\n",
    "     * advantages: fairly straightforward\n",
    "     * disadvantages: sure to create a dependency mess later on, performance is likely to be an issue\n",
    "     * conclusion: *please don't*\n",
    "  1. use the module system and Python versions and packages installed by your system administrator;\n",
    "     * advantages: typically excellent performance\n",
    "     * disadvantages: since system administrators really can't install any and all Python packages, you\n",
    "       may have to install some packages yourself anyway\n",
    "     * conclusion: perfect if you have no requirements beyond the packages that are available\n",
    "  1. use a package manager such as [miniconda](https://docs.conda.io/en/latest/miniconda.html)\n",
    "     or [mamba](https://github.com/mamba-org/mamba)\n",
    "     * advantages: you have full control over the versions of Python and all packages\n",
    "     * disadvantages: unless you know what you are doing, performance may be an issue\n",
    "     * conclusion: way to go if you know what you are doing\n",
    "  1. use [apptainer](https://apptainer.org/) or [podman](https://podman.io/) containers\n",
    "     * advantages: if you know what you are doing, you can create a reproducible environment that is\n",
    "       portable across systems\n",
    "     * disadvantages: more involved than the other approaches, with considerable pitfalls\n",
    "     * conclusion: not for the faint of heart\n",
    "    \n",
    "Given that the first option is not recommended at all, and the fourth goes beyond the scope of this tutorial, you will learn how to\n",
    "\n",
    "  * use the module system\n",
    "  * install and use miniconda"
   ]
  },
  {
   "cell_type": "markdown",
   "id": "e4cdba08-f7d4-42c9-96c5-f4384770821b",
   "metadata": {},
   "source": [
    "### Software module system"
   ]
  },
  {
   "cell_type": "markdown",
   "id": "74672696-e769-48ab-8e19-001f89c1522b",
   "metadata": {},
   "source": [
    "An HPC system is almost by definition"
   ]
  },
  {
   "cell_type": "code",
   "execution_count": 8,
   "id": "c91818f8-d689-444b-9e98-65f8c29ae03b",
   "metadata": {
    "tags": []
   },
   "outputs": [
    {
     "name": "stdout",
     "output_type": "stream",
     "text": [
      "\n",
      "-------------------- /apps/leuven/icelake/2021a/modules/all --------------------\n",
      "   Bazaar/2.7.0-GCCcore-10.3.0-Python-2.7.18\n",
      "   Boost.Python/1.76.0-GCC-10.3.0\n",
      "   CGAL/4.11.1-foss-2021a-Python-3.9.5\n",
      "   DOLFIN/2019.1.0.post0-foss-2021a-Python-3.9.5-SuperLU_DIST\n",
      "   DOLFIN/2019.1.0.post0-foss-2021a-Python-3.9.5              (D)\n",
      "   FFC/2018.1.0-foss-2021a-Python-3.9.5\n",
      "   FFC/2019.1.0.post0-foss-2021a-Python-3.9.5                 (D)\n",
      "   FIAT/2018.1.0-foss-2021a-Python-3.9.5\n",
      "   FIAT/2019.1.0-foss-2021a-Python-3.9.5                      (D)\n",
      "   PLY/3.11-foss-2021a-Python-3.9.5\n",
      "   Python/2.7.18-GCCcore-10.3.0-bare\n",
      "   Python/3.9.5-GCCcore-10.3.0-bare\n",
      "   Python/3.9.5-GCCcore-10.3.0\n",
      "   Python/3.10.8-GCCcore-10.3.0-bare                          (D)\n",
      "   UFL/2018.1.0-foss-2021a-Python-3.9.5\n",
      "   UFL/2019.1.0-foss-2021a-Python-3.9.5                       (D)\n",
      "   dijitso/2019.1.0-foss-2021a-Python-3.9.5\n",
      "   mshr/2019.1.0-foss-2021a-Python-3.9.5\n",
      "   pkgconfig/1.5.4-GCCcore-10.3.0-python\n",
      "   protobuf-python/3.17.3-GCCcore-10.3.0\n",
      "   spglib-python/1.16.1-foss-2021a\n",
      "   spglib-python/1.16.1-intel-2021a                           (D)\n",
      "\n",
      "----------------------- /apps/leuven/common/modules/all ------------------------\n",
      "   RAPIDS/22.10-CUDA-11.5-runtime-Ubuntu-18.04-Python-3.9-singularity (L)\n",
      "   vsc-python-irodsclient/0.1-python-irodsclient-0.8.4\n",
      "\n",
      "  Where:\n",
      "   D:  Default Module\n",
      "   L:  Module is loaded\n",
      "\n",
      "If the avail list is too long consider trying:\n",
      "\n",
      "\"module --default avail\" or \"ml -d av\" to just list the default modules.\n",
      "\"module overview\" or \"ml ov\" to display the number of modules for each name.\n",
      "\n",
      "Use \"module spider\" to find all possible modules and extensions.\n",
      "Use \"module keyword key1 key2 ...\" to search for all possible modules matching\n",
      "any of the \"keys\".\n",
      "\n",
      "\n"
     ]
    }
   ],
   "source": [
    "module av Python"
   ]
  },
  {
   "cell_type": "code",
   "execution_count": 9,
   "id": "a03283bb-cd35-4868-b4c8-3f58fe32079e",
   "metadata": {
    "tags": []
   },
   "outputs": [],
   "source": [
    "module load Python/3.10.8-GCCcore-10.3.0-bare"
   ]
  },
  {
   "cell_type": "code",
   "execution_count": 10,
   "id": "9498284d-a2c8-4e7c-be16-d575814fd0fc",
   "metadata": {
    "tags": []
   },
   "outputs": [
    {
     "name": "stdout",
     "output_type": "stream",
     "text": [
      "Python 3.10.8\n"
     ]
    }
   ],
   "source": [
    "python --version"
   ]
  },
  {
   "cell_type": "code",
   "execution_count": 11,
   "id": "00f218a5-5a27-4596-9db5-74eb71a85fb8",
   "metadata": {
    "tags": []
   },
   "outputs": [
    {
     "name": "stdout",
     "output_type": "stream",
     "text": [
      "/apps/leuven/icelake/2021a/software/Python/3.10.8-GCCcore-10.3.0-bare/bin/python\n"
     ]
    }
   ],
   "source": [
    "which python"
   ]
  },
  {
   "cell_type": "code",
   "execution_count": 12,
   "id": "f42f1bb2-6cb5-4e5e-ab8f-7005f6f2042f",
   "metadata": {
    "tags": []
   },
   "outputs": [
    {
     "name": "stdout",
     "output_type": "stream",
     "text": [
      "Traceback (most recent call last):\n",
      "  File \"/vsc-hard-mounts/leuven-data/300/vsc30032/Personas-material/tutorials/basics/sin_plot.py\", line 3, in <module>\n",
      "    import numpy as np\n",
      "ModuleNotFoundError: No module named 'numpy'\n"
     ]
    },
    {
     "ename": "",
     "evalue": "1",
     "output_type": "error",
     "traceback": []
    }
   ],
   "source": [
    "python sin_plot.py"
   ]
  },
  {
   "cell_type": "code",
   "execution_count": 6,
   "id": "44172674-b006-4ca4-9c78-56c006340185",
   "metadata": {
    "tags": []
   },
   "outputs": [
    {
     "name": "stdout",
     "output_type": "stream",
     "text": [
      "\n",
      "----------------------------------------------------------------------------\n",
      "  SciPy-bundle:\n",
      "----------------------------------------------------------------------------\n",
      "    Description:\n",
      "      Bundle of Python packages for scientific software\n",
      "\n",
      "     Versions:\n",
      "        SciPy-bundle/2021.05-foss-2021a\n",
      "        SciPy-bundle/2021.05-intel-2021a\n",
      "\n",
      "----------------------------------------------------------------------------\n",
      "  For detailed information about a specific \"SciPy-bundle\" package (including how to load the modules) use the module's full name.\n",
      "  Note that names that have a trailing (E) are extensions provided by other modules.\n",
      "  For example:\n",
      "\n",
      "     $ module spider SciPy-bundle/2021.05-intel-2021a\n",
      "----------------------------------------------------------------------------\n",
      "\n",
      " \n",
      "\n"
     ]
    }
   ],
   "source": [
    "module spider scipy"
   ]
  },
  {
   "cell_type": "code",
   "execution_count": 1,
   "id": "fb3e138d-bebe-4083-ad4e-4d02b47ed1dd",
   "metadata": {
    "tags": []
   },
   "outputs": [],
   "source": [
    "module load SciPy-bundle/2021.05-foss-2021a"
   ]
  },
  {
   "cell_type": "code",
   "execution_count": 2,
   "id": "9fa6ef3a-7953-4b44-ab42-0a1658a7ab55",
   "metadata": {
    "tags": []
   },
   "outputs": [
    {
     "name": "stdout",
     "output_type": "stream",
     "text": [
      "Traceback (most recent call last):\n",
      "  File \"/vsc-hard-mounts/leuven-data/300/vsc30032/Personas-material/tutorials/basics/sin_plot.py\", line 4, in <module>\n",
      "    import matplotlib.pyplot as plt\n",
      "ModuleNotFoundError: No module named 'matplotlib'\n"
     ]
    },
    {
     "ename": "",
     "evalue": "1",
     "output_type": "error",
     "traceback": []
    }
   ],
   "source": [
    "python sin_plot.py"
   ]
  },
  {
   "cell_type": "code",
   "execution_count": 3,
   "id": "217f6b0f-afd1-4da9-8928-ab12f97dd94b",
   "metadata": {
    "tags": []
   },
   "outputs": [
    {
     "name": "stdout",
     "output_type": "stream",
     "text": [
      "\n",
      "-------------------- /apps/leuven/icelake/2021a/modules/all --------------------\n",
      "   matplotlib/3.4.2-foss-2021a    matplotlib/3.4.2-intel-2021a (D)\n",
      "\n",
      "  Where:\n",
      "   D:  Default Module\n",
      "\n",
      "If the avail list is too long consider trying:\n",
      "\n",
      "\"module --default avail\" or \"ml -d av\" to just list the default modules.\n",
      "\"module overview\" or \"ml ov\" to display the number of modules for each name.\n",
      "\n",
      "Use \"module spider\" to find all possible modules and extensions.\n",
      "Use \"module keyword key1 key2 ...\" to search for all possible modules matching\n",
      "any of the \"keys\".\n",
      "\n",
      "\n"
     ]
    }
   ],
   "source": [
    "module av matplotlib"
   ]
  },
  {
   "cell_type": "code",
   "execution_count": 4,
   "id": "e76b5a5b-94ff-4912-935f-cb91d7400372",
   "metadata": {
    "tags": []
   },
   "outputs": [],
   "source": [
    "module load matplotlib/3.4.2-foss-2021a"
   ]
  },
  {
   "cell_type": "code",
   "execution_count": 5,
   "id": "62d0ac76-3ab1-475f-a48a-49a96775e5d1",
   "metadata": {
    "tags": []
   },
   "outputs": [],
   "source": [
    "python sin_plot.py"
   ]
  },
  {
   "cell_type": "markdown",
   "id": "8d695c83-8f15-4ee5-a8e6-554f3058cf3b",
   "metadata": {},
   "source": [
    "### Package manager: miniconda"
   ]
  },
  {
   "cell_type": "markdown",
   "id": "193fdf0e-150c-45bb-90cf-1cc531ac03a5",
   "metadata": {},
   "source": [
    "## Summary"
   ]
  },
  {
   "cell_type": "markdown",
   "id": "1410d5e8-4e7f-415f-ae55-8a5fa49fb185",
   "metadata": {},
   "source": [
    "## Where to go from here?"
   ]
  }
 ],
 "metadata": {
  "kernelspec": {
   "display_name": "Bash (ipykernel)",
   "language": "bash",
   "name": "bash"
  },
  "language_info": {
   "codemirror_mode": "shell",
   "file_extension": ".sh",
   "mimetype": "text/x-sh",
   "name": "bash"
  }
 },
 "nbformat": 4,
 "nbformat_minor": 5
}
