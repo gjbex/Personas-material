{
 "cells": [
  {
   "cell_type": "markdown",
   "id": "212e39a3-b55f-43d2-a4ca-689006b4ef63",
   "metadata": {},
   "source": [
    "# HPC intro"
   ]
  },
  {
   "cell_type": "markdown",
   "id": "5f607235-7b96-4d98-a84d-a45d5d527f76",
   "metadata": {},
   "source": [
    "## Using Python"
   ]
  },
  {
   "cell_type": "markdown",
   "id": "6a36e6eb-9671-472e-8043-a676b40ff1f4",
   "metadata": {},
   "source": [
    "Python is of course a very useful programming language for data processing, analysis and visualization.\n",
    "\n",
    "There are many tutorials and courses that will teach you Python, so that is not the scope of this tutorial.  Here you will learn how to run Python on our HPC infrastructure, assuming you are already familiar with the language and packages."
   ]
  },
  {
   "cell_type": "markdown",
   "id": "862edb6d-6a59-4435-9f3c-e13601ff6cc2",
   "metadata": {},
   "source": [
    "### Python scripts"
   ]
  },
  {
   "cell_type": "markdown",
   "id": "30a3fab4-1e0c-4146-9c4c-ef346a094869",
   "metadata": {},
   "source": [
    "Given that Python scripts are simple text files, you can create or modify them using your favorite editor.  You can do this for instance on the infrastructure using `nano`, or on your own system and transfer the finished script or module to the HPC system.\n",
    "\n",
    "To build up gradually, you can start with a very simple script that takes a string as a command line argument, and prints a greeting to standard output.  Your script is stored in a file `hello.py` which could look like this.\n",
    "\n",
    "```\n",
    "#!/usr/bin/env python\n",
    "\n",
    "import argparse\n",
    "\n",
    "\n",
    "arg_parser = argparse.ArgumentParser(description='say hello')\n",
    "arg_parser.add_argument('name', help='who to say hello to')\n",
    "options = arg_parser.parse_args()\n",
    "\n",
    "print('Hello ' + options.name + '!')\n",
    "```\n",
    "\n",
    "The only module used in this script, `argparse` is in Python's standard library, and the script has been written in such a way that it will work with any version of Python.  In practice, use f-strings, and a recent version of Python."
   ]
  },
  {
   "cell_type": "markdown",
   "id": "9bdd4dd3-465e-40d8-995f-a07161856d7a",
   "metadata": {},
   "source": [
    "### Running simple scripts"
   ]
  },
  {
   "cell_type": "markdown",
   "id": "976cea0c-d222-4838-b03b-6e9adf13f4d9",
   "metadata": {},
   "source": [
    "You can run it by giving it as a command line argument to the Python interpreter."
   ]
  },
  {
   "cell_type": "code",
   "execution_count": 3,
   "id": "5f63a009-9c86-44ee-a23f-bae6e2b52931",
   "metadata": {
    "tags": []
   },
   "outputs": [
    {
     "name": "stdout",
     "output_type": "stream",
     "text": [
      "Hello there!\n"
     ]
    }
   ],
   "source": [
    "python hello.py there"
   ]
  },
  {
   "cell_type": "markdown",
   "id": "b30e3c53-f673-4f65-aaec-d4df1c39e45b",
   "metadata": {},
   "source": [
    "You can of course easily check which version of Python is used to run your script, as well as where it is installed on the system."
   ]
  },
  {
   "cell_type": "code",
   "execution_count": 4,
   "id": "d76d6a18-bdd9-47fb-882f-d7aaf04257e7",
   "metadata": {
    "tags": []
   },
   "outputs": [
    {
     "name": "stdout",
     "output_type": "stream",
     "text": [
      "Python 3.6.8\n"
     ]
    }
   ],
   "source": [
    "python --version"
   ]
  },
  {
   "cell_type": "code",
   "execution_count": 5,
   "id": "d9816deb-bcc7-4fbf-bc8a-fba7b7af2c0a",
   "metadata": {
    "tags": []
   },
   "outputs": [
    {
     "name": "stdout",
     "output_type": "stream",
     "text": [
      "/usr/bin/python\n"
     ]
    }
   ],
   "source": [
    "which python"
   ]
  },
  {
   "cell_type": "markdown",
   "id": "a21fa7b7-7d3e-4252-92a0-10413f497d44",
   "metadata": {},
   "source": [
    "However, often the version of the Python interpreter that comes with the operating system is not the one you would like to use, or you want to use Python packages that are not installed, so what can you do?\n",
    "\n",
    "Here, we will assume that you have a (fairly simple) script that computes a function for an array of floating point values, and that writes a line plot that shows the results to a file.\n",
    "\n",
    "```\n",
    "#!/usr/bin/env python\n",
    "\n",
    "import matplotlib.pyplot as plt\n",
    "import numpy as np\n",
    "\n",
    "\n",
    "x = np.linspace(-2*np.pi, 2*np.pi, 501)\n",
    "y = np.sin(x)\n",
    "\n",
    "plt.plot(x, y, '-')\n",
    "plt.savefig('sin.png')\n",
    "```\n",
    "\n",
    "This script requires both the numpy and matplotlib packages, running it with the default Python interpreter is not going to be a big success."
   ]
  },
  {
   "cell_type": "code",
   "execution_count": 7,
   "id": "3bdbe126-28a4-41f5-a7a0-f3205a2715a4",
   "metadata": {
    "tags": []
   },
   "outputs": [
    {
     "name": "stdout",
     "output_type": "stream",
     "text": [
      "Traceback (most recent call last):\n",
      "  File \"sin_plot.py\", line 3, in <module>\n",
      "    import numpy as np\n",
      "ModuleNotFoundError: No module named 'numpy'\n"
     ]
    },
    {
     "ename": "",
     "evalue": "1",
     "output_type": "error",
     "traceback": []
    }
   ],
   "source": [
    "python sin_plot.py"
   ]
  },
  {
   "cell_type": "markdown",
   "id": "2c4ad69d-3804-4115-b394-f16409b1d3ec",
   "metadata": {},
   "source": [
    "As it happens, there are quite a number of options,\n",
    "\n",
    "  1. install packages in your home directory's `.local` directory using `pip`;\n",
    "     * advantages: fairly straightforward\n",
    "     * disadvantages: sure to create a dependency mess later on, performance is likely to be an issue\n",
    "     * conclusion: *please don't*\n",
    "  1. use the module system and Python versions and packages installed by your system administrator;\n",
    "     * advantages: typically excellent performance\n",
    "     * disadvantages: since system administrators really can't install any and all Python packages, you\n",
    "       may have to install some packages yourself anyway\n",
    "     * conclusion: perfect if you have no requirements beyond the packages that are available\n",
    "  1. use a package manager such as [miniconda](https://docs.conda.io/en/latest/miniconda.html)\n",
    "     or [mamba](https://github.com/mamba-org/mamba)\n",
    "     * advantages: you have full control over the versions of Python and all packages\n",
    "     * disadvantages: unless you know what you are doing, performance may be an issue\n",
    "     * conclusion: way to go if you know what you are doing\n",
    "  1. use [apptainer](https://apptainer.org/) or [podman](https://podman.io/) containers\n",
    "     * advantages: if you know what you are doing, you can create a reproducible environment that is\n",
    "       portable across systems\n",
    "     * disadvantages: more involved than the other approaches, with considerable pitfalls\n",
    "     * conclusion: not for the faint of heart\n",
    "    \n",
    "Given that the first option is not recommended at all, and the fourth goes beyond the scope of this tutorial, you will learn how to\n",
    "\n",
    "  * use the module system\n",
    "  * install and use miniconda"
   ]
  },
  {
   "cell_type": "markdown",
   "id": "e4cdba08-f7d4-42c9-96c5-f4384770821b",
   "metadata": {},
   "source": [
    "### Software module system"
   ]
  },
  {
   "cell_type": "markdown",
   "id": "74672696-e769-48ab-8e19-001f89c1522b",
   "metadata": {},
   "source": [
    "An HPC system is almost by definition"
   ]
  },
  {
   "cell_type": "code",
   "execution_count": 8,
   "id": "c91818f8-d689-444b-9e98-65f8c29ae03b",
   "metadata": {
    "tags": []
   },
   "outputs": [
    {
     "name": "stdout",
     "output_type": "stream",
     "text": [
      "\n",
      "-------------------- /apps/leuven/icelake/2021a/modules/all --------------------\n",
      "   Bazaar/2.7.0-GCCcore-10.3.0-Python-2.7.18\n",
      "   Boost.Python/1.76.0-GCC-10.3.0\n",
      "   CGAL/4.11.1-foss-2021a-Python-3.9.5\n",
      "   DOLFIN/2019.1.0.post0-foss-2021a-Python-3.9.5-SuperLU_DIST\n",
      "   DOLFIN/2019.1.0.post0-foss-2021a-Python-3.9.5              (D)\n",
      "   FFC/2018.1.0-foss-2021a-Python-3.9.5\n",
      "   FFC/2019.1.0.post0-foss-2021a-Python-3.9.5                 (D)\n",
      "   FIAT/2018.1.0-foss-2021a-Python-3.9.5\n",
      "   FIAT/2019.1.0-foss-2021a-Python-3.9.5                      (D)\n",
      "   PLY/3.11-foss-2021a-Python-3.9.5\n",
      "   Python/2.7.18-GCCcore-10.3.0-bare\n",
      "   Python/3.9.5-GCCcore-10.3.0-bare\n",
      "   Python/3.9.5-GCCcore-10.3.0\n",
      "   Python/3.10.8-GCCcore-10.3.0-bare                          (D)\n",
      "   UFL/2018.1.0-foss-2021a-Python-3.9.5\n",
      "   UFL/2019.1.0-foss-2021a-Python-3.9.5                       (D)\n",
      "   dijitso/2019.1.0-foss-2021a-Python-3.9.5\n",
      "   mshr/2019.1.0-foss-2021a-Python-3.9.5\n",
      "   pkgconfig/1.5.4-GCCcore-10.3.0-python\n",
      "   protobuf-python/3.17.3-GCCcore-10.3.0\n",
      "   spglib-python/1.16.1-foss-2021a\n",
      "   spglib-python/1.16.1-intel-2021a                           (D)\n",
      "\n",
      "----------------------- /apps/leuven/common/modules/all ------------------------\n",
      "   RAPIDS/22.10-CUDA-11.5-runtime-Ubuntu-18.04-Python-3.9-singularity (L)\n",
      "   vsc-python-irodsclient/0.1-python-irodsclient-0.8.4\n",
      "\n",
      "  Where:\n",
      "   D:  Default Module\n",
      "   L:  Module is loaded\n",
      "\n",
      "If the avail list is too long consider trying:\n",
      "\n",
      "\"module --default avail\" or \"ml -d av\" to just list the default modules.\n",
      "\"module overview\" or \"ml ov\" to display the number of modules for each name.\n",
      "\n",
      "Use \"module spider\" to find all possible modules and extensions.\n",
      "Use \"module keyword key1 key2 ...\" to search for all possible modules matching\n",
      "any of the \"keys\".\n",
      "\n",
      "\n"
     ]
    }
   ],
   "source": [
    "module av Python"
   ]
  },
  {
   "cell_type": "code",
   "execution_count": 9,
   "id": "a03283bb-cd35-4868-b4c8-3f58fe32079e",
   "metadata": {
    "tags": []
   },
   "outputs": [],
   "source": [
    "module load Python/3.10.8-GCCcore-10.3.0-bare"
   ]
  },
  {
   "cell_type": "code",
   "execution_count": 10,
   "id": "9498284d-a2c8-4e7c-be16-d575814fd0fc",
   "metadata": {
    "tags": []
   },
   "outputs": [
    {
     "name": "stdout",
     "output_type": "stream",
     "text": [
      "Python 3.10.8\n"
     ]
    }
   ],
   "source": [
    "python --version"
   ]
  },
  {
   "cell_type": "code",
   "execution_count": 11,
   "id": "00f218a5-5a27-4596-9db5-74eb71a85fb8",
   "metadata": {
    "tags": []
   },
   "outputs": [
    {
     "name": "stdout",
     "output_type": "stream",
     "text": [
      "/apps/leuven/icelake/2021a/software/Python/3.10.8-GCCcore-10.3.0-bare/bin/python\n"
     ]
    }
   ],
   "source": [
    "which python"
   ]
  },
  {
   "cell_type": "code",
   "execution_count": 12,
   "id": "f42f1bb2-6cb5-4e5e-ab8f-7005f6f2042f",
   "metadata": {
    "tags": []
   },
   "outputs": [
    {
     "name": "stdout",
     "output_type": "stream",
     "text": [
      "Traceback (most recent call last):\n",
      "  File \"/vsc-hard-mounts/leuven-data/300/vsc30032/Personas-material/tutorials/basics/sin_plot.py\", line 3, in <module>\n",
      "    import numpy as np\n",
      "ModuleNotFoundError: No module named 'numpy'\n"
     ]
    },
    {
     "ename": "",
     "evalue": "1",
     "output_type": "error",
     "traceback": []
    }
   ],
   "source": [
    "python sin_plot.py"
   ]
  },
  {
   "cell_type": "code",
   "execution_count": 6,
   "id": "44172674-b006-4ca4-9c78-56c006340185",
   "metadata": {
    "tags": []
   },
   "outputs": [
    {
     "name": "stdout",
     "output_type": "stream",
     "text": [
      "\n",
      "----------------------------------------------------------------------------\n",
      "  SciPy-bundle:\n",
      "----------------------------------------------------------------------------\n",
      "    Description:\n",
      "      Bundle of Python packages for scientific software\n",
      "\n",
      "     Versions:\n",
      "        SciPy-bundle/2021.05-foss-2021a\n",
      "        SciPy-bundle/2021.05-intel-2021a\n",
      "\n",
      "----------------------------------------------------------------------------\n",
      "  For detailed information about a specific \"SciPy-bundle\" package (including how to load the modules) use the module's full name.\n",
      "  Note that names that have a trailing (E) are extensions provided by other modules.\n",
      "  For example:\n",
      "\n",
      "     $ module spider SciPy-bundle/2021.05-intel-2021a\n",
      "----------------------------------------------------------------------------\n",
      "\n",
      " \n",
      "\n"
     ]
    }
   ],
   "source": [
    "module spider scipy"
   ]
  },
  {
   "cell_type": "code",
   "execution_count": 1,
   "id": "fb3e138d-bebe-4083-ad4e-4d02b47ed1dd",
   "metadata": {
    "tags": []
   },
   "outputs": [],
   "source": [
    "module load SciPy-bundle/2021.05-foss-2021a"
   ]
  },
  {
   "cell_type": "code",
   "execution_count": 2,
   "id": "9fa6ef3a-7953-4b44-ab42-0a1658a7ab55",
   "metadata": {
    "tags": []
   },
   "outputs": [
    {
     "name": "stdout",
     "output_type": "stream",
     "text": [
      "Traceback (most recent call last):\n",
      "  File \"/vsc-hard-mounts/leuven-data/300/vsc30032/Personas-material/tutorials/basics/sin_plot.py\", line 4, in <module>\n",
      "    import matplotlib.pyplot as plt\n",
      "ModuleNotFoundError: No module named 'matplotlib'\n"
     ]
    },
    {
     "ename": "",
     "evalue": "1",
     "output_type": "error",
     "traceback": []
    }
   ],
   "source": [
    "python sin_plot.py"
   ]
  },
  {
   "cell_type": "code",
   "execution_count": 3,
   "id": "217f6b0f-afd1-4da9-8928-ab12f97dd94b",
   "metadata": {
    "tags": []
   },
   "outputs": [
    {
     "name": "stdout",
     "output_type": "stream",
     "text": [
      "\n",
      "-------------------- /apps/leuven/icelake/2021a/modules/all --------------------\n",
      "   matplotlib/3.4.2-foss-2021a    matplotlib/3.4.2-intel-2021a (D)\n",
      "\n",
      "  Where:\n",
      "   D:  Default Module\n",
      "\n",
      "If the avail list is too long consider trying:\n",
      "\n",
      "\"module --default avail\" or \"ml -d av\" to just list the default modules.\n",
      "\"module overview\" or \"ml ov\" to display the number of modules for each name.\n",
      "\n",
      "Use \"module spider\" to find all possible modules and extensions.\n",
      "Use \"module keyword key1 key2 ...\" to search for all possible modules matching\n",
      "any of the \"keys\".\n",
      "\n",
      "\n"
     ]
    }
   ],
   "source": [
    "module av matplotlib"
   ]
  },
  {
   "cell_type": "code",
   "execution_count": 4,
   "id": "e76b5a5b-94ff-4912-935f-cb91d7400372",
   "metadata": {
    "tags": []
   },
   "outputs": [],
   "source": [
    "module load matplotlib/3.4.2-foss-2021a"
   ]
  },
  {
   "cell_type": "code",
   "execution_count": 5,
   "id": "62d0ac76-3ab1-475f-a48a-49a96775e5d1",
   "metadata": {
    "tags": []
   },
   "outputs": [],
   "source": [
    "python sin_plot.py"
   ]
  },
  {
   "cell_type": "markdown",
   "id": "8d695c83-8f15-4ee5-a8e6-554f3058cf3b",
   "metadata": {},
   "source": [
    "### Package manager: miniconda"
   ]
  },
  {
   "cell_type": "markdown",
   "id": "307aac3b-6ed1-4208-9b2c-f4b7fbcb8e03",
   "metadata": {},
   "source": [
    "Although using the module system guarantees that you will use a version of Python and packages that give you good performance, this approach may not be flexible enough for you.  You may want to use other versions of Python or packages than provided through the module system, or even use packages that are not provided at all.\n",
    "\n",
    "Of course, you can ask the helpdesk to install them for you, but typically this is only done for packages that are used fairly frequently.\n",
    "\n",
    "Using a package manager such as miniconda can help you with this issue.  Moreover, using conda environments helps you manage your dependencies and keep them sane.  With respect to reproducable computations, they are a great help as well since you can freeze an environment for a particular project and be sure that it will run with the identical software stack at a later stage."
   ]
  },
  {
   "cell_type": "markdown",
   "id": "11c51826-038e-4923-a41a-194434b6c696",
   "metadata": {},
   "source": [
    "#### Installing miniconda"
   ]
  },
  {
   "cell_type": "markdown",
   "id": "e812b43b-aae6-495c-8ccc-9ce4bbe66006",
   "metadata": {},
   "source": [
    "The first step is to download the miniconda installer script, and that is easy to do on the cluster itself using `wget`, a command line tool for downloading files from the web (and much more, but that is outside the scope of this tutorial)."
   ]
  },
  {
   "cell_type": "code",
   "execution_count": 1,
   "id": "816842c7-2f94-4e97-a8c0-7b520404be38",
   "metadata": {
    "tags": []
   },
   "outputs": [
    {
     "name": "stdout",
     "output_type": "stream",
     "text": [
      "--2023-07-06 12:28:56--  https://repo.anaconda.com/miniconda/Miniconda3-latest-Linux-x86_64.sh\n",
      "Resolving repo.anaconda.com (repo.anaconda.com)... 2606:4700::6810:8203, 2606:4700::6810:8303, 104.16.130.3, ...\n",
      "Connecting to repo.anaconda.com (repo.anaconda.com)|2606:4700::6810:8203|:443... connected.\n",
      "HTTP request sent, awaiting response... 200 OK\n",
      "Length: 73134376 (70M) [application/x-sh]\n",
      "Saving to: ‘Miniconda3-latest-Linux-x86_64.sh’\n",
      "\n",
      "Miniconda3-latest-L 100%[===================>]  69.75M   226MB/s    in 0.3s    \n",
      "\n",
      "2023-07-06 12:28:56 (226 MB/s) - ‘Miniconda3-latest-Linux-x86_64.sh’ saved [73134376/73134376]\n",
      "\n"
     ]
    }
   ],
   "source": [
    " wget https://repo.anaconda.com/miniconda/Miniconda3-latest-Linux-x86_64.sh"
   ]
  },
  {
   "cell_type": "markdown",
   "id": "454d9dac-9728-4c98-93ba-72437f2b1abc",
   "metadata": {},
   "source": [
    "You can verify that the installer was downloaded, it is a shell script with the `.sh` extension."
   ]
  },
  {
   "cell_type": "code",
   "execution_count": 2,
   "id": "5e146c58-a5fe-4ee9-8544-ed07e1d136d8",
   "metadata": {
    "tags": []
   },
   "outputs": [
    {
     "name": "stdout",
     "output_type": "stream",
     "text": [
      "001_artefacts\t\t\t 002_running_python.ipynb\t    README.md\n",
      "001_files_and_directories.ipynb  hello.py\t\t\t    sin_plot.py\n",
      "002_artefacts\t\t\t Miniconda3-latest-Linux-x86_64.sh  sin.png\n"
     ]
    }
   ],
   "source": [
    "ls"
   ]
  },
  {
   "cell_type": "markdown",
   "id": "f5cf6271-058b-4d77-936b-247c43f18e17",
   "metadata": {},
   "source": [
    "It is important to install miniconda in your data directory since this directory will also contain all your environments, and this can easily run into the gigabytes of storage after a short while.  Thiss would exceed the quota of your home directory.  You can specify the directory where you want to install using the `-p` option."
   ]
  },
  {
   "cell_type": "code",
   "execution_count": 6,
   "id": "5e2cb352-4cda-46df-b291-bd79fd6262aa",
   "metadata": {
    "tags": []
   },
   "outputs": [
    {
     "name": "stdout",
     "output_type": "stream",
     "text": [
      "PREFIX=/data/leuven/300/vsc30032/miniconda3\n",
      "Unpacking payload ...\n",
      "                                                                                \n",
      "Installing base environment...\n",
      "\n",
      "\n",
      "Downloading and Extracting Packages\n",
      "\n",
      "\n",
      "Downloading and Extracting Packages\n",
      "\n",
      "Preparing transaction: done\n",
      "Executing transaction: done\n",
      "installation finished.\n"
     ]
    }
   ],
   "source": [
    "bash Miniconda3-latest-Linux-x86_64.sh -b -p $VSC_DATA/miniconda3"
   ]
  },
  {
   "cell_type": "markdown",
   "id": "d70eab90-75c6-4948-b8e2-c32892364604",
   "metadata": {},
   "source": [
    "You can make miniconda more convenient to use by adding some configuration information to the files that control your settings.  This is easy using the following command."
   ]
  },
  {
   "cell_type": "code",
   "execution_count": 7,
   "id": "41a2b791-2d6f-4915-8cf8-e0837c6fb602",
   "metadata": {
    "tags": []
   },
   "outputs": [
    {
     "name": "stdout",
     "output_type": "stream",
     "text": [
      "no change     /data/leuven/300/vsc30032/miniconda3/condabin/conda\n",
      "no change     /data/leuven/300/vsc30032/miniconda3/bin/conda\n",
      "no change     /data/leuven/300/vsc30032/miniconda3/bin/conda-env\n",
      "no change     /data/leuven/300/vsc30032/miniconda3/bin/activate\n",
      "no change     /data/leuven/300/vsc30032/miniconda3/bin/deactivate\n",
      "no change     /data/leuven/300/vsc30032/miniconda3/etc/profile.d/conda.sh\n",
      "no change     /data/leuven/300/vsc30032/miniconda3/etc/fish/conf.d/conda.fish\n",
      "no change     /data/leuven/300/vsc30032/miniconda3/shell/condabin/Conda.psm1\n",
      "no change     /data/leuven/300/vsc30032/miniconda3/shell/condabin/conda-hook.ps1\n",
      "no change     /data/leuven/300/vsc30032/miniconda3/lib/python3.10/site-packages/xontrib/conda.xsh\n",
      "no change     /data/leuven/300/vsc30032/miniconda3/etc/profile.d/conda.csh\n",
      "no change     /user/leuven/300/vsc30032/.bashrc\n",
      "No action taken.\n"
     ]
    }
   ],
   "source": [
    "$VSC_DATA/miniconda3/bin/conda init"
   ]
  },
  {
   "cell_type": "markdown",
   "id": "24b9d90b-81e4-45b1-bdb8-68b3830e1571",
   "metadata": {},
   "source": [
    "To make these new settings active for this notebook, you should reload your `.bashrc` file by sourcing it."
   ]
  },
  {
   "cell_type": "code",
   "execution_count": 8,
   "id": "e5384148-e36f-446e-bfa3-ab91d77ff3f2",
   "metadata": {
    "tags": []
   },
   "outputs": [
    {
     "name": "stdout",
     "output_type": "stream",
     "text": [
      "(base) \n"
     ]
    },
    {
     "ename": "",
     "evalue": "1",
     "output_type": "error",
     "traceback": []
    }
   ],
   "source": [
    "source ~/.bashrc"
   ]
  },
  {
   "cell_type": "markdown",
   "id": "a5565dd8-ea25-4e2d-a753-12359319d847",
   "metadata": {},
   "source": [
    "Clearly, you have to do this only once.  Now you are ready to use `conda` conveniently and create your first environment."
   ]
  },
  {
   "cell_type": "markdown",
   "id": "f85a6ee4-e355-4e2c-99be-2fe395d0bed3",
   "metadata": {},
   "source": [
    "#### Create an environment"
   ]
  },
  {
   "cell_type": "markdown",
   "id": "89e806fe-ccef-41c6-8218-a18c8eac0509",
   "metadata": {},
   "source": [
    "To create a new environment, you have to specify a name, e.g., `tutorial` for this example, and a list of packagesyou would like to include, e.g., `numpy`.  Of course, you also want matplotlib, but for the sake of this tutorial, you'll do that later so that you also know how to install new packages in an existing environment."
   ]
  },
  {
   "cell_type": "code",
   "execution_count": 2,
   "id": "239cfaa7-bbe5-4632-b5cb-4769d9c155fe",
   "metadata": {
    "tags": []
   },
   "outputs": [
    {
     "name": "stdout",
     "output_type": "stream",
     "text": [
      "Collecting package metadata (current_repodata.json): ...working... done\n",
      "Solving environment: ...working... done\n",
      "\n",
      "## Package Plan ##\n",
      "\n",
      "  environment location: /data/leuven/300/vsc30032/miniconda3/envs/tutorial\n",
      "\n",
      "  added / updated specs:\n",
      "    - numpy\n",
      "\n",
      "\n",
      "The following packages will be downloaded:\n",
      "\n",
      "    package                    |            build\n",
      "    ---------------------------|-----------------\n",
      "    blas-1.0                   |              mkl           6 KB\n",
      "    ca-certificates-2023.05.30 |       h06a4308_0         120 KB\n",
      "    intel-openmp-2023.1.0      |   hdb19cb5_46305        17.1 MB\n",
      "    libffi-3.4.4               |       h6a678d5_0         142 KB\n",
      "    mkl-2023.1.0               |   h6d00ec8_46342       171.5 MB\n",
      "    mkl-service-2.4.0          |  py311h5eee18b_1          54 KB\n",
      "    mkl_fft-1.3.6              |  py311ha02d727_1         217 KB\n",
      "    mkl_random-1.2.2           |  py311ha02d727_1         291 KB\n",
      "    numpy-1.25.0               |  py311h08b1b3b_0          12 KB\n",
      "    numpy-base-1.25.0          |  py311hf175353_0         8.1 MB\n",
      "    openssl-3.0.9              |       h7f8727e_0         5.2 MB\n",
      "    pip-23.1.2                 |  py311h06a4308_0         3.2 MB\n",
      "    python-3.11.3              |       h955ad1f_1        32.6 MB\n",
      "    setuptools-67.8.0          |  py311h06a4308_0         1.4 MB\n",
      "    sqlite-3.41.2              |       h5eee18b_0         1.2 MB\n",
      "    tbb-2021.8.0               |       hdb19cb5_0         1.6 MB\n",
      "    wheel-0.38.4               |  py311h06a4308_0          79 KB\n",
      "    xz-5.4.2                   |       h5eee18b_0         642 KB\n",
      "    ------------------------------------------------------------\n",
      "                                           Total:       243.6 MB\n",
      "\n",
      "The following NEW packages will be INSTALLED:\n",
      "\n",
      "  _libgcc_mutex      pkgs/main/linux-64::_libgcc_mutex-0.1-main \n",
      "  _openmp_mutex      pkgs/main/linux-64::_openmp_mutex-5.1-1_gnu \n",
      "  blas               pkgs/main/linux-64::blas-1.0-mkl \n",
      "  bzip2              pkgs/main/linux-64::bzip2-1.0.8-h7b6447c_0 \n",
      "  ca-certificates    pkgs/main/linux-64::ca-certificates-2023.05.30-h06a4308_0 \n",
      "  intel-openmp       pkgs/main/linux-64::intel-openmp-2023.1.0-hdb19cb5_46305 \n",
      "  ld_impl_linux-64   pkgs/main/linux-64::ld_impl_linux-64-2.38-h1181459_1 \n",
      "  libffi             pkgs/main/linux-64::libffi-3.4.4-h6a678d5_0 \n",
      "  libgcc-ng          pkgs/main/linux-64::libgcc-ng-11.2.0-h1234567_1 \n",
      "  libgomp            pkgs/main/linux-64::libgomp-11.2.0-h1234567_1 \n",
      "  libstdcxx-ng       pkgs/main/linux-64::libstdcxx-ng-11.2.0-h1234567_1 \n",
      "  libuuid            pkgs/main/linux-64::libuuid-1.41.5-h5eee18b_0 \n",
      "  mkl                pkgs/main/linux-64::mkl-2023.1.0-h6d00ec8_46342 \n",
      "  mkl-service        pkgs/main/linux-64::mkl-service-2.4.0-py311h5eee18b_1 \n",
      "  mkl_fft            pkgs/main/linux-64::mkl_fft-1.3.6-py311ha02d727_1 \n",
      "  mkl_random         pkgs/main/linux-64::mkl_random-1.2.2-py311ha02d727_1 \n",
      "  ncurses            pkgs/main/linux-64::ncurses-6.4-h6a678d5_0 \n",
      "  numpy              pkgs/main/linux-64::numpy-1.25.0-py311h08b1b3b_0 \n",
      "  numpy-base         pkgs/main/linux-64::numpy-base-1.25.0-py311hf175353_0 \n",
      "  openssl            pkgs/main/linux-64::openssl-3.0.9-h7f8727e_0 \n",
      "  pip                pkgs/main/linux-64::pip-23.1.2-py311h06a4308_0 \n",
      "  python             pkgs/main/linux-64::python-3.11.3-h955ad1f_1 \n",
      "  readline           pkgs/main/linux-64::readline-8.2-h5eee18b_0 \n",
      "  setuptools         pkgs/main/linux-64::setuptools-67.8.0-py311h06a4308_0 \n",
      "  sqlite             pkgs/main/linux-64::sqlite-3.41.2-h5eee18b_0 \n",
      "  tbb                pkgs/main/linux-64::tbb-2021.8.0-hdb19cb5_0 \n",
      "  tk                 pkgs/main/linux-64::tk-8.6.12-h1ccaba5_0 \n",
      "  tzdata             pkgs/main/noarch::tzdata-2023c-h04d1e81_0 \n",
      "  wheel              pkgs/main/linux-64::wheel-0.38.4-py311h06a4308_0 \n",
      "  xz                 pkgs/main/linux-64::xz-5.4.2-h5eee18b_0 \n",
      "  zlib               pkgs/main/linux-64::zlib-1.2.13-h5eee18b_0 \n",
      "\n",
      "\n",
      "Preparing transaction: ...working... done\n",
      "Verifying transaction: ...working... done\n",
      "Executing transaction: ...working... done\n"
     ]
    }
   ],
   "source": [
    "conda create -y -q -n tutorial numpy"
   ]
  },
  {
   "cell_type": "markdown",
   "id": "642761d0-15da-4061-9a04-b6633965966c",
   "metadata": {},
   "source": [
    "#### Activating an environment"
   ]
  },
  {
   "cell_type": "markdown",
   "id": "4ae16ee7-d124-42c8-9ed1-2f8b168b9b72",
   "metadata": {},
   "source": [
    "To use an environment, you have to activate it.  You can do this as follows."
   ]
  },
  {
   "cell_type": "code",
   "execution_count": 3,
   "id": "c4c26057-f39d-4f91-b42b-40177d2ec4b3",
   "metadata": {
    "tags": []
   },
   "outputs": [
    {
     "name": "stdout",
     "output_type": "stream",
     "text": [
      "(tutorial) \n"
     ]
    },
    {
     "ename": "",
     "evalue": "1",
     "output_type": "error",
     "traceback": []
    }
   ],
   "source": [
    "conda activate tutorial"
   ]
  },
  {
   "cell_type": "markdown",
   "id": "cfbc659d-27d9-4fb6-9e64-cc5dab0dda5c",
   "metadata": {},
   "source": [
    "When you are done, you can deactivate the currently active environment very easily."
   ]
  },
  {
   "cell_type": "code",
   "execution_count": 5,
   "id": "581cf47f-d45d-4a5f-8bc7-ee6a87092fbb",
   "metadata": {
    "tags": []
   },
   "outputs": [
    {
     "name": "stdout",
     "output_type": "stream",
     "text": [
      "(base) \n"
     ]
    },
    {
     "ename": "",
     "evalue": "1",
     "output_type": "error",
     "traceback": []
    }
   ],
   "source": [
    "conda deactivate"
   ]
  },
  {
   "cell_type": "markdown",
   "id": "aadf3c87-19ae-4398-83a8-f4f4515ffc7b",
   "metadata": {},
   "source": [
    "#### Installing packages"
   ]
  },
  {
   "cell_type": "markdown",
   "id": "488a214f-a1fa-47e9-80f2-3da2d2c53ecf",
   "metadata": {},
   "source": [
    "You still need to install matplotlib.  Since you can only install packages in an active environment, make sure that the one you want to install in is active."
   ]
  },
  {
   "cell_type": "code",
   "execution_count": 1,
   "id": "1c844ec3-9269-4516-8be5-58a9b5b97f80",
   "metadata": {
    "tags": []
   },
   "outputs": [
    {
     "name": "stdout",
     "output_type": "stream",
     "text": [
      "(tutorial) \n"
     ]
    },
    {
     "ename": "",
     "evalue": "1",
     "output_type": "error",
     "traceback": []
    }
   ],
   "source": [
    "conda activate tutorial"
   ]
  },
  {
   "cell_type": "markdown",
   "id": "d046353e-c476-48d2-a902-3057d2b7a00a",
   "metadata": {},
   "source": [
    "To install matplotlib, you can use `conda install`."
   ]
  },
  {
   "cell_type": "code",
   "execution_count": 4,
   "id": "cb599ec9-8736-404f-b3b3-fd0796c729e8",
   "metadata": {
    "tags": []
   },
   "outputs": [
    {
     "name": "stdout",
     "output_type": "stream",
     "text": [
      "Collecting package metadata (current_repodata.json): ...working... done\n",
      "Solving environment: ...working... done\n",
      "\n",
      "## Package Plan ##\n",
      "\n",
      "  environment location: /data/leuven/300/vsc30032/miniconda3/envs/tutorial\n",
      "\n",
      "  added / updated specs:\n",
      "    - matplotlib\n",
      "\n",
      "\n",
      "The following packages will be downloaded:\n",
      "\n",
      "    package                    |            build\n",
      "    ---------------------------|-----------------\n",
      "    brotli-1.0.9               |       h5eee18b_7          18 KB\n",
      "    brotli-bin-1.0.9           |       h5eee18b_7          19 KB\n",
      "    contourpy-1.0.5            |  py311hdb19cb5_0         212 KB\n",
      "    cycler-0.11.0              |     pyhd3eb1b0_0          12 KB\n",
      "    dbus-1.13.18               |       hb2f20db_0         504 KB\n",
      "    expat-2.4.9                |       h6a678d5_0         156 KB\n",
      "    fontconfig-2.14.1          |       h52c9d5c_1         281 KB\n",
      "    fonttools-4.25.0           |     pyhd3eb1b0_0         632 KB\n",
      "    freetype-2.12.1            |       h4a9f257_0         626 KB\n",
      "    giflib-5.2.1               |       h5eee18b_3          80 KB\n",
      "    glib-2.69.1                |       he621ea3_2         1.9 MB\n",
      "    gst-plugins-base-1.14.1    |       h6a678d5_1         2.2 MB\n",
      "    gstreamer-1.14.1           |       h5eee18b_1         1.7 MB\n",
      "    icu-58.2                   |       he6710b0_3        10.5 MB\n",
      "    jpeg-9e                    |       h5eee18b_1         262 KB\n",
      "    kiwisolver-1.4.4           |  py311h6a678d5_0          70 KB\n",
      "    krb5-1.20.1                |       h143b758_1         1.3 MB\n",
      "    lcms2-2.12                 |       h3be6417_0         312 KB\n",
      "    lerc-3.0                   |       h295c915_0         196 KB\n",
      "    libbrotlicommon-1.0.9      |       h5eee18b_7          70 KB\n",
      "    libbrotlidec-1.0.9         |       h5eee18b_7          31 KB\n",
      "    libbrotlienc-1.0.9         |       h5eee18b_7         264 KB\n",
      "    libclang-10.0.1            |default_hb85057a_2        10.8 MB\n",
      "    libdeflate-1.17            |       h5eee18b_0          69 KB\n",
      "    libedit-3.1.20221030       |       h5eee18b_0         181 KB\n",
      "    libevent-2.1.12            |       hdbd6064_1         453 KB\n",
      "    libllvm10-10.0.1           |       hbcb73fb_5        22.1 MB\n",
      "    libpng-1.6.39              |       h5eee18b_0         304 KB\n",
      "    libpq-12.15                |       hdbd6064_1         2.4 MB\n",
      "    libtiff-4.5.0              |       h6a678d5_2         479 KB\n",
      "    libwebp-1.2.4              |       h11a3e52_1          86 KB\n",
      "    libwebp-base-1.2.4         |       h5eee18b_1         376 KB\n",
      "    libxcb-1.15                |       h7f8727e_0         505 KB\n",
      "    libxkbcommon-1.0.1         |       hfa300c1_0         483 KB\n",
      "    libxml2-2.9.14             |       h74e7548_0         718 KB\n",
      "    libxslt-1.1.35             |       h4e12654_0         453 KB\n",
      "    lz4-c-1.9.4                |       h6a678d5_0         154 KB\n",
      "    matplotlib-3.7.1           |  py311h06a4308_1           8 KB\n",
      "    matplotlib-base-3.7.1      |  py311ha02d727_1         7.5 MB\n",
      "    munkres-1.1.4              |             py_0          13 KB\n",
      "    nspr-4.35                  |       h6a678d5_0         244 KB\n",
      "    nss-3.89.1                 |       h6a678d5_0         2.1 MB\n",
      "    packaging-23.0             |  py311h06a4308_0          88 KB\n",
      "    pcre-8.45                  |       h295c915_0         207 KB\n",
      "    pillow-9.4.0               |  py311h6a678d5_0         815 KB\n",
      "    ply-3.11                   |  py311h06a4308_0         111 KB\n",
      "    pyparsing-3.0.9            |  py311h06a4308_0         204 KB\n",
      "    pyqt-5.15.7                |  py311h6a678d5_0         5.0 MB\n",
      "    pyqt5-sip-12.11.0          |  py311h6a678d5_0          82 KB\n",
      "    python-dateutil-2.8.2      |     pyhd3eb1b0_0         233 KB\n",
      "    qt-main-5.15.2             |       h327a75a_7        45.1 MB\n",
      "    qt-webengine-5.15.9        |       hd2b0992_4        47.1 MB\n",
      "    qtwebkit-5.212             |       h4eab89a_4        14.3 MB\n",
      "    sip-6.6.2                  |  py311h6a678d5_0         487 KB\n",
      "    toml-0.10.2                |     pyhd3eb1b0_0          20 KB\n",
      "    tornado-6.2                |  py311h5eee18b_0         796 KB\n",
      "    zstd-1.5.5                 |       hc292b87_0         647 KB\n",
      "    ------------------------------------------------------------\n",
      "                                           Total:       185.6 MB\n",
      "\n",
      "The following NEW packages will be INSTALLED:\n",
      "\n",
      "  brotli             pkgs/main/linux-64::brotli-1.0.9-h5eee18b_7 \n",
      "  brotli-bin         pkgs/main/linux-64::brotli-bin-1.0.9-h5eee18b_7 \n",
      "  contourpy          pkgs/main/linux-64::contourpy-1.0.5-py311hdb19cb5_0 \n",
      "  cycler             pkgs/main/noarch::cycler-0.11.0-pyhd3eb1b0_0 \n",
      "  dbus               pkgs/main/linux-64::dbus-1.13.18-hb2f20db_0 \n",
      "  expat              pkgs/main/linux-64::expat-2.4.9-h6a678d5_0 \n",
      "  fontconfig         pkgs/main/linux-64::fontconfig-2.14.1-h52c9d5c_1 \n",
      "  fonttools          pkgs/main/noarch::fonttools-4.25.0-pyhd3eb1b0_0 \n",
      "  freetype           pkgs/main/linux-64::freetype-2.12.1-h4a9f257_0 \n",
      "  giflib             pkgs/main/linux-64::giflib-5.2.1-h5eee18b_3 \n",
      "  glib               pkgs/main/linux-64::glib-2.69.1-he621ea3_2 \n",
      "  gst-plugins-base   pkgs/main/linux-64::gst-plugins-base-1.14.1-h6a678d5_1 \n",
      "  gstreamer          pkgs/main/linux-64::gstreamer-1.14.1-h5eee18b_1 \n",
      "  icu                pkgs/main/linux-64::icu-58.2-he6710b0_3 \n",
      "  jpeg               pkgs/main/linux-64::jpeg-9e-h5eee18b_1 \n",
      "  kiwisolver         pkgs/main/linux-64::kiwisolver-1.4.4-py311h6a678d5_0 \n",
      "  krb5               pkgs/main/linux-64::krb5-1.20.1-h143b758_1 \n",
      "  lcms2              pkgs/main/linux-64::lcms2-2.12-h3be6417_0 \n",
      "  lerc               pkgs/main/linux-64::lerc-3.0-h295c915_0 \n",
      "  libbrotlicommon    pkgs/main/linux-64::libbrotlicommon-1.0.9-h5eee18b_7 \n",
      "  libbrotlidec       pkgs/main/linux-64::libbrotlidec-1.0.9-h5eee18b_7 \n",
      "  libbrotlienc       pkgs/main/linux-64::libbrotlienc-1.0.9-h5eee18b_7 \n",
      "  libclang           pkgs/main/linux-64::libclang-10.0.1-default_hb85057a_2 \n",
      "  libdeflate         pkgs/main/linux-64::libdeflate-1.17-h5eee18b_0 \n",
      "  libedit            pkgs/main/linux-64::libedit-3.1.20221030-h5eee18b_0 \n",
      "  libevent           pkgs/main/linux-64::libevent-2.1.12-hdbd6064_1 \n",
      "  libllvm10          pkgs/main/linux-64::libllvm10-10.0.1-hbcb73fb_5 \n",
      "  libpng             pkgs/main/linux-64::libpng-1.6.39-h5eee18b_0 \n",
      "  libpq              pkgs/main/linux-64::libpq-12.15-hdbd6064_1 \n",
      "  libtiff            pkgs/main/linux-64::libtiff-4.5.0-h6a678d5_2 \n",
      "  libwebp            pkgs/main/linux-64::libwebp-1.2.4-h11a3e52_1 \n",
      "  libwebp-base       pkgs/main/linux-64::libwebp-base-1.2.4-h5eee18b_1 \n",
      "  libxcb             pkgs/main/linux-64::libxcb-1.15-h7f8727e_0 \n",
      "  libxkbcommon       pkgs/main/linux-64::libxkbcommon-1.0.1-hfa300c1_0 \n",
      "  libxml2            pkgs/main/linux-64::libxml2-2.9.14-h74e7548_0 \n",
      "  libxslt            pkgs/main/linux-64::libxslt-1.1.35-h4e12654_0 \n",
      "  lz4-c              pkgs/main/linux-64::lz4-c-1.9.4-h6a678d5_0 \n",
      "  matplotlib         pkgs/main/linux-64::matplotlib-3.7.1-py311h06a4308_1 \n",
      "  matplotlib-base    pkgs/main/linux-64::matplotlib-base-3.7.1-py311ha02d727_1 \n",
      "  munkres            pkgs/main/noarch::munkres-1.1.4-py_0 \n",
      "  nspr               pkgs/main/linux-64::nspr-4.35-h6a678d5_0 \n",
      "  nss                pkgs/main/linux-64::nss-3.89.1-h6a678d5_0 \n",
      "  packaging          pkgs/main/linux-64::packaging-23.0-py311h06a4308_0 \n",
      "  pcre               pkgs/main/linux-64::pcre-8.45-h295c915_0 \n",
      "  pillow             pkgs/main/linux-64::pillow-9.4.0-py311h6a678d5_0 \n",
      "  ply                pkgs/main/linux-64::ply-3.11-py311h06a4308_0 \n",
      "  pyparsing          pkgs/main/linux-64::pyparsing-3.0.9-py311h06a4308_0 \n",
      "  pyqt               pkgs/main/linux-64::pyqt-5.15.7-py311h6a678d5_0 \n",
      "  pyqt5-sip          pkgs/main/linux-64::pyqt5-sip-12.11.0-py311h6a678d5_0 \n",
      "  python-dateutil    pkgs/main/noarch::python-dateutil-2.8.2-pyhd3eb1b0_0 \n",
      "  qt-main            pkgs/main/linux-64::qt-main-5.15.2-h327a75a_7 \n",
      "  qt-webengine       pkgs/main/linux-64::qt-webengine-5.15.9-hd2b0992_4 \n",
      "  qtwebkit           pkgs/main/linux-64::qtwebkit-5.212-h4eab89a_4 \n",
      "  sip                pkgs/main/linux-64::sip-6.6.2-py311h6a678d5_0 \n",
      "  six                pkgs/main/noarch::six-1.16.0-pyhd3eb1b0_1 \n",
      "  toml               pkgs/main/noarch::toml-0.10.2-pyhd3eb1b0_0 \n",
      "  tornado            pkgs/main/linux-64::tornado-6.2-py311h5eee18b_0 \n",
      "  zstd               pkgs/main/linux-64::zstd-1.5.5-hc292b87_0 \n",
      "\n",
      "\n",
      "Preparing transaction: ...working... done\n",
      "Verifying transaction: ...working... done\n",
      "Executing transaction: ...working... done\n",
      "(tutorial) \n"
     ]
    },
    {
     "ename": "",
     "evalue": "1",
     "output_type": "error",
     "traceback": []
    }
   ],
   "source": [
    "conda install -y -q matplotlib"
   ]
  },
  {
   "cell_type": "markdown",
   "id": "5bb39a22-4160-4523-978d-7565b86a6ef4",
   "metadata": {},
   "source": [
    "Note that you can install multiple packages by simply listing them, e.g., `conda install pandas seaborn`.\n",
    "\n",
    "Now you can run `sin_plot.py` in your new `tutorial` environment."
   ]
  },
  {
   "cell_type": "code",
   "execution_count": 4,
   "id": "1325cf23-8eba-4382-9d68-184a03204dcb",
   "metadata": {
    "tags": []
   },
   "outputs": [
    {
     "name": "stdout",
     "output_type": "stream",
     "text": [
      "(tutorial) \n"
     ]
    },
    {
     "ename": "",
     "evalue": "1",
     "output_type": "error",
     "traceback": []
    }
   ],
   "source": [
    "python sin_plot.py"
   ]
  },
  {
   "cell_type": "code",
   "execution_count": 5,
   "id": "c6aea98f-5d77-42f0-8740-4822b09c5305",
   "metadata": {
    "tags": []
   },
   "outputs": [
    {
     "name": "stdout",
     "output_type": "stream",
     "text": [
      "001_artefacts\t\t\t 002_running_python.ipynb\t    README.md\n",
      "001_files_and_directories.ipynb  hello.py\t\t\t    sin_plot.py\n",
      "002_artefacts\t\t\t Miniconda3-latest-Linux-x86_64.sh  sin.png\n",
      "(tutorial) \n"
     ]
    },
    {
     "ename": "",
     "evalue": "1",
     "output_type": "error",
     "traceback": []
    }
   ],
   "source": [
    "ls"
   ]
  },
  {
   "cell_type": "markdown",
   "id": "0f0a21b1-1733-4bf9-92a1-227d60e27027",
   "metadata": {},
   "source": [
    "As you can see, "
   ]
  },
  {
   "cell_type": "markdown",
   "id": "193fdf0e-150c-45bb-90cf-1cc531ac03a5",
   "metadata": {},
   "source": [
    "## Summary"
   ]
  },
  {
   "cell_type": "markdown",
   "id": "1410d5e8-4e7f-415f-ae55-8a5fa49fb185",
   "metadata": {},
   "source": [
    "## Where to go from here?"
   ]
  }
 ],
 "metadata": {
  "kernelspec": {
   "display_name": "Bash (ipykernel)",
   "language": "bash",
   "name": "bash"
  },
  "language_info": {
   "codemirror_mode": "shell",
   "file_extension": ".sh",
   "mimetype": "text/x-sh",
   "name": "bash"
  }
 },
 "nbformat": 4,
 "nbformat_minor": 5
}
