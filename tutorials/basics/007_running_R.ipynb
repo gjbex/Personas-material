{
 "cells": [
  {
   "cell_type": "markdown",
   "id": "c9ea80ed-34f4-4731-b143-601dea3e720d",
   "metadata": {},
   "source": [
    "# HPC intro"
   ]
  },
  {
   "cell_type": "markdown",
   "id": "e6cebac8-2c63-4c8f-91fd-7c0efccbe21d",
   "metadata": {},
   "source": [
    "## Using R"
   ]
  },
  {
   "cell_type": "markdown",
   "id": "848f4360-98d8-4558-9e18-6b78c766e864",
   "metadata": {},
   "source": [
    "R is of course a very useful programming language for data processing, analysis and visualization.\n",
    "\n",
    "There are many tutorials and courses that will teach you R, so that is not the scope of this tutorial.  Here you will learn how to run R scripts on our HPC infrastructure, assuming you are already familiar with the language and packages."
   ]
  },
  {
   "cell_type": "markdown",
   "id": "0016b1af-3f83-4ed7-b419-4db92ef84abb",
   "metadata": {},
   "source": [
    "### R scripts"
   ]
  },
  {
   "cell_type": "markdown",
   "id": "56ab9e39-5fc6-41f2-9495-425f041a9498",
   "metadata": {},
   "source": [
    "You may be used to executing R commands line by line in RStudio, if so, forget about that approach.  It is (perhaps, probably not) fine while you are developing a new R script, but that approach is inherently interactive, and hence doesn't lend itself well to HPC systems, where most scripts are executed in batch mode, i.e., without any user interaction.  You will need to think in terms of R scripts that are completely executed from top to bottom.\n",
    "\n",
    "Given that R scripts are simple text files, you can create or modify them using your favorite editor.  You can do this for instance on the infrastructure using `nano`, or on your own system and transfer the finished script or library to the HPC system.\n",
    "\n",
    "To build up gradually, you can start with a very simple script that takes a string as a command line argument and prints a greeting to standard output.  Your script is stored in a file `hello.R` which could look like this.\n",
    "\n",
    "```R\n",
    "#!/usr/bin/env Rscript\n",
    "\n",
    "args = commandArgs(trailingOnly=TRUE)\n",
    "\n",
    "if (length(args) != 1) {\n",
    "        stop('a name is required')\n",
    "}\n",
    "cat('Hello ', args[1], '!', sep='')\n",
    "```"
   ]
  },
  {
   "cell_type": "markdown",
   "id": "8afd65fc-7b26-4ecb-8611-0f1a3dae9e2b",
   "metadata": {},
   "source": [
    "This is of course a very simple R script, but it shows you how to handle command line arguments.  The vector `args` contains string values, so if you want to pass numerical arguments via the command line, you would have to convert these strings to numerical values, e.g.,\n",
    "```R\n",
    "x <- as.double(args[2])\n",
    "n <- as.integer(args[3])\n",
    "```"
   ]
  },
  {
   "cell_type": "markdown",
   "id": "372260ea-0882-44a3-94fe-a0f4cfedb929",
   "metadata": {},
   "source": [
    "**Important:** when you use scripts that you created on a Windows computer, remember to check the file names.  If they contain `C:\\` or similar, make sure to modify them to relative directories!"
   ]
  },
  {
   "cell_type": "markdown",
   "id": "97004b37-0080-4683-9134-cea508fe4b80",
   "metadata": {},
   "source": [
    "### Running simple scripts"
   ]
  },
  {
   "cell_type": "markdown",
   "id": "a36d65da-f2a4-47e4-b778-757788fc0604",
   "metadata": {},
   "source": [
    "An HPC system is almost by definition a multi-tenant system.  The users on such a system have specific requirements with respect to the software they want to use.  For instance, some may want to work with a certain version of Python, while others prefer a newer one.\n",
    "\n",
    "To deal with this, most HPC system use a module system that allows to easily pick the software and its specific version you want to use.  There is just a single command to interact with the software stack: `module`.  It has several subcommand that you will learn about belo."
   ]
  },
  {
   "cell_type": "markdown",
   "id": "fff93262-978b-4160-8c6e-49903a6cf512",
   "metadata": {},
   "source": [
    "#### Available software"
   ]
  },
  {
   "cell_type": "markdown",
   "id": "39a93e2a-b469-4d6d-adcc-7abf5ba230a3",
   "metadata": {},
   "source": [
    "In order to get a list of the software that is available through the module system, you can use the `module available` command.  That will list all the software packages that you can use on the system.\n",
    "\n",
    "Since this list is huge, you can be a bit more specific by providing (part of) the name of the software package you are looking for.  Note that this is case-sensitive.  Since you only want to see the available  versions of R, you can use the `-r` option to specify a regular expression as a search pattern.  The regular expression is `'^R/'`, which means that you select software packages that start (`^`) with capital R, and that are followed by a `'/`'` which separates the package name from its version."
   ]
  },
  {
   "cell_type": "code",
   "execution_count": null,
   "id": "b4283360-fab3-4927-8517-1fd2dbb1a157",
   "metadata": {
    "scrolled": true,
    "tags": []
   },
   "outputs": [],
   "source": [
    "module -r available '^R/'"
   ]
  },
  {
   "cell_type": "markdown",
   "id": "70621bab-c379-4c10-98a4-d4da7bc28e92",
   "metadata": {},
   "source": [
    "To run R, the `R/4.1.0-foss-2021a` module sounds promising.  The name may seem a bit cryptic, but once you understand the pattern, it is easy to interpret.\n",
    "\n",
    "The name of a module consists of several parts that provide useful information:\n",
    "  * `R` is the name of the software package;\n",
    "  * `4.1.0` is the version of that package, i.e., of the R distribution;\n",
    "  * `foss-2021a` tells you that this R distribution has been compiled using the foss toolchain version 2021a,\n",
    "    i.e., the GCC compiler suite, OpenMPI and OpenBLASS/Lapack/FFTW3."
   ]
  },
  {
   "cell_type": "markdown",
   "id": "6fc0e64f-db22-494c-bd60-d461109f252f",
   "metadata": {},
   "source": [
    "#### Using a software package"
   ]
  },
  {
   "cell_type": "markdown",
   "id": "ffaead2a-4892-4cbe-9eb5-330db6433b56",
   "metadata": {},
   "source": [
    "To use a software package, you simply load the corresponding module."
   ]
  },
  {
   "cell_type": "code",
   "execution_count": null,
   "id": "7405d5ba-22f6-4ad1-82d9-76eeca339434",
   "metadata": {
    "tags": []
   },
   "outputs": [],
   "source": [
    "module load R/4.1.0-foss-2021a"
   ]
  },
  {
   "cell_type": "markdown",
   "id": "0c37a780-c39a-439e-b71d-33b9e7f1690b",
   "metadata": {},
   "source": [
    "You can verify that you now use the Python interpreter you expect by checking version and location of the `python` executable."
   ]
  },
  {
   "cell_type": "code",
   "execution_count": null,
   "id": "944d7d85-ed44-455a-aad3-f53075649705",
   "metadata": {
    "tags": []
   },
   "outputs": [],
   "source": [
    "R --version"
   ]
  },
  {
   "cell_type": "code",
   "execution_count": null,
   "id": "70c0b92c-f5e9-45de-b1b4-6fb526e9f52e",
   "metadata": {
    "tags": []
   },
   "outputs": [],
   "source": [
    "which R"
   ]
  },
  {
   "cell_type": "markdown",
   "id": "b5c9a363-f89e-43da-89bf-2589791bc039",
   "metadata": {},
   "source": [
    "Now you can run your script using this version of Python."
   ]
  },
  {
   "cell_type": "code",
   "execution_count": null,
   "id": "fbe1051d-7975-46b7-b293-9759543cd675",
   "metadata": {
    "tags": []
   },
   "outputs": [],
   "source": [
    "Rscript hello.R \"wonderful world of HPC\""
   ]
  },
  {
   "cell_type": "markdown",
   "id": "5a1fb84f-8f1b-4da7-9993-2511a0f45432",
   "metadata": {},
   "source": [
    "Note that since you want to pass the string \"wonderful world of HPC\" as a single argument to your script, you have to quote it."
   ]
  },
  {
   "cell_type": "markdown",
   "id": "6bc3843f-6c31-43d8-b8f7-99d4b6e40fd0",
   "metadata": {},
   "source": [
    "There is a lot more to learn about the module system, and you are likely to need that at some point.  Perhaps it would be a good idea to check out the [tutorial](003_software_modules.ipynb) now."
   ]
  },
  {
   "cell_type": "markdown",
   "id": "78778bd1-cca8-45af-9e74-742d5f33bdd2",
   "metadata": {},
   "source": [
    "## R packages"
   ]
  },
  {
   "cell_type": "markdown",
   "id": "d99c7167-c7a5-4168-b474-b04dc8d089f8",
   "metadata": {},
   "source": [
    "Of course, R by itself is not that useful, you like want to use multiple R packages from CRAN.  Some may have been preinstalled for you, but likely not all.  If so, no worries, you can (sort of) easily install them yourself."
   ]
  },
  {
   "cell_type": "markdown",
   "id": "be4fef69-6221-4b77-8437-70fab4b459ea",
   "metadata": {},
   "source": [
    "Click to watch the [**video**](https://youtu.be/jMZIeh3RA5s)."
   ]
  },
  {
   "cell_type": "markdown",
   "id": "2a8810fb-a4fe-406a-bcd7-2f50edb3ebc6",
   "metadata": {},
   "source": [
    "However, life is sometimes a bit more complicated.  Some R packages depend on software packages that should be installed on your system.  For instance, as you will see in the next video, the R package `gsl` relies on the GNE GSL (GNU Scientific Library) package, which itself has some other dependencies."
   ]
  },
  {
   "cell_type": "markdown",
   "id": "23a68fbb-bf7d-4790-9e71-e8fd8fe278cd",
   "metadata": {},
   "source": [
    "Click to watch the [**video**](https://youtu.be/NcPeRuqhUS4)."
   ]
  },
  {
   "cell_type": "markdown",
   "id": "ca290371-5f60-4a66-964a-76b8c63e84d2",
   "metadata": {},
   "source": [
    "Remember (you did the [tutorial]() on the module system, right?) that you can search for GSL."
   ]
  },
  {
   "cell_type": "code",
   "execution_count": null,
   "id": "34a0c766-9ea6-4f0e-ad71-e087c91a0167",
   "metadata": {
    "tags": []
   },
   "outputs": [],
   "source": [
    "module spider GSL"
   ]
  },
  {
   "cell_type": "markdown",
   "id": "510ba3ec-8b73-41c3-9246-07287aa46ea1",
   "metadata": {},
   "source": [
    "Once you have installed the gsl R package as described in the video, you can try it using the following R script.  The script will plot the Airy function (defined in `gsl`) and create an EPS file that you can include in a $\\LaTeX$ document."
   ]
  },
  {
   "cell_type": "markdown",
   "id": "9a8c4ceb-09ff-47f6-a5e9-279c050939d3",
   "metadata": {},
   "source": [
    "```R\n",
    "#!/usr/bin/env Rscript\n",
    "\n",
    "# script to plot the Airy function\n",
    "# https://en.wikipedia.org/wiki/Airy_function\n",
    "# the function values are computed using the GNU Scientific Library\n",
    "\n",
    "# Load the ggplot2 and gsl libraries\n",
    "library(ggplot2)\n",
    "library(gsl)\n",
    "\n",
    "# Create a data frame, the x-range runs from 0.0 to 2.0\n",
    "df <- data.frame(x = seq(0.0, 2.0, length.out = 100))\n",
    "\n",
    "# compute the Airy function values\n",
    "df$y <- airy_Ai(df$x)\n",
    "\n",
    "# Create a ggplot object\n",
    "p <- ggplot(df, aes(x = x, y = y)) + geom_point()\n",
    "\n",
    "# Save the plot to a file\n",
    "ggsave(\"airy.eps\", plot = p, width = 4, height = 4, dpi = 300)\n",
    "```"
   ]
  },
  {
   "cell_type": "markdown",
   "id": "7b8623d8-9584-41b4-8f8d-4424ad3d8ffa",
   "metadata": {},
   "source": [
    "Installing R packages in this way will work very often, but unfortunately not always.  Some have rather arcane depencies that make them very hard to install on an HPC system.\n",
    "\n",
    "If you have trouble, please [contact support](https://docs.vscentrum.be/en/latest/user_support.html)."
   ]
  },
  {
   "cell_type": "markdown",
   "id": "fa86e310-1342-473d-81ed-5fdda69d95b4",
   "metadata": {},
   "source": [
    "## Summary"
   ]
  },
  {
   "cell_type": "markdown",
   "id": "440b174f-29cc-451d-a7f2-0421f0d194bf",
   "metadata": {},
   "source": [
    "In this tutorial you learned how to run R scripts using an R module.\n",
    "  \n",
    "For the module system, You learned how to\n",
    "  * list available modules using `module available`\n",
    "  * search for modules using `module spider`\n",
    "  * use the software package using `module load`\n",
    "\n",
    "You also learned how to install your own R packages."
   ]
  },
  {
   "cell_type": "markdown",
   "id": "bf6d4a67-33dd-491a-b1c5-5072e795716c",
   "metadata": {},
   "source": [
    "## Where to go from here?"
   ]
  },
  {
   "cell_type": "markdown",
   "id": "6ca0dbe5-32ae-4e79-a476-e3df4e8fcc71",
   "metadata": {},
   "source": [
    "You can now run an R script on the login node, but that is only useful for very short computation, i.e., scripts that run in a minute or less.  You share the login node with many other users of the HPC system, so if you perform computationally intensive computations on this system, it will impact the performance for all other users.\n",
    "\n",
    "Your real workloads will run on the compute nodes of the HPC system, and these computations are typically run via a job script.  You can learn more about that in\n",
    "  * [job scripts and the scheduler](020_jobs.ipynb)."
   ]
  }
 ],
 "metadata": {
  "kernelspec": {
   "display_name": "Bash (ipykernel)",
   "language": "bash",
   "name": "bash"
  },
  "language_info": {
   "codemirror_mode": "shell",
   "file_extension": ".sh",
   "mimetype": "text/x-sh",
   "name": "bash"
  }
 },
 "nbformat": 4,
 "nbformat_minor": 5
}
