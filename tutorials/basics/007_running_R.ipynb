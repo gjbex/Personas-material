{
 "cells": [
  {
   "cell_type": "markdown",
   "id": "c9ea80ed-34f4-4731-b143-601dea3e720d",
   "metadata": {},
   "source": [
    "# HPC intro"
   ]
  },
  {
   "cell_type": "markdown",
   "id": "e6cebac8-2c63-4c8f-91fd-7c0efccbe21d",
   "metadata": {},
   "source": [
    "## Using R"
   ]
  },
  {
   "cell_type": "markdown",
   "id": "848f4360-98d8-4558-9e18-6b78c766e864",
   "metadata": {},
   "source": [
    "R is of course a very useful programming language for data processing, analysis and visualization.\n",
    "\n",
    "There are many tutorials and courses that will teach you R, so that is not the scope of this tutorial.  Here you will learn how to run R scripts on our HPC infrastructure, assuming you are already familiar with the language and packages."
   ]
  },
  {
   "cell_type": "markdown",
   "id": "0016b1af-3f83-4ed7-b419-4db92ef84abb",
   "metadata": {},
   "source": [
    "### R scripts"
   ]
  },
  {
   "cell_type": "markdown",
   "id": "56ab9e39-5fc6-41f2-9495-425f041a9498",
   "metadata": {},
   "source": [
    "You may be used to executing R commands line by line in RStudio, if so, forget about that approach.  It is (perhaps, probably not) fine while you are developing a new R script, but that approach is inherently interactive, and hence doesn't lend itself well to HPC systems, where most scripts are executed in batch mode, i.e., without any user interaction.  You will need to think in terms of R scripts that are completely executed from top to bottom.\n",
    "\n",
    "Given that R scripts are simple text files, you can create or modify them using your favorite editor.  You can do this for instance on the infrastructure using `nano`, or on your own system and transfer the finished script or library to the HPC system.\n",
    "\n",
    "To build up gradually, you can start with a very simple script that takes a string as a command line argument and prints a greeting to standard output.  Your script is stored in a file `hello.R` which could look like this.\n",
    "\n",
    "```\n",
    "#!/usr/bin/env Rscript\n",
    "\n",
    "args = commandArgs(trailingOnly=TRUE)\n",
    "\n",
    "if (length(args) != 1) {\r\n",
    "        stop('a name is required')\r\n",
    "}\r\n",
    "cat('Hello ', args[1], '!', sep='``hon."
   ]
  },
  {
   "cell_type": "code",
   "execution_count": null,
   "id": "9a0f4c19-2c6d-48a8-ab70-33aa4afbc80e",
   "metadata": {},
   "outputs": [],
   "source": []
  }
 ],
 "metadata": {
  "kernelspec": {
   "display_name": "Bash",
   "language": "bash",
   "name": "bash"
  },
  "language_info": {
   "codemirror_mode": "shell",
   "file_extension": ".sh",
   "mimetype": "text/x-sh",
   "name": "bash"
  }
 },
 "nbformat": 4,
 "nbformat_minor": 5
}
