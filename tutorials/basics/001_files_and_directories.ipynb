{
 "cells": [
  {
   "cell_type": "markdown",
   "id": "99d528c3-ed52-441c-bac6-c8c4cbe667af",
   "metadata": {},
   "source": [
    "# HPC intro"
   ]
  },
  {
   "cell_type": "markdown",
   "id": "43cb5d55-9d82-4ffe-a397-978836bd8ee1",
   "metadata": {
    "toc-hr-collapsed": true
   },
   "source": [
    "## Files and directories"
   ]
  },
  {
   "cell_type": "markdown",
   "id": "96c977e7-1bd3-419c-b862-8806c9076ce1",
   "metadata": {},
   "source": [
    "High-Performance Computing (HPC) systems typically run a flavor of the Linux operating system.  Although you can up to a point interact with these systems via a GUI it is still very useful (and likely more productive) to know your way around the terminal.\n",
    "\n",
    "In this tutorial, you will learn the basics of how to work with files and directories in the terminal, and hence also in Bash scripts.  Indeed, the commands that you execute in the terminal are the same as you will use to write job scripts that run on the compute nodes of the HPC clusters you have access to."
   ]
  },
  {
   "cell_type": "markdown",
   "id": "d562ae1c-5b00-47d8-8ff8-978f37c8914c",
   "metadata": {},
   "source": [
    "### Your home directory"
   ]
  },
  {
   "cell_type": "markdown",
   "id": "83b34ac6-7f65-47d3-90ba-83ece5d4b83f",
   "metadata": {},
   "source": [
    "When you log in to our HPC system, and to any Linux system for that matter, your session will start in your home directory.  However, since this tutorial is hosted by Open OnDemand, you willstart this session in your data directory.  Execute the following command to change to your home directory.  Details will be discussed later."
   ]
  },
  {
   "cell_type": "code",
   "execution_count": null,
   "id": "40db93ff-8935-4b1b-9095-af9365344728",
   "metadata": {
    "tags": []
   },
   "outputs": [],
   "source": [
    "cd"
   ]
  },
  {
   "cell_type": "markdown",
   "id": "470a0c39-8d70-42a6-9a69-b4500ebffb57",
   "metadata": {},
   "source": [
    "### ls: directory listings"
   ]
  },
  {
   "cell_type": "markdown",
   "id": "beebd932-83b2-4a60-9c53-fb5fcb49b106",
   "metadata": {},
   "source": [
    "You can check the contents of a directory with the `ls` (list) command."
   ]
  },
  {
   "cell_type": "code",
   "execution_count": null,
   "id": "ca2327b1-285d-4070-ae3f-1f6e3346a5b1",
   "metadata": {
    "tags": []
   },
   "outputs": [],
   "source": [
    "ls"
   ]
  },
  {
   "cell_type": "markdown",
   "id": "c9f8946b-7790-4220-a7b2-2e4f868f3b56",
   "metadata": {},
   "source": [
    "You likely don't see any output, but that is normal.  When you just start out as a new user, you don't have any files or directories.  Well, actually, you do.  Some files and directories are hidden because their names start with a '.'.  You can show these using the `-a` (all) option of the`ls` command."
   ]
  },
  {
   "cell_type": "code",
   "execution_count": null,
   "id": "39500c11-7406-44ca-a979-a8c44896925d",
   "metadata": {
    "tags": []
   },
   "outputs": [],
   "source": [
    "ls -a"
   ]
  },
  {
   "cell_type": "markdown",
   "id": "d7e4a3e8-633a-412e-afcb-eea8894f64ea",
   "metadata": {},
   "source": [
    "Please don't modify these files (unless you *really, really* know what your are doing) or delete them.  When you make mistakes, you may not be able to login anymore.  Support staff will pretend to be sympathetic, but they will make fun of you behind your back."
   ]
  },
  {
   "cell_type": "markdown",
   "id": "c12814af-1698-4536-a1e8-c5e6c65bdd0a",
   "metadata": {},
   "source": [
    "`ls` and other Bash commands often have many options to fine-tune their behaviour.  As mentioned, `-a` will reveal hidden files, while `-l` (long) will show more information on the files and directories such as the permissions, the owner and group, the file size and the last modification date.\n",
    "\n",
    "You can combine those options, e.g., `-a -l`."
   ]
  },
  {
   "cell_type": "code",
   "execution_count": null,
   "id": "8ff9eb98-2e2f-47f7-afda-3ba28f3bc852",
   "metadata": {
    "tags": []
   },
   "outputs": [],
   "source": [
    "ls -a -l"
   ]
  },
  {
   "cell_type": "markdown",
   "id": "4ecfc60a-da95-4708-8c9a-5b87a3fd0101",
   "metadata": {},
   "source": [
    "### man and --help: getting help"
   ]
  },
  {
   "cell_type": "markdown",
   "id": "ae15611d-6d86-4cdb-81a4-ece03570ab7d",
   "metadata": {},
   "source": [
    "Although you will soon have memorized the most commonly used options for various commands, you may need information on them.  For most linux commands, this is straightforward: you can use the `--help` option for many, the `-h` option for others."
   ]
  },
  {
   "cell_type": "code",
   "execution_count": null,
   "id": "d6342b95-2261-430f-8b85-c18f4d4a49a3",
   "metadata": {
    "scrolled": true,
    "tags": []
   },
   "outputs": [],
   "source": [
    "ls --help"
   ]
  },
  {
   "cell_type": "markdown",
   "id": "ca7f9f28-63d9-4dfc-afd3-92ddc2b7ed01",
   "metadata": {},
   "source": [
    "The Linux system comes with documentation as well, you can access that using the `man` (manual) command."
   ]
  },
  {
   "cell_type": "code",
   "execution_count": null,
   "id": "d2c59353-5e13-4d3e-ada0-f30baff4f8dd",
   "metadata": {
    "tags": []
   },
   "outputs": [],
   "source": [
    "man bash"
   ]
  },
  {
   "cell_type": "markdown",
   "id": "428c2381-398f-4768-a878-e57a18ebb22a",
   "metadata": {},
   "source": [
    "For many commands there will even be a list of examples to get you started."
   ]
  },
  {
   "cell_type": "markdown",
   "id": "f527191e-9a44-46c9-9164-e39143a289f9",
   "metadata": {},
   "source": [
    "### Editing files"
   ]
  },
  {
   "cell_type": "markdown",
   "id": "989195a3-0a50-4c15-99ba-18faa3f6fbf7",
   "metadata": {},
   "source": [
    "There are many ways to create files.  You can edit files directly on the system itself, or you can do that on your own laptop and desktop, and then transfer them to the HPC infrastructure.  In this section, we will concentrate on the first option, creating a file on the HPC system.\n",
    "\n",
    "Again, there is a plethora of options of which we will mention only three:\n",
    "  * `nano`: a quite friendly editor that is straightforward to use;\n",
    "  * `vim` or `emacs`: veritable powertools with many features, but a considerable learning curve.\n",
    "\n",
    "For now, we will start with `nano` as it is the most accessible.  In the screencast below you will see how to do that."
   ]
  },
  {
   "cell_type": "markdown",
   "id": "b0280eb3-7c8d-48f2-bb8f-ae6cdb4bb876",
   "metadata": {},
   "source": [
    "Click to watch the [**video**](https://youtu.be/UZefby-10u4)."
   ]
  },
  {
   "cell_type": "markdown",
   "id": "e0e734be-3069-45f2-8ed9-5f7fa0b29da8",
   "metadata": {},
   "source": [
    "When you've watched the screencast, open a terminal and try it yourself.  If you don't know how to open a terminal, watch the video below."
   ]
  },
  {
   "cell_type": "markdown",
   "id": "498c73dc-8ac1-4b74-bedb-ce7239b93b72",
   "metadata": {},
   "source": [
    "Click to watch the [**video**](https://youtu.be/MzmxjQ6tT9E)."
   ]
  },
  {
   "cell_type": "markdown",
   "id": "e84a780d-9109-4399-bacd-b6f1689dce7d",
   "metadata": {},
   "source": [
    "Use `nano` to create a Bash script `hello.sh` that writes \"hello world!\" to standard output.  When you are done and run `ls`, you should now see the script."
   ]
  },
  {
   "cell_type": "code",
   "execution_count": null,
   "id": "98f795da-4819-46de-b199-8c35730473f9",
   "metadata": {
    "tags": []
   },
   "outputs": [],
   "source": [
    "ls"
   ]
  },
  {
   "cell_type": "markdown",
   "id": "7ae9f35e-c00c-4c68-9caf-f8a75c0dffb1",
   "metadata": {},
   "source": [
    "Of course you may wonder why you can't simply use the editor that comes with Jupyter lab to create and edit your files, and in theory, you could.  However, this is not the most ideal way to access the infrastructure, and we only use it for this tutorial since it is pretty expensive."
   ]
  },
  {
   "cell_type": "markdown",
   "id": "4df8c453-1a0f-4851-b8cc-f841300bd616",
   "metadata": {},
   "source": [
    "### less: viewing files"
   ]
  },
  {
   "cell_type": "markdown",
   "id": "f5a24ea9-bbb1-4683-b91b-de111e4e6aa5",
   "metadata": {},
   "source": [
    "Often, you quickly want to view the contents of a file without modifying it.  Here, the `less` command is your friend.  Technically, it is called a pager, since it allows you to view a (long) file one page at the time.  Watch the video below to see it in action."
   ]
  },
  {
   "cell_type": "markdown",
   "id": "1ebf96e6-5806-4dda-977a-a13497631738",
   "metadata": {},
   "source": [
    "Click to watch the [**video**](https://youtu.be/_lsUZc8Qb3k)."
   ]
  },
  {
   "cell_type": "markdown",
   "id": "465bf463-0604-4e47-afed-e8a2953400a5",
   "metadata": {},
   "source": [
    "Remember, to exit less, just press the 'q' key.  Head over to the terminal and try it yourself to view the contents of the `hello.sh` file."
   ]
  },
  {
   "cell_type": "markdown",
   "id": "711557f0-a12a-4194-b1d9-0a255f2fe342",
   "metadata": {},
   "source": [
    "### mkdir: create a directory"
   ]
  },
  {
   "cell_type": "markdown",
   "id": "34b85d6d-7c8e-4041-b787-3f78df8ff0c5",
   "metadata": {},
   "source": [
    "To organize your files and your work, you typically use folder, also called directories.  It is trivial to create a new one using the `mkdir` (make directory) command."
   ]
  },
  {
   "cell_type": "code",
   "execution_count": null,
   "id": "84e29f24-f925-4f86-b999-6c049296656b",
   "metadata": {
    "tags": []
   },
   "outputs": [],
   "source": [
    "mkdir my_project"
   ]
  },
  {
   "cell_type": "markdown",
   "id": "706f589f-3de8-4903-b025-c7d48fee53f3",
   "metadata": {},
   "source": [
    "When you list the contents of your home direcgtory, you will now see the directory `my_project` as well."
   ]
  },
  {
   "cell_type": "code",
   "execution_count": null,
   "id": "bd4dff82-8b4d-478b-b383-71994874a934",
   "metadata": {
    "tags": []
   },
   "outputs": [],
   "source": [
    "ls"
   ]
  },
  {
   "cell_type": "markdown",
   "id": "c483f9f3-d12b-4dc3-b2f0-6f8ed012a790",
   "metadata": {},
   "source": [
    "Note that you will get an error when you try to create a directory that already exists."
   ]
  },
  {
   "cell_type": "code",
   "execution_count": null,
   "id": "06afe536-7a5b-4cbd-8480-2f1d38cc735f",
   "metadata": {
    "tags": []
   },
   "outputs": [],
   "source": [
    "mkdir my_project"
   ]
  },
  {
   "cell_type": "markdown",
   "id": "b90ec0c1-85dd-4cec-a91d-60ccd7305194",
   "metadata": {},
   "source": [
    "### mv: move and rename"
   ]
  },
  {
   "cell_type": "markdown",
   "id": "e5ef7bda-bd76-4bdb-b614-bcb429b03d84",
   "metadata": {},
   "source": [
    "You are probably used to moving files around your computer by dragging them from one directory to another using the mouse.  In a terminal, you can use the `mv` (move) command for that purpose.\n",
    "\n",
    "For instance, suppose that our `hello.sh` script is part of the project for which you created the `my_project` directory, you can move it there easily by using the file name `hello.sh` and the destination directory `my_project`."
   ]
  },
  {
   "cell_type": "code",
   "execution_count": null,
   "id": "d6810ce7-57d2-4d8d-b2a2-a3013edeb68f",
   "metadata": {
    "tags": []
   },
   "outputs": [],
   "source": [
    "mv hello.sh my_project"
   ]
  },
  {
   "cell_type": "markdown",
   "id": "68975f4f-cbba-4721-b1c1-5dcc78b36dde",
   "metadata": {},
   "source": [
    "When you list the contents of the directory, you see that the `hello.sh` file is no longer in the currect directory."
   ]
  },
  {
   "cell_type": "code",
   "execution_count": null,
   "id": "d9a52390-9f90-4384-b171-209929646be3",
   "metadata": {
    "tags": []
   },
   "outputs": [],
   "source": [
    "ls"
   ]
  },
  {
   "cell_type": "markdown",
   "id": "a76bab8a-7862-4268-b4ac-d4d4d15c2ab4",
   "metadata": {},
   "source": [
    "Let's verify that it is indeed in the `my_project` directory by giving an argument to `ls`."
   ]
  },
  {
   "cell_type": "code",
   "execution_count": null,
   "id": "a502da6f-2c5a-41d3-b92f-40f9a673fd53",
   "metadata": {
    "tags": []
   },
   "outputs": [],
   "source": [
    "ls my_project"
   ]
  },
  {
   "cell_type": "markdown",
   "id": "a847edda-e2ab-48fe-9181-86f95a7626c9",
   "metadata": {},
   "source": [
    "Perhaps the name `my_project` for our directory is a bit too generic, and you would prefer a different name.  This is easy, you can rename files and directories using `mv` as well.  Again specify the current name `my_project` and the new name `hello_project` as arguments to `mv``."
   ]
  },
  {
   "cell_type": "code",
   "execution_count": null,
   "id": "d65ee23d-35b1-47f3-865c-6ddaf0dc1536",
   "metadata": {
    "tags": []
   },
   "outputs": [],
   "source": [
    "mv my_project hello_project"
   ]
  },
  {
   "cell_type": "markdown",
   "id": "143c701b-d6fb-4cea-8466-c4fa028f9472",
   "metadata": {},
   "source": [
    "Checking the content of the directory shows that the name was indeed changed to `hello_project`."
   ]
  },
  {
   "cell_type": "code",
   "execution_count": null,
   "id": "36941986-e8e0-4265-b02a-63623c63f6ac",
   "metadata": {
    "tags": []
   },
   "outputs": [],
   "source": [
    "ls"
   ]
  },
  {
   "cell_type": "markdown",
   "id": "850dd5e9-a335-43e6-89d3-e55881468425",
   "metadata": {},
   "source": [
    "### pwd: where am I?"
   ]
  },
  {
   "cell_type": "markdown",
   "id": "ee16d62e-a652-4547-b676-405c4af5855a",
   "metadata": {},
   "source": [
    "Sometimes you want to verify in which directory you are, and that is what the `pwd` (present working directory) will tell you."
   ]
  },
  {
   "cell_type": "code",
   "execution_count": null,
   "id": "fd368ec7-091c-467d-a968-bfaa5da14c3f",
   "metadata": {
    "tags": []
   },
   "outputs": [],
   "source": [
    "pwd"
   ]
  },
  {
   "cell_type": "markdown",
   "id": "398c7a57-465b-457b-88a2-2af6093199f2",
   "metadata": {},
   "source": [
    "As you can see, you are in your home directory."
   ]
  },
  {
   "cell_type": "markdown",
   "id": "88487a17-3baa-42e7-9a7b-bf12bc237dbe",
   "metadata": {},
   "source": [
    "### cd: navigating directories"
   ]
  },
  {
   "cell_type": "markdown",
   "id": "d3e0ca2e-3286-42e2-9891-c1f6a7429229",
   "metadata": {},
   "source": [
    "To move to another directory, you can use the `cd` (change directory) command.  For isntance, to go into the `hello_project` directory you simply give the destination as an argument to `cd`."
   ]
  },
  {
   "cell_type": "code",
   "execution_count": null,
   "id": "62a45000-1687-48ae-9d18-9c3c2549eb04",
   "metadata": {
    "tags": []
   },
   "outputs": [],
   "source": [
    "cd hello_project"
   ]
  },
  {
   "cell_type": "markdown",
   "id": "baa22364-c349-43ef-ad00-e32d0f72f995",
   "metadata": {},
   "source": [
    "Use `pwd` to verify that you are indeed in that directory."
   ]
  },
  {
   "cell_type": "code",
   "execution_count": null,
   "id": "4f178a68-5f4b-47dc-83bb-9332ba724145",
   "metadata": {
    "tags": []
   },
   "outputs": [],
   "source": [
    "pwd"
   ]
  },
  {
   "cell_type": "markdown",
   "id": "2fffbff0-20da-45fe-aa2b-163a9bacf979",
   "metadata": {},
   "source": [
    "Now, head over to the terminal.  Take a close look at your current prompt.  This is the string of characters after which you type commands.  You will notice that it shows a `~`.  This is an abbreviation for your home directory.  Now execute the `cd hello_project` command in the terminal and note the change to the prompt.  It will now show `~/hello_project`, i.e., your present working direcgtory.\n",
    "\n",
    "\n",
    "So, just by looking at the prompt in a terminal, you can always see where you are."
   ]
  },
  {
   "cell_type": "markdown",
   "id": "6d84a850-f15c-4217-9dc5-9c0684170cf6",
   "metadata": {},
   "source": [
    "You can view the file system as a (mathematical) tree.  The `hello_project` directory is in your home directory, so the latter is the parent directory of `hello_project`.  This induces the notion of \"up\" and \"down\": you go up to the parent directory, or from your home directory down into `hello_project`.  From that perspective, it makes sense to call `hello_project` a subdirectory of your home directory.\n",
    "\n",
    "To move up to the parent directory, you use `..` as a destination."
   ]
  },
  {
   "cell_type": "code",
   "execution_count": null,
   "id": "2173191a-ef8a-494b-8697-f16dcf836790",
   "metadata": {
    "tags": []
   },
   "outputs": [],
   "source": [
    "cd .."
   ]
  },
  {
   "cell_type": "markdown",
   "id": "b34dffc7-d1be-4c42-9ecf-389c37ad51cb",
   "metadata": {},
   "source": [
    "Confirm that you are back in your home directory."
   ]
  },
  {
   "cell_type": "code",
   "execution_count": null,
   "id": "95acf947-4419-40bd-a98d-adef06fa7d3d",
   "metadata": {
    "tags": []
   },
   "outputs": [],
   "source": [
    "pwd"
   ]
  },
  {
   "cell_type": "markdown",
   "id": "c94eb251-76e1-4017-9584-c1405bef6259",
   "metadata": {},
   "source": [
    "A useful shortcut, just using `cd` without any arguments will always bring you to your home directory, regardless what your current working directory is."
   ]
  },
  {
   "cell_type": "markdown",
   "id": "aee04a0b-45a8-4ca1-ad27-0acd2e3bbaa6",
   "metadata": {},
   "source": [
    "### Home, data and scratch directory"
   ]
  },
  {
   "cell_type": "markdown",
   "id": "01272fe4-6853-46b2-807f-8b70c31accac",
   "metadata": {},
   "source": [
    "Besides your home directory, you have access to two more personal directories: the data and scratch directories.\n",
    "\n",
    "| directory | environment variable | quota | purpose |\n",
    "|-----------|----------------------|-------|---------|\n",
    "| home      | VSC_HOME             | 3 GB  | configuration files |\n",
    "| data      | VSC_DATA             | 75 GB | scripts, data       |\n",
    "| scratch   | VSC_SCRATCH          | 500 GB | temporary data/instensive I/O |"
   ]
  },
  {
   "cell_type": "markdown",
   "id": "28db44ff-0019-4930-b01e-201a7c71700a",
   "metadata": {},
   "source": [
    "For a thorough discussion of the purpose, stengths and weaknesses of these various directories, be sure to read the [documentation](https://docs.vscentrum.be/en/latest/access/where_can_i_store_what_kind_of_data.html)."
   ]
  },
  {
   "cell_type": "markdown",
   "id": "9f22d346-f814-45c9-8c88-0aeb230020b9",
   "metadata": {},
   "source": [
    "The environment variables mentioned in the table allow you to easily navigate to these directories using the `cd` command."
   ]
  },
  {
   "cell_type": "code",
   "execution_count": null,
   "id": "bcf0d569-3506-4e59-9d6f-ca2e62b86b69",
   "metadata": {
    "tags": []
   },
   "outputs": [],
   "source": [
    "cd $VSC_DATA"
   ]
  },
  {
   "cell_type": "markdown",
   "id": "82c45325-c0dc-4707-a154-d35f3ae2bca5",
   "metadata": {},
   "source": [
    "Note the `$` prefixed to the variable name: this lets you use the *value* of the variable named `VSC_DATA`, so don't forget to type that.\n",
    "\n",
    "Also note that Bash is case sensitive, so upper and lower case matter!\n",
    "\n",
    "Verify that you are in the `VSC_DATA` directory using `pwd` and list the files."
   ]
  },
  {
   "cell_type": "code",
   "execution_count": null,
   "id": "fd1f9311-fcdc-4bb7-83be-4c8dc72c7fa5",
   "metadata": {
    "tags": []
   },
   "outputs": [],
   "source": [
    "pwd"
   ]
  },
  {
   "cell_type": "code",
   "execution_count": null,
   "id": "31fabca8-9fb4-497d-b90d-cb6da863f1f7",
   "metadata": {
    "tags": []
   },
   "outputs": [],
   "source": [
    "ls"
   ]
  },
  {
   "cell_type": "markdown",
   "id": "1382dd8d-de6f-4fb5-9ca1-c1af74fb7831",
   "metadata": {},
   "source": [
    "You will see a directory \"ondemand\" as well as this tutorial."
   ]
  },
  {
   "cell_type": "markdown",
   "id": "658cb62c-6e8b-4d1a-97b1-030fc54f709e",
   "metadata": {},
   "source": [
    "Similarly, you can change to the scratch directory, which is also empty."
   ]
  },
  {
   "cell_type": "code",
   "execution_count": null,
   "id": "596002c3-ae6c-42d0-955c-b514ab4dfd09",
   "metadata": {
    "tags": []
   },
   "outputs": [],
   "source": [
    "cd $VSC_SCRATCH"
   ]
  },
  {
   "cell_type": "code",
   "execution_count": null,
   "id": "42d319f7-6c78-4c46-96a8-bf318523c572",
   "metadata": {
    "tags": []
   },
   "outputs": [],
   "source": [
    "pwd"
   ]
  },
  {
   "cell_type": "code",
   "execution_count": null,
   "id": "db9d7808-22e6-4c14-b43c-50886ca69c2c",
   "metadata": {
    "tags": []
   },
   "outputs": [],
   "source": [
    "ls"
   ]
  },
  {
   "cell_type": "markdown",
   "id": "3eb7d9f3-d5eb-4abe-95d3-816a428a5fe8",
   "metadata": {},
   "source": [
    "This directory will likely be empty, so you won't see any output for the command above."
   ]
  },
  {
   "cell_type": "markdown",
   "id": "8284b60d-fc97-41cc-a77f-25687bc1e8e1",
   "metadata": {},
   "source": [
    "Change back to the home directory, and move the `hello_project` directory to the data directory.  After that, change to that directory."
   ]
  },
  {
   "cell_type": "code",
   "execution_count": null,
   "id": "d737b254-ca2b-46e5-b6f6-05660f88b0e3",
   "metadata": {
    "tags": []
   },
   "outputs": [],
   "source": [
    "cd"
   ]
  },
  {
   "cell_type": "code",
   "execution_count": null,
   "id": "04b8d723-3d44-4d15-9ecd-02d39af0a503",
   "metadata": {
    "tags": []
   },
   "outputs": [],
   "source": [
    "mv hello_project $VSC_DATA"
   ]
  },
  {
   "cell_type": "code",
   "execution_count": null,
   "id": "f2602666-9615-4173-82d5-d1e747e6817e",
   "metadata": {
    "tags": []
   },
   "outputs": [],
   "source": [
    "cd $VSC_DATA/hello_project"
   ]
  },
  {
   "cell_type": "code",
   "execution_count": null,
   "id": "71fc974b-84a6-4f9f-bfbb-d6b46a08fd2d",
   "metadata": {
    "tags": []
   },
   "outputs": [],
   "source": [
    "pwd"
   ]
  },
  {
   "cell_type": "markdown",
   "id": "7ccc4c42-0710-44ad-84f9-fcee78a2fb28",
   "metadata": {},
   "source": [
    "### cp: copy files and directories"
   ]
  },
  {
   "cell_type": "markdown",
   "id": "3c529f45-3e2f-4735-a1c9-e0228f60ac0f",
   "metadata": {},
   "source": [
    "To copy files and directories, you can use the `cp` (copy) command.  Simply specify the name of the file you want to copy and the directory and/or name you want to copy it to.  For instance, you can copy the script `hello.sh` to `bye.sh`."
   ]
  },
  {
   "cell_type": "code",
   "execution_count": null,
   "id": "9283efb5-9ce3-42e4-bd06-0b5bc02f4c24",
   "metadata": {
    "tags": []
   },
   "outputs": [],
   "source": [
    "cp hello.sh bye.sh"
   ]
  },
  {
   "cell_type": "markdown",
   "id": "b01b6dbd-f711-4643-a34b-8d0cc910ead2",
   "metadata": {},
   "source": [
    "If you feel like practising your `nano` skills a bit more, you can now modify `bye.sh` so that it writes \"bye world!\" to the screen, rather than \"hello world!\".\n",
    "\n",
    "You can also copy an entire directoy by adding the `-r` (recursive) flag."
   ]
  },
  {
   "cell_type": "markdown",
   "id": "05f1cac9-f8f6-4a02-b2a1-a8a298111eb5",
   "metadata": {},
   "source": [
    "### Running your own script"
   ]
  },
  {
   "cell_type": "markdown",
   "id": "d3397dab-5050-40b9-b12e-f8359a073d31",
   "metadata": {},
   "source": [
    "You created the `hello.sh` and `bye.sh` scripts, but you didn't do anything with them yet.  Of course, you would want to run them.  Since they are Bash scripts, you would use the Bash interpreter to run them."
   ]
  },
  {
   "cell_type": "code",
   "execution_count": null,
   "id": "fe8444dd-b794-4f87-a8cc-ce43bf0a710f",
   "metadata": {
    "tags": []
   },
   "outputs": [],
   "source": [
    "bash hello.sh"
   ]
  },
  {
   "cell_type": "markdown",
   "id": "54d2d548-cd83-4599-b2fd-d42214d41982",
   "metadata": {},
   "source": [
    "### chmod: change permissions"
   ]
  },
  {
   "cell_type": "markdown",
   "id": "959cb474-a8eb-4861-bf33-cd7cf07d6b63",
   "metadata": {},
   "source": [
    "It would be more convenient not to have to type `bash` each time you want to execute your script.  Remember the first line?  That was:\n",
    "```bash\n",
    "#!/usr/bin/env bash\n",
    "```\n",
    "That line contains all the information that the script `hello.sh` should be executed as a Bash script by the `bash` interpreter... if the file were executable.  Let's have a look at the file permissions."
   ]
  },
  {
   "cell_type": "code",
   "execution_count": null,
   "id": "b7fff186-aab9-4e7a-92e5-84f93557ba8a",
   "metadata": {
    "tags": []
   },
   "outputs": [],
   "source": [
    "ls -l *.sh"
   ]
  },
  {
   "cell_type": "markdown",
   "id": "78a6d061-3970-40ce-91f0-8f2ab0e30ed2",
   "metadata": {},
   "source": [
    "Note: `*.sh` is called a \"glob\", it means all files in this directory that have names ending in `.sh`.\n",
    "\n",
    "As you can see, the output of the `ls` command starts with `-rw-r--r--`.  These are the permissions of the file.  Actually, it consists of four parts:\n",
    "  * `-`: this means that `hello.sh` is a file, if it were a directory there would be a `d`;\n",
    "  * `rw-`: these are the permissions of the owner of the file;\n",
    "  * `r--`: these are the permissions for members of the group of the file (ignore this for now);\n",
    "  * `r--`: these are the permissoins for everyone else on the system.\n",
    "\n",
    "Roughly speaking, there are three permissions:\n",
    "  * `r`: read permission, i.e., permission to view the contents of the file;\n",
    "  * `w`: write permission, i.e, permission to modify the file;\n",
    "  * `x`: execute permission, i.e., permission to run the file."
   ]
  },
  {
   "cell_type": "markdown",
   "id": "a9094224-bc1d-46b3-950d-573a0995f2dc",
   "metadata": {},
   "source": [
    "You can now give execute permission for the user and the group to the Bash scripts."
   ]
  },
  {
   "cell_type": "code",
   "execution_count": null,
   "id": "e5767213-4c5c-406f-b4c8-10444824f574",
   "metadata": {
    "tags": []
   },
   "outputs": [],
   "source": [
    "chmod ug+x *.sh"
   ]
  },
  {
   "cell_type": "markdown",
   "id": "1a4d6995-7bde-4adf-abbf-f86b970b576e",
   "metadata": {},
   "source": [
    "You can check that the permissions have changed."
   ]
  },
  {
   "cell_type": "code",
   "execution_count": null,
   "id": "6a44a1ab-0741-4bb0-beed-2e35b21ccdac",
   "metadata": {
    "tags": []
   },
   "outputs": [],
   "source": [
    "ls -l "
   ]
  },
  {
   "cell_type": "code",
   "execution_count": null,
   "id": "4fcd9c81-c4cc-48bd-afbb-d2fe6f9ef441",
   "metadata": {
    "tags": []
   },
   "outputs": [],
   "source": [
    "bye.sh"
   ]
  },
  {
   "cell_type": "markdown",
   "id": "aede2c1c-69d6-402a-8b05-f5661e7f0428",
   "metadata": {},
   "source": [
    "### rm: removing files and directories"
   ]
  },
  {
   "cell_type": "markdown",
   "id": "109f5d6e-448d-4c12-8e09-0fa586104137",
   "metadata": {},
   "source": [
    "You perhaps noticed the backup file `bye.sh~`, and maybe you want to get rid of it at some point.  You can remove a file using the `rm` (remove) command."
   ]
  },
  {
   "cell_type": "code",
   "execution_count": null,
   "id": "2f92b288-5e5f-4244-ae51-fca74587733a",
   "metadata": {
    "tags": []
   },
   "outputs": [],
   "source": [
    "rm bye.sh~"
   ]
  },
  {
   "cell_type": "markdown",
   "id": "914f0232-86e3-4a5e-ac8f-32d942182002",
   "metadata": {},
   "source": [
    "Note that removing files and directories is typically **irreversable** on a Linux system, so make sure that you don't loose any work when removing something."
   ]
  },
  {
   "cell_type": "markdown",
   "id": "85f0d7ec-b94c-428f-8bb2-4952e7f571f7",
   "metadata": {},
   "source": [
    "Just to practice, you can make a copy of the `hello_project` directory, remove the original, and rename the backup.\n",
    "\n",
    "First change to the partent directory of the `hello_project` directory."
   ]
  },
  {
   "cell_type": "code",
   "execution_count": null,
   "id": "55dca073-5bc3-41ed-880a-8ebf6fb45d2d",
   "metadata": {
    "tags": []
   },
   "outputs": [],
   "source": [
    "cd .."
   ]
  },
  {
   "cell_type": "markdown",
   "id": "8ed10004-becd-4907-a150-c0440723d844",
   "metadata": {},
   "source": [
    "List the files and directories."
   ]
  },
  {
   "cell_type": "code",
   "execution_count": null,
   "id": "f72e4ac6-da1c-455e-865d-2e5feff0d274",
   "metadata": {
    "tags": []
   },
   "outputs": [],
   "source": [
    "ls"
   ]
  },
  {
   "cell_type": "markdown",
   "id": "cab1c22e-0488-408d-a30d-4baad98ab19f",
   "metadata": {},
   "source": [
    "Recursively copy the `hello_project` directory is copied to a directory called \"hello_project_bak\"."
   ]
  },
  {
   "cell_type": "code",
   "execution_count": null,
   "id": "2b3dae48-6284-4356-bfc1-c5dc1df4f708",
   "metadata": {
    "tags": []
   },
   "outputs": [],
   "source": [
    "cp -r hello_project hello_project_bak"
   ]
  },
  {
   "cell_type": "markdown",
   "id": "96c21514-0893-4488-a344-f34460de3fa5",
   "metadata": {},
   "source": [
    "Now you can recursively remove the original directory."
   ]
  },
  {
   "cell_type": "code",
   "execution_count": null,
   "id": "e4600dd1-73d4-4390-8a43-acf15de95ef2",
   "metadata": {
    "tags": []
   },
   "outputs": [],
   "source": [
    "rm -r hello_project"
   ]
  },
  {
   "cell_type": "markdown",
   "id": "fe2fd688-bbb3-4762-9738-e523803fdf5b",
   "metadata": {},
   "source": [
    "Since this was just an exercise, rename the `hello_project_bak` directory back to \"hello_project\"."
   ]
  },
  {
   "cell_type": "code",
   "execution_count": null,
   "id": "bb2b2917-6a31-45fb-ac16-89458c272bdf",
   "metadata": {
    "tags": []
   },
   "outputs": [],
   "source": [
    "mv hello_project_bak hello_project"
   ]
  },
  {
   "cell_type": "markdown",
   "id": "3f44ad76-dd17-467b-91e3-3f9e5c03325a",
   "metadata": {},
   "source": [
    "## Summary"
   ]
  },
  {
   "cell_type": "markdown",
   "id": "fff99040-49de-4d2b-a4ef-308cf74d8d4b",
   "metadata": {},
   "source": [
    "At this point, you mastered the basics of directory navigation and file management.  You have already encountered:\n",
    "\n",
    "  * `ls`: showing the contents of your directories;\n",
    "  * `man`: get information on Linux commands;\n",
    "  * `nano` and `less`: edit and view your files;\n",
    "  * `pwd`: show the present working directory;\n",
    "  * `cd`: change directory, i.e., navigate the file system;\n",
    "  * `mkdir`: create directories;\n",
    "  * `mv`: move and rename files and directories;\n",
    "  * `cp`: copy files and directories;\n",
    "  * `chmod`: change permissions on files and directories;\n",
    "  * `rm`: remove files and directories.\n",
    "  \n",
    "You also learned about the following concepts:\n",
    "\n",
    "  * your home, data and scratch directories;\n",
    "  * how to run your scripts in the terminal."
   ]
  },
  {
   "cell_type": "markdown",
   "id": "bcd73324-1838-4673-9165-ab69aa5cf50b",
   "metadata": {},
   "source": [
    "## Where to go from here?"
   ]
  },
  {
   "cell_type": "markdown",
   "id": "6c963042-3a30-4fae-9162-e92b86eaa588",
   "metadata": {},
   "source": [
    "Of course, there is a lot more to learn, but what exactly depends a little bit on your domain and interests:\n",
    "\n",
    "  * you want to [run Python scripts](005_running_python.ipynb);\n",
    "  * you want to [run R scripts](running_r_scripts.ipynb);\n",
    "  * using [software modules](003_software_modules.ipynb)."
   ]
  },
  {
   "cell_type": "code",
   "execution_count": null,
   "id": "d6330eeb-b784-4d1d-9fbc-1ab842003cd1",
   "metadata": {},
   "outputs": [],
   "source": []
  }
 ],
 "metadata": {
  "kernelspec": {
   "display_name": "Bash (ipykernel)",
   "language": "bash",
   "name": "bash"
  },
  "language_info": {
   "codemirror_mode": "shell",
   "file_extension": ".sh",
   "mimetype": "text/x-sh",
   "name": "bash"
  }
 },
 "nbformat": 4,
 "nbformat_minor": 5
}
