{
 "cells": [
  {
   "cell_type": "markdown",
   "id": "212e39a3-b55f-43d2-a4ca-689006b4ef63",
   "metadata": {},
   "source": [
    "# HPC intro"
   ]
  },
  {
   "cell_type": "markdown",
   "id": "5f607235-7b96-4d98-a84d-a45d5d527f76",
   "metadata": {},
   "source": [
    "## Using Python"
   ]
  },
  {
   "cell_type": "markdown",
   "id": "6a36e6eb-9671-472e-8043-a676b40ff1f4",
   "metadata": {},
   "source": [
    "Python is of course a very useful programming language for data processing, analysis and visualization.\n",
    "\n",
    "There are many tutorials and courses that will teach you Python, so that is not the scope of this tutorial.  Here you will learn how to run Python on our HPC infrastructure, assuming you are already familiar with the language and packages."
   ]
  },
  {
   "cell_type": "markdown",
   "id": "862edb6d-6a59-4435-9f3c-e13601ff6cc2",
   "metadata": {},
   "source": [
    "### Python scripts"
   ]
  },
  {
   "cell_type": "markdown",
   "id": "30a3fab4-1e0c-4146-9c4c-ef346a094869",
   "metadata": {},
   "source": [
    "Given that Python scripts are simple text files, you can create or modify them using your favorite editor.  You can do this for instance on the infrastructure using `nano`, or on your own system and transfer the finished script or module to the HPC system.\n",
    "\n",
    "To build up gradually, you can start with a very simple script that takes a string as a command line argument, and prints a greeting to standard output.  Your script is stored in a file `hello.py` which could look like this.\n",
    "\n",
    "```\n",
    "#!/usr/bin/env python\n",
    "\n",
    "import argparse\n",
    "\n",
    "\n",
    "arg_parser = argparse.ArgumentParser(description='say hello')\n",
    "arg_parser.add_argument('name', help='who to say hello to')\n",
    "options = arg_parser.parse_args()\n",
    "\n",
    "print('Hello ' + options.name + '!')\n",
    "```\n",
    "\n",
    "The only module used in this script, `argparse` is in Python's standard library, and the script has been written in such a way that it will work with any version of Python.  In practice, use f-strings, and a recent version of Python."
   ]
  },
  {
   "cell_type": "markdown",
   "id": "9bdd4dd3-465e-40d8-995f-a07161856d7a",
   "metadata": {},
   "source": [
    "### Running simple scripts"
   ]
  },
  {
   "cell_type": "markdown",
   "id": "976cea0c-d222-4838-b03b-6e9adf13f4d9",
   "metadata": {},
   "source": [
    "You can run it by giving it as a command line argument to the Python interpreter."
   ]
  },
  {
   "cell_type": "code",
   "execution_count": null,
   "id": "5f63a009-9c86-44ee-a23f-bae6e2b52931",
   "metadata": {
    "tags": []
   },
   "outputs": [],
   "source": [
    "python hello.py there"
   ]
  },
  {
   "cell_type": "markdown",
   "id": "b30e3c53-f673-4f65-aaec-d4df1c39e45b",
   "metadata": {},
   "source": [
    "You can of course easily check which version of Python is used to run your script, as well as where it is installed on the system."
   ]
  },
  {
   "cell_type": "code",
   "execution_count": null,
   "id": "d76d6a18-bdd9-47fb-882f-d7aaf04257e7",
   "metadata": {
    "tags": []
   },
   "outputs": [],
   "source": [
    "python --version"
   ]
  },
  {
   "cell_type": "code",
   "execution_count": null,
   "id": "d9816deb-bcc7-4fbf-bc8a-fba7b7af2c0a",
   "metadata": {
    "tags": []
   },
   "outputs": [],
   "source": [
    "which python"
   ]
  },
  {
   "cell_type": "markdown",
   "id": "a21fa7b7-7d3e-4252-92a0-10413f497d44",
   "metadata": {},
   "source": [
    "However, often the version of the Python interpreter that comes with the operating system is not the one you would like to use, or you want to use Python packages that are not installed, so what can you do?\n",
    "\n",
    "Here, we will assume that you have a (fairly simple) script that computes a function for an array of floating point values, and that writes a line plot that shows the results to a file.\n",
    "\n",
    "```\n",
    "#!/usr/bin/env python\n",
    "\n",
    "import matplotlib.pyplot as plt\n",
    "import numpy as np\n",
    "\n",
    "\n",
    "x = np.linspace(-2*np.pi, 2*np.pi, 501)\n",
    "y = np.sin(x)\n",
    "\n",
    "plt.plot(x, y, '-')\n",
    "plt.savefig('sin.png')\n",
    "```\n",
    "\n",
    "This script requires both the numpy and matplotlib packages, running it with the default Python interpreter is not going to be a big success."
   ]
  },
  {
   "cell_type": "code",
   "execution_count": null,
   "id": "3bdbe126-28a4-41f5-a7a0-f3205a2715a4",
   "metadata": {
    "tags": []
   },
   "outputs": [],
   "source": [
    "python sin_plot.py"
   ]
  },
  {
   "cell_type": "markdown",
   "id": "2c4ad69d-3804-4115-b394-f16409b1d3ec",
   "metadata": {},
   "source": [
    "As it happens, there are quite a number of options,\n",
    "\n",
    "  1. install packages in your home directory's `.local` directory using `pip`;\n",
    "     * advantages: fairly straightforward\n",
    "     * disadvantages: sure to create a dependency mess later on, performance is likely to be an issue\n",
    "     * conclusion: *please don't*\n",
    "  1. use the module system and Python versions and packages installed by your system administrator;\n",
    "     * advantages: typically excellent performance\n",
    "     * disadvantages: since system administrators really can't install any and all Python packages, you\n",
    "       may have to install some packages yourself anyway\n",
    "     * conclusion: perfect if you have no requirements beyond the packages that are available\n",
    "  1. use a package manager such as [miniconda](https://docs.conda.io/en/latest/miniconda.html)\n",
    "     or [mamba](https://github.com/mamba-org/mamba)\n",
    "     * advantages: you have full control over the versions of Python and all packages\n",
    "     * disadvantages: unless you know what you are doing, performance may be an issue\n",
    "     * conclusion: way to go if you know what you are doing\n",
    "  1. use [apptainer](https://apptainer.org/) or [podman](https://podman.io/) containers\n",
    "     * advantages: if you know what you are doing, you can create a reproducible environment that is\n",
    "       portable across systems\n",
    "     * disadvantages: more involved than the other approaches, with considerable pitfalls\n",
    "     * conclusion: not for the faint of heart\n",
    "    \n",
    "Given that the first option is not recommended at all, and the fourth goes beyond the scope of this tutorial, you will learn how to\n",
    "\n",
    "  * use the module system\n",
    "  * install and use miniconda"
   ]
  },
  {
   "cell_type": "markdown",
   "id": "e4cdba08-f7d4-42c9-96c5-f4384770821b",
   "metadata": {},
   "source": [
    "### Software module system"
   ]
  },
  {
   "cell_type": "markdown",
   "id": "74672696-e769-48ab-8e19-001f89c1522b",
   "metadata": {},
   "source": [
    "An HPC system is almost by definition a multi-tenant system.  The users on such a system have specific requirements with respect to the software they want to use.  For instance, some may want to work with a certain version of Python, while others prefer a newer one.\n",
    "\n",
    "To deal with this, most HPC system use a module system that allows to easily pick the software and its specific version you want to use.  There is just a single command to interact with the software stack: `module`.  It has several subcommand that you will learn about belo."
   ]
  },
  {
   "cell_type": "markdown",
   "id": "29393d8c-d7f9-4b5f-87b6-55363d472797",
   "metadata": {},
   "source": [
    "#### Available software"
   ]
  },
  {
   "cell_type": "markdown",
   "id": "c796733e-1690-42a5-af96-4cd0422f4520",
   "metadata": {},
   "source": [
    "In order to get a list of the software that is available throught the module system, you can use the `module available` command.  That will list all the software packages that you can use on the system.\n",
    "\n",
    "Since this list is huge, you can be a bit more specific by providing (part of) the name of the software package you are looking for.  Note that this is case-sensitive."
   ]
  },
  {
   "cell_type": "code",
   "execution_count": null,
   "id": "c91818f8-d689-444b-9e98-65f8c29ae03b",
   "metadata": {
    "tags": []
   },
   "outputs": [],
   "source": [
    "module available Python"
   ]
  },
  {
   "cell_type": "markdown",
   "id": "aca20a9e-d62c-4db2-8bb8-b4513e77c8ef",
   "metadata": {},
   "source": [
    "To run Python, the `Python/3.9.5-GCCcore-10.3.0` module sounds promising.  The name may seem a bit cryptic, but once you understand the pattern, it is easy to interprete.\n",
    "\n",
    "The name of a module consists of several parts that provide useful information:\n",
    "  * `Python` is the name of the software package;\n",
    "  * `3.9.5` is the version of that package, i.e., of the Python distribution;\n",
    "  * `GCCcore-10.3.0` tells you that this Python distribution has been compiled using the GCC compiler suite, version 10.3.0."
   ]
  },
  {
   "cell_type": "markdown",
   "id": "35dbcd1b-3aad-4de7-8756-b7801c25330f",
   "metadata": {},
   "source": [
    "#### Using a software package"
   ]
  },
  {
   "cell_type": "markdown",
   "id": "8f1b7ffc-490f-4594-b8c6-8c47abcc162c",
   "metadata": {},
   "source": [
    "To use a software package, you simply load the corresponding module."
   ]
  },
  {
   "cell_type": "code",
   "execution_count": null,
   "id": "a03283bb-cd35-4868-b4c8-3f58fe32079e",
   "metadata": {
    "tags": []
   },
   "outputs": [],
   "source": [
    "module load Python/3.9.5-GCCcore-10.3.0"
   ]
  },
  {
   "cell_type": "markdown",
   "id": "76bb715c-763f-4048-8cfc-e5ea4ed03e0b",
   "metadata": {},
   "source": [
    "You can verify that you now use the Python interpreter you expect by checking version and location of the `python` executable."
   ]
  },
  {
   "cell_type": "code",
   "execution_count": null,
   "id": "9498284d-a2c8-4e7c-be16-d575814fd0fc",
   "metadata": {
    "tags": []
   },
   "outputs": [],
   "source": [
    "python --version"
   ]
  },
  {
   "cell_type": "code",
   "execution_count": null,
   "id": "00f218a5-5a27-4596-9db5-74eb71a85fb8",
   "metadata": {
    "tags": []
   },
   "outputs": [],
   "source": [
    "which python"
   ]
  },
  {
   "cell_type": "markdown",
   "id": "fd44c91f-12e5-4d85-9f71-a5c5ff4c8631",
   "metadata": {},
   "source": [
    "Now you can run your script using this version of Python."
   ]
  },
  {
   "cell_type": "code",
   "execution_count": null,
   "id": "f42f1bb2-6cb5-4e5e-ab8f-7005f6f2042f",
   "metadata": {
    "tags": []
   },
   "outputs": [],
   "source": [
    "python sin_plot.py"
   ]
  },
  {
   "cell_type": "markdown",
   "id": "eaf3f6a4-1238-44c1-94be-60eefc62e44a",
   "metadata": {},
   "source": [
    "As you can see, there is still an issue: no numpy."
   ]
  },
  {
   "cell_type": "markdown",
   "id": "92bb33bf-5398-4e14-9800-32b39836b0fb",
   "metadata": {},
   "source": [
    "#### Searching for software"
   ]
  },
  {
   "cell_type": "markdown",
   "id": "3a8ecd1b-acd4-43aa-9589-2bcf76c98eea",
   "metadata": {},
   "source": [
    "While `module available` can be used to find what you are looking for if you know the name of the package *exactly*, that is not always the case.  Here, `module spider` can help you.  It does a search through the meta-data of the modules as well, and is case sensitive, so it is a very useful tool.\n",
    "\n",
    "You are looking for a module that would be useful to do scientific computing with Python, so perhaps \"scipy\" would be a useful search term.|"
   ]
  },
  {
   "cell_type": "code",
   "execution_count": null,
   "id": "44172674-b006-4ca4-9c78-56c006340185",
   "metadata": {
    "tags": []
   },
   "outputs": [],
   "source": [
    "module spider scipy"
   ]
  },
  {
   "cell_type": "markdown",
   "id": "66e601f8-1c0d-4e14-a27b-d096c3eab0c5",
   "metadata": {},
   "source": [
    "This module sounds promising.  You can load it and test your script."
   ]
  },
  {
   "cell_type": "code",
   "execution_count": null,
   "id": "fb3e138d-bebe-4083-ad4e-4d02b47ed1dd",
   "metadata": {
    "tags": []
   },
   "outputs": [],
   "source": [
    "module load SciPy-bundle/2021.05-foss-2021a"
   ]
  },
  {
   "cell_type": "markdown",
   "id": "ce356966-53ec-4499-b40e-945371508a0d",
   "metadata": {},
   "source": [
    "Notice that the module system will sometimes substute one module for another in order to satisfy dependencies.  Although this is usually innocent, you may want to keep an eye on the output of `module load` commands."
   ]
  },
  {
   "cell_type": "code",
   "execution_count": null,
   "id": "9fa6ef3a-7953-4b44-ab42-0a1658a7ab55",
   "metadata": {
    "tags": []
   },
   "outputs": [],
   "source": [
    "python sin_plot.py"
   ]
  },
  {
   "cell_type": "markdown",
   "id": "b2763d58-da23-4e1e-907b-647ee51ce355",
   "metadata": {},
   "source": [
    "Closer, but no cigar.  You still need matplotlib.  You can check whehter it is available.  Note that you can use `av` as an abbreviation for `available`."
   ]
  },
  {
   "cell_type": "code",
   "execution_count": null,
   "id": "217f6b0f-afd1-4da9-8928-ab12f97dd94b",
   "metadata": {
    "tags": []
   },
   "outputs": [],
   "source": [
    "module av matplotlib"
   ]
  },
  {
   "cell_type": "markdown",
   "id": "a34c40fb-2888-4372-b8cf-5376977af5fd",
   "metadata": {},
   "source": [
    "After you load that module, you can succesfully run your script."
   ]
  },
  {
   "cell_type": "code",
   "execution_count": null,
   "id": "e76b5a5b-94ff-4912-935f-cb91d7400372",
   "metadata": {
    "tags": []
   },
   "outputs": [],
   "source": [
    "module load matplotlib/3.4.2-foss-2021a"
   ]
  },
  {
   "cell_type": "code",
   "execution_count": null,
   "id": "62d0ac76-3ab1-475f-a48a-49a96775e5d1",
   "metadata": {
    "tags": []
   },
   "outputs": [],
   "source": [
    "python sin_plot.py"
   ]
  },
  {
   "cell_type": "markdown",
   "id": "f48886ae-d716-4300-99d8-625ce6aa8d46",
   "metadata": {},
   "source": [
    "#### Which modules are loaded?"
   ]
  },
  {
   "cell_type": "markdown",
   "id": "ec7a0f89-f50f-4916-82ba-dd35872f2b59",
   "metadata": {},
   "source": [
    "It can be useful to check which modules you have loaded.  You can get a list of them easily."
   ]
  },
  {
   "cell_type": "code",
   "execution_count": null,
   "id": "cbe5bbd3-9b3e-4fdb-aa58-60a1d5416a6f",
   "metadata": {
    "tags": []
   },
   "outputs": [],
   "source": [
    "module list"
   ]
  },
  {
   "cell_type": "markdown",
   "id": "ec531880-166b-4dd5-a5af-82edb15fff40",
   "metadata": {},
   "source": [
    "You will see that many more modules are listed than you actually loaded, that was just the Scipy-bundle and matplotlib.  All the other modules you see listed are loaded automatically, since the ones you load list them as dependencies."
   ]
  },
  {
   "cell_type": "markdown",
   "id": "b8222084-4d87-41bf-81e9-6bb2a7e41c46",
   "metadata": {},
   "source": [
    "#### Getting rid of loaded modules"
   ]
  },
  {
   "cell_type": "markdown",
   "id": "f19befc2-e867-40cf-89c1-89ac4fedf076",
   "metadata": {},
   "source": [
    "If you no longer need a loaded module, you can simply unload it."
   ]
  },
  {
   "cell_type": "code",
   "execution_count": null,
   "id": "beaa3474-846d-4419-b18f-ce549ba77b75",
   "metadata": {
    "tags": []
   },
   "outputs": [],
   "source": [
    "module unload matplotlib"
   ]
  },
  {
   "cell_type": "markdown",
   "id": "42ecce62-6320-4e0e-8749-4035b36524d4",
   "metadata": {},
   "source": [
    "Note that you don't have to specify the version of the module.  The module system can have only one version of a software module loaded, so it will unload that one.\n",
    "\n",
    "To get rid of all loaded modules, you can purge them."
   ]
  },
  {
   "cell_type": "code",
   "execution_count": null,
   "id": "8bbdaded-a941-45d3-ad95-d2b2ee8695f9",
   "metadata": {
    "tags": []
   },
   "outputs": [],
   "source": [
    "module purge"
   ]
  },
  {
   "cell_type": "markdown",
   "id": "c387f698-702d-4bad-8988-41822ab5e6e0",
   "metadata": {},
   "source": [
    "As you will see later, it is good practice to purge all the modules in a job script, and only load the ones that you require in you script, with the exacct version you would like to use.\n",
    "\n",
    "You can verify that no modules are loaded."
   ]
  },
  {
   "cell_type": "code",
   "execution_count": null,
   "id": "65dddfa3-3f9d-45fd-892f-e2e37fa9b1c1",
   "metadata": {
    "tags": []
   },
   "outputs": [],
   "source": [
    "module list"
   ]
  },
  {
   "cell_type": "markdown",
   "id": "64680da7-432d-4971-9bbe-201b7a482f4a",
   "metadata": {},
   "source": [
    "#### More information"
   ]
  },
  {
   "cell_type": "markdown",
   "id": "78273abd-d4ec-41f0-9ea2-fe15326d98f5",
   "metadata": {},
   "source": [
    "For a more systematic overview of the module system and how to use it, you can view the [tutorial](003_software_modules.ipynb) or the [documentation](http://lmod.readthedocs.org)."
   ]
  },
  {
   "cell_type": "markdown",
   "id": "8d695c83-8f15-4ee5-a8e6-554f3058cf3b",
   "metadata": {
    "tags": []
   },
   "source": [
    "### Package manager: miniconda"
   ]
  },
  {
   "cell_type": "markdown",
   "id": "307aac3b-6ed1-4208-9b2c-f4b7fbcb8e03",
   "metadata": {},
   "source": [
    "Although using the module system guarantees that you will use a version of Python and packages that give you good performance, this approach may not be flexible enough for you.  You may want to use other versions of Python or packages than provided through the module system, or even use packages that are not provided at all.\n",
    "\n",
    "Of course, you can ask the helpdesk to install them for you, but typically this is only done for packages that are used fairly frequently.\n",
    "\n",
    "Using a package manager such as miniconda can help you with this issue.  Moreover, using conda environments helps you manage your dependencies and keep them sane.  With respect to reproducable computations, they are a great help as well since you can freeze an environment for a particular project and be sure that it will run with the identical software stack at a later stage."
   ]
  },
  {
   "cell_type": "markdown",
   "id": "11c51826-038e-4923-a41a-194434b6c696",
   "metadata": {},
   "source": [
    "#### Installing miniconda"
   ]
  },
  {
   "cell_type": "markdown",
   "id": "e812b43b-aae6-495c-8ccc-9ce4bbe66006",
   "metadata": {},
   "source": [
    "The first step is to download the miniconda installer script, and that is easy to do on the cluster itself using `wget`, a command line tool for downloading files from the web (and much more, but that is outside the scope of this tutorial)."
   ]
  },
  {
   "cell_type": "code",
   "execution_count": null,
   "id": "816842c7-2f94-4e97-a8c0-7b520404be38",
   "metadata": {
    "tags": []
   },
   "outputs": [],
   "source": [
    " wget https://repo.anaconda.com/miniconda/Miniconda3-latest-Linux-x86_64.sh"
   ]
  },
  {
   "cell_type": "markdown",
   "id": "454d9dac-9728-4c98-93ba-72437f2b1abc",
   "metadata": {},
   "source": [
    "You can verify that the installer was downloaded, it is a shell script with the `.sh` extension."
   ]
  },
  {
   "cell_type": "code",
   "execution_count": null,
   "id": "5e146c58-a5fe-4ee9-8544-ed07e1d136d8",
   "metadata": {
    "tags": []
   },
   "outputs": [],
   "source": [
    "ls"
   ]
  },
  {
   "cell_type": "markdown",
   "id": "f5cf6271-058b-4d77-936b-247c43f18e17",
   "metadata": {},
   "source": [
    "It is important to install miniconda in your data directory since this directory will also contain all your environments, and this can easily run into the gigabytes of storage after a short while.  Thiss would exceed the quota of your home directory.  You can specify the directory where you want to install using the `-p` option."
   ]
  },
  {
   "cell_type": "code",
   "execution_count": null,
   "id": "5e2cb352-4cda-46df-b291-bd79fd6262aa",
   "metadata": {
    "tags": []
   },
   "outputs": [],
   "source": [
    "bash Miniconda3-latest-Linux-x86_64.sh -b -p $VSC_DATA/miniconda3"
   ]
  },
  {
   "cell_type": "markdown",
   "id": "d70eab90-75c6-4948-b8e2-c32892364604",
   "metadata": {},
   "source": [
    "You can make miniconda more convenient to use by adding some configuration information to the files that control your settings.  This is easy using the following command."
   ]
  },
  {
   "cell_type": "code",
   "execution_count": null,
   "id": "41a2b791-2d6f-4915-8cf8-e0837c6fb602",
   "metadata": {
    "tags": []
   },
   "outputs": [],
   "source": [
    "$VSC_DATA/miniconda3/bin/conda init"
   ]
  },
  {
   "cell_type": "markdown",
   "id": "24b9d90b-81e4-45b1-bdb8-68b3830e1571",
   "metadata": {},
   "source": [
    "To make these new settings active for this notebook, you should reload your `.bashrc` file by sourcing it."
   ]
  },
  {
   "cell_type": "code",
   "execution_count": null,
   "id": "e5384148-e36f-446e-bfa3-ab91d77ff3f2",
   "metadata": {
    "tags": []
   },
   "outputs": [],
   "source": [
    "source ~/.bashrc"
   ]
  },
  {
   "cell_type": "markdown",
   "id": "a5565dd8-ea25-4e2d-a753-12359319d847",
   "metadata": {},
   "source": [
    "Clearly, you have to do this only once.  Now you are ready to use `conda` conveniently and create your first environment."
   ]
  },
  {
   "cell_type": "markdown",
   "id": "f85a6ee4-e355-4e2c-99be-2fe395d0bed3",
   "metadata": {},
   "source": [
    "#### Create an environment"
   ]
  },
  {
   "cell_type": "markdown",
   "id": "89e806fe-ccef-41c6-8218-a18c8eac0509",
   "metadata": {},
   "source": [
    "To create a new environment, you have to specify a name, e.g., `tutorial` for this example, and a list of packagesyou would like to include, e.g., `numpy`.  Of course, you also want matplotlib, but for the sake of this tutorial, you'll do that later so that you also know how to install new packages in an existing environment."
   ]
  },
  {
   "cell_type": "code",
   "execution_count": null,
   "id": "239cfaa7-bbe5-4632-b5cb-4769d9c155fe",
   "metadata": {
    "tags": []
   },
   "outputs": [],
   "source": [
    "conda create -y -q --name tutorial numpy"
   ]
  },
  {
   "cell_type": "markdown",
   "id": "642761d0-15da-4061-9a04-b6633965966c",
   "metadata": {},
   "source": [
    "#### Activating an environment"
   ]
  },
  {
   "cell_type": "markdown",
   "id": "4ae16ee7-d124-42c8-9ed1-2f8b168b9b72",
   "metadata": {},
   "source": [
    "To use an environment, you have to activate it.  You can do this as follows."
   ]
  },
  {
   "cell_type": "code",
   "execution_count": null,
   "id": "c4c26057-f39d-4f91-b42b-40177d2ec4b3",
   "metadata": {
    "tags": []
   },
   "outputs": [],
   "source": [
    "conda activate tutorial"
   ]
  },
  {
   "cell_type": "markdown",
   "id": "cfbc659d-27d9-4fb6-9e64-cc5dab0dda5c",
   "metadata": {},
   "source": [
    "When you are done, you can deactivate the currently active environment very easily."
   ]
  },
  {
   "cell_type": "code",
   "execution_count": null,
   "id": "581cf47f-d45d-4a5f-8bc7-ee6a87092fbb",
   "metadata": {
    "tags": []
   },
   "outputs": [],
   "source": [
    "conda deactivate"
   ]
  },
  {
   "cell_type": "markdown",
   "id": "aadf3c87-19ae-4398-83a8-f4f4515ffc7b",
   "metadata": {},
   "source": [
    "#### Installing packages"
   ]
  },
  {
   "cell_type": "markdown",
   "id": "488a214f-a1fa-47e9-80f2-3da2d2c53ecf",
   "metadata": {},
   "source": [
    "You still need to install matplotlib.  Since you can only install packages in an active environment, make sure that the one you want to install in is active."
   ]
  },
  {
   "cell_type": "code",
   "execution_count": null,
   "id": "1c844ec3-9269-4516-8be5-58a9b5b97f80",
   "metadata": {
    "tags": []
   },
   "outputs": [],
   "source": [
    "conda activate tutorial"
   ]
  },
  {
   "cell_type": "markdown",
   "id": "d046353e-c476-48d2-a902-3057d2b7a00a",
   "metadata": {},
   "source": [
    "To install matplotlib, you can use `conda install`."
   ]
  },
  {
   "cell_type": "code",
   "execution_count": null,
   "id": "cb599ec9-8736-404f-b3b3-fd0796c729e8",
   "metadata": {
    "tags": []
   },
   "outputs": [],
   "source": [
    "conda install -y -q matplotlib"
   ]
  },
  {
   "cell_type": "markdown",
   "id": "5bb39a22-4160-4523-978d-7565b86a6ef4",
   "metadata": {},
   "source": [
    "Note that you can install multiple packages by simply listing them, e.g., `conda install pandas seaborn`.\n",
    "\n",
    "Now you can run `sin_plot.py` in your new `tutorial` environment."
   ]
  },
  {
   "cell_type": "code",
   "execution_count": null,
   "id": "1325cf23-8eba-4382-9d68-184a03204dcb",
   "metadata": {
    "tags": []
   },
   "outputs": [],
   "source": [
    "python sin_plot.py"
   ]
  },
  {
   "cell_type": "code",
   "execution_count": null,
   "id": "c6aea98f-5d77-42f0-8740-4822b09c5305",
   "metadata": {
    "tags": []
   },
   "outputs": [],
   "source": [
    "ls"
   ]
  },
  {
   "cell_type": "markdown",
   "id": "0f0a21b1-1733-4bf9-92a1-227d60e27027",
   "metadata": {},
   "source": [
    "As you can see, the PNG file containing the plot has been created succesfully."
   ]
  },
  {
   "cell_type": "markdown",
   "id": "b8ec6aba-2db1-4aca-b118-1d18511cfd2e",
   "metadata": {},
   "source": [
    "#### Updating en environment"
   ]
  },
  {
   "cell_type": "markdown",
   "id": "b2ad8330-19b2-4dd4-9893-46aea8d7db0e",
   "metadata": {},
   "source": [
    "Sometimes you want to make sure that your environment conatains the latest version of the packages you are using.  Updating an environment is straightforward, but bear in mind that older scripts may no longer work, or that previous results are not exactly reproducilbe, so consider carefully before updating.\n",
    "\n",
    "With the environment you want to update active, you can update easily."
   ]
  },
  {
   "cell_type": "code",
   "execution_count": null,
   "id": "1c8245de-0b66-4e29-b65d-9d8087e3bbe6",
   "metadata": {},
   "outputs": [],
   "source": [
    "conda update -y -q --all"
   ]
  },
  {
   "cell_type": "markdown",
   "id": "123323cd-1d72-479a-b27d-2e4a3016480c",
   "metadata": {},
   "source": [
    "#### Duplicating an environment"
   ]
  },
  {
   "cell_type": "markdown",
   "id": "f2b98882-c58c-4984-a20f-0ea8fe550026",
   "metadata": {},
   "source": [
    "It can be a good idea to duplicate an existing environment as a starting point for a new project, or to ensure backward compatibility (the original environment) after an update (new environment).  This can easily be done by cloning the original environment."
   ]
  },
  {
   "cell_type": "code",
   "execution_count": null,
   "id": "2b67bdff-d0e8-41a4-a45b-cabee6264abf",
   "metadata": {
    "tags": []
   },
   "outputs": [],
   "source": [
    "conda create  --name tutorial_copy  --clone tutorial"
   ]
  },
  {
   "cell_type": "markdown",
   "id": "607afd2d-5f95-4923-a382-324783839746",
   "metadata": {},
   "source": [
    "#### Removing an environment"
   ]
  },
  {
   "cell_type": "markdown",
   "id": "78151529-5f59-4d9f-87f6-5d6f9aedc5ee",
   "metadata": {},
   "source": [
    "Once you are sure you no longer need an environment, you can remove it."
   ]
  },
  {
   "cell_type": "code",
   "execution_count": null,
   "id": "54ae7ebc-25f5-473f-833e-d45a21b106e2",
   "metadata": {
    "tags": []
   },
   "outputs": [],
   "source": [
    "conda env remove  --name tutorial_copy"
   ]
  },
  {
   "cell_type": "markdown",
   "id": "193fdf0e-150c-45bb-90cf-1cc531ac03a5",
   "metadata": {},
   "source": [
    "## Summary"
   ]
  },
  {
   "cell_type": "markdown",
   "id": "609db689-89cf-46e8-b689-b849cf658f99",
   "metadata": {},
   "source": [
    "In this tutorial you learned how to run Python scripts, either\n",
    "  * using modules, or\n",
    "  * by creating your own environment.\n",
    "  \n",
    "For the module system, You learned how to\n",
    "  * list available modules using `module available`\n",
    "  * search for modules using `module spider`\n",
    "  * use the software package using `module load`\n",
    "  * list all the modules you have currently loaded using `module list`\n",
    "  * unloading a module you no longer require using `module unload`\n",
    "  * unloading all modules, cleaning your environment using `module purge`\n",
    "\n",
    "If you prefer to use conda, you've learned ho to\n",
    "  * create a new environment using `conda create`\n",
    "  * activate an environment using `conda activate`\n",
    "  * deactivate an active environment using `conda deactivate`\n",
    "  * install additional packages in an environment using `conda install`\n",
    "  * update an enviornment using ``conda update`\n",
    "  * clone an environment\n",
    "  * remove an environment"
   ]
  },
  {
   "cell_type": "markdown",
   "id": "1410d5e8-4e7f-415f-ae55-8a5fa49fb185",
   "metadata": {},
   "source": [
    "## Where to go from here?"
   ]
  },
  {
   "cell_type": "markdown",
   "id": "b4fdec79-df73-4c73-a0a4-36b82cf6e162",
   "metadata": {},
   "source": [
    "You can now run a Python script on the login node, but that is only useful for very short computation, i.e., scripts that run in a minute or less.  You share the login node with many other users of the HPC system, so if you perform computationally intensive computations on this system, it will impact the performnce for all other users.\n",
    "\n",
    "Your real workloads will run on the compute nodes of the HPC system, and these computations are typically run via a job script.  You can learn more about that in\n",
    "  * [job scripts and the scheduler](020_jobs.ipynb)."
   ]
  }
 ],
 "metadata": {
  "kernelspec": {
   "display_name": "Bash (ipykernel)",
   "language": "bash",
   "name": "bash"
  },
  "language_info": {
   "codemirror_mode": "shell",
   "file_extension": ".sh",
   "mimetype": "text/x-sh",
   "name": "bash"
  }
 },
 "nbformat": 4,
 "nbformat_minor": 5
}
