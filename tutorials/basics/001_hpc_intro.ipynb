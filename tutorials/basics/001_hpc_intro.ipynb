{
 "cells": [
  {
   "cell_type": "markdown",
   "id": "99d528c3-ed52-441c-bac6-c8c4cbe667af",
   "metadata": {},
   "source": [
    "# HPC intro"
   ]
  },
  {
   "cell_type": "markdown",
   "id": "43cb5d55-9d82-4ffe-a397-978836bd8ee1",
   "metadata": {},
   "source": [
    "## Your home directory"
   ]
  },
  {
   "cell_type": "markdown",
   "id": "83b34ac6-7f65-47d3-90ba-83ece5d4b83f",
   "metadata": {},
   "source": [
    "When you log in to our HPC system, and to any Linux system for that matter, your session will start in your home directory."
   ]
  },
  {
   "cell_type": "markdown",
   "id": "470a0c39-8d70-42a6-9a69-b4500ebffb57",
   "metadata": {},
   "source": [
    "### ls: directory listings"
   ]
  },
  {
   "cell_type": "markdown",
   "id": "beebd932-83b2-4a60-9c53-fb5fcb49b106",
   "metadata": {},
   "source": [
    "You can check the contents of a directory with the `ls` (list) command."
   ]
  },
  {
   "cell_type": "code",
   "execution_count": 1,
   "id": "ca2327b1-285d-4070-ae3f-1f6e3346a5b1",
   "metadata": {},
   "outputs": [
    {
     "name": "stdout",
     "output_type": "stream",
     "text": [
      "\u001b[0m\u001b[01;36mDocuments\u001b[0m       \u001b[01;32ma.out\u001b[0m       \u001b[01;34mgo\u001b[0m           \u001b[01;34mnltk_data\u001b[0m\n",
      "\u001b[01;36mDownloads\u001b[0m       \u001b[01;34mbin\u001b[0m         \u001b[01;34mjulia-1.8.5\u001b[0m  \u001b[01;34mnode-v18.16.1-linux-x64\u001b[0m\n",
      "\u001b[01;34mProjects\u001b[0m        \u001b[01;34mconf\u001b[0m        \u001b[01;34mjulia-1.9.1\u001b[0m  \u001b[01;34mtmp\u001b[0m\n",
      "Untitled.ipynb  \u001b[01;34mdemo-magic\u001b[0m  \u001b[01;34mmambaforge\u001b[0m   \u001b[01;34mvcpkg\u001b[0m\n"
     ]
    }
   ],
   "source": [
    "ls"
   ]
  },
  {
   "cell_type": "markdown",
   "id": "c9f8946b-7790-4220-a7b2-2e4f868f3b56",
   "metadata": {},
   "source": [
    "You like don't see any output, but that is normal.  When you just start out as a new user, you don't have any files or directories.  Well, actually, you do.  Some files and directories are hidden because their names start with a '.'.  You can show these using the `-a` (all) option of the`ls` command."
   ]
  },
  {
   "cell_type": "code",
   "execution_count": 2,
   "id": "39500c11-7406-44ca-a979-a8c44896925d",
   "metadata": {},
   "outputs": [
    {
     "name": "stdout",
     "output_type": "stream",
     "text": [
      "\u001b[0m\u001b[01;34m.\u001b[0m                 .gnuplot_history           \u001b[01;36m.vim\u001b[0m\n",
      "\u001b[01;34m..\u001b[0m                \u001b[01;36m.inputrc\u001b[0m                   .viminfo\n",
      ".Xauthority       \u001b[01;34m.ipynb_checkpoints\u001b[0m         \u001b[01;36m.vimrc\u001b[0m\n",
      "\u001b[01;34m.apptainer\u001b[0m        \u001b[01;34m.ipython\u001b[0m                   \u001b[01;32m.vimrc~\u001b[0m\n",
      ".ash_history      \u001b[01;34m.julia\u001b[0m                     \u001b[01;34m.vscode-server\u001b[0m\n",
      ".aspell.en.prepl  \u001b[01;34m.jupyter\u001b[0m                   .wget-hsts\n",
      ".aspell.en.pws    \u001b[01;34m.landscape\u001b[0m                 \u001b[01;34m.yarn\u001b[0m\n",
      ".bash_history     .lesshst                   \u001b[01;36mDocuments\u001b[0m\n",
      ".bash_logout      \u001b[01;34m.local\u001b[0m                     \u001b[01;36mDownloads\u001b[0m\n",
      "\u001b[01;36m.bashrc\u001b[0m           .mamba_init.sh             \u001b[01;34mProjects\u001b[0m\n",
      ".bashrc~          .motd_shown                Untitled.ipynb\n",
      "\u001b[01;34m.cache\u001b[0m            \u001b[01;34m.npm\u001b[0m                       \u001b[01;32ma.out\u001b[0m\n",
      ".cdargs           \u001b[01;34m.nv\u001b[0m                        \u001b[01;34mbin\u001b[0m\n",
      "\u001b[01;36m.cdargs-bash.sh\u001b[0m   \u001b[01;36m.profile\u001b[0m                   \u001b[01;34mconf\u001b[0m\n",
      ".cdargs~          .python_history            \u001b[01;34mdemo-magic\u001b[0m\n",
      "\u001b[01;34m.conda\u001b[0m            \u001b[01;34m.singularity\u001b[0m               \u001b[01;34mgo\u001b[0m\n",
      "\u001b[01;36m.conda_init.sh\u001b[0m    \u001b[01;34m.ssh\u001b[0m                       \u001b[01;34mjulia-1.8.5\u001b[0m\n",
      "\u001b[01;34m.config\u001b[0m           \u001b[01;36m.start_docker.sh\u001b[0m           \u001b[01;34mjulia-1.9.1\u001b[0m\n",
      "\u001b[01;36m.cuda.sh\u001b[0m          \u001b[01;34m.streamlit\u001b[0m                 \u001b[01;34mmambaforge\u001b[0m\n",
      "\u001b[01;34m.dbus\u001b[0m             .sudo_as_admin_successful  \u001b[01;34mnltk_data\u001b[0m\n",
      "\u001b[01;36m.direnvrc\u001b[0m         \u001b[01;36m.tmux\u001b[0m                      \u001b[01;34mnode-v18.16.1-linux-x64\u001b[0m\n",
      "\u001b[01;32m.direnvrc~\u001b[0m        \u001b[01;36m.tmux.conf\u001b[0m                 \u001b[01;34mtmp\u001b[0m\n",
      "\u001b[01;36m.git-prompt.sh\u001b[0m    \u001b[01;36m.tmux_demo.conf\u001b[0m            \u001b[01;34mvcpkg\u001b[0m\n",
      "\u001b[01;36m.gitconfig\u001b[0m        \u001b[01;34m.vcpkg\u001b[0m\n"
     ]
    }
   ],
   "source": [
    "ls -a"
   ]
  },
  {
   "cell_type": "markdown",
   "id": "d7e4a3e8-633a-412e-afcb-eea8894f64ea",
   "metadata": {},
   "source": [
    "Please don't modify these files (unless you *really, really* know what your are doing) or delete them.  When you make mistakes, you may not be able to login anymore.  Support staff will pretend to be sympathetic, but they will make fun of you behind your back."
   ]
  },
  {
   "cell_type": "markdown",
   "id": "c12814af-1698-4536-a1e8-c5e6c65bdd0a",
   "metadata": {},
   "source": [
    "`ls` and other Bash commands often have many options to fine-tune their behaviour.  As mentioned, `-a` will reveal hidden files, while `-l` (long) will show more information on the files and directories such as the permissions, the owner and group, the file size and the last modification date.\n",
    "\n",
    "You can combine those options, e.g., `-a -l`."
   ]
  },
  {
   "cell_type": "code",
   "execution_count": 3,
   "id": "8ff9eb98-2e2f-47f7-afda-3ba28f3bc852",
   "metadata": {},
   "outputs": [
    {
     "name": "stdout",
     "output_type": "stream",
     "text": [
      "total 300\n",
      "drwxr-xr-x 33 gjb  gjb   4096 Jun 29 06:53 \u001b[0m\u001b[01;34m.\u001b[0m\n",
      "drwxr-xr-x  3 root root  4096 Nov 11  2021 \u001b[01;34m..\u001b[0m\n",
      "-rw-------  1 gjb  gjb     54 Jun 22 13:10 .Xauthority\n",
      "drwx------  5 gjb  gjb   4096 May 21 14:34 \u001b[01;34m.apptainer\u001b[0m\n",
      "-rw-------  1 gjb  gjb     35 Feb 18 08:10 .ash_history\n",
      "-rw-r--r--  1 gjb  gjb     44 Jun 17  2022 .aspell.en.prepl\n",
      "-rw-r--r--  1 gjb  gjb     22 Jun 17  2022 .aspell.en.pws\n",
      "-rw-------  1 gjb  gjb  10141 Jun 28 17:04 .bash_history\n",
      "-rw-r--r--  1 gjb  gjb    220 Nov 11  2021 .bash_logout\n",
      "lrwxrwxrwx  1 gjb  gjb     33 Dec  6  2022 \u001b[01;36m.bashrc\u001b[0m -> conf/config_files/bash_pc/.bashrc\n",
      "-rw-r--r--  1 gjb  gjb   5558 May  8 08:47 .bashrc~\n",
      "drwxr-xr-x 16 gjb  gjb   4096 Jun 22 18:39 \u001b[01;34m.cache\u001b[0m\n",
      "-rw-r--r--  1 gjb  gjb    111 Jan 12 13:57 .cdargs\n",
      "lrwxrwxrwx  1 gjb  gjb     45 Dec  6  2022 \u001b[01;36m.cdargs-bash.sh\u001b[0m -> conf/config_files/bash_common/.cdargs-bash.sh\n",
      "-rw-r--r--  1 gjb  gjb    139 Jan 12 13:56 .cdargs~\n",
      "drwxr-xr-x  2 gjb  gjb   4096 Nov 11  2021 \u001b[01;34m.conda\u001b[0m\n",
      "lrwxrwxrwx  1 gjb  gjb     41 Dec  6  2022 \u001b[01;36m.conda_init.sh\u001b[0m -> conf/config_files/conda_pc/.conda_init.sh\n",
      "drwxr-xr-x 20 gjb  gjb   4096 Jun 28 09:50 \u001b[01;34m.config\u001b[0m\n",
      "lrwxrwxrwx  1 gjb  gjb     35 Dec  6  2022 \u001b[01;36m.cuda.sh\u001b[0m -> conf/config_files/bash_wsl/.cuda.sh\n",
      "drwx------  3 gjb  gjb   4096 Mar 26  2022 \u001b[01;34m.dbus\u001b[0m\n",
      "lrwxrwxrwx  1 gjb  gjb     34 Dec  6  2022 \u001b[01;36m.direnvrc\u001b[0m -> conf/config_files/direnv/.direnvrc\n",
      "-rwxr-xr-x  1 gjb  gjb    632 Dec  6  2022 \u001b[01;32m.direnvrc~\u001b[0m\n",
      "lrwxrwxrwx  1 gjb  gjb     44 Dec  6  2022 \u001b[01;36m.git-prompt.sh\u001b[0m -> conf/config_files/bash_common/.git-prompt.sh\n",
      "lrwxrwxrwx  1 gjb  gjb     32 Dec  6  2022 \u001b[01;36m.gitconfig\u001b[0m -> conf/config_files/git/.gitconfig\n",
      "-rw-------  1 gjb  gjb   4165 Mar 20 16:36 .gnuplot_history\n",
      "lrwxrwxrwx  1 gjb  gjb     38 Dec  6  2022 \u001b[01;36m.inputrc\u001b[0m -> conf/config_files/bash_common/.inputrc\n",
      "drwxr-xr-x  2 gjb  gjb   4096 May 31 15:16 \u001b[01;34m.ipynb_checkpoints\u001b[0m\n",
      "drwxr-xr-x  5 gjb  gjb   4096 Nov 11  2021 \u001b[01;34m.ipython\u001b[0m\n",
      "drwxr-xr-x 11 gjb  gjb   4096 Apr 17 12:57 \u001b[01;34m.julia\u001b[0m\n",
      "drwxr-xr-x  4 gjb  gjb   4096 Apr  4 13:55 \u001b[01;34m.jupyter\u001b[0m\n",
      "drwxr-xr-x  2 gjb  gjb   4096 Nov 11  2021 \u001b[01;34m.landscape\u001b[0m\n",
      "-rw-------  1 gjb  gjb    116 Jun 28 16:57 .lesshst\n",
      "drwxr-xr-x  3 gjb  gjb   4096 Nov 11  2021 \u001b[01;34m.local\u001b[0m\n",
      "-rw-r--r--  1 gjb  gjb    587 Jan 31 10:25 .mamba_init.sh\n",
      "-rw-r--r--  1 gjb  gjb      0 Jun 29 06:36 .motd_shown\n",
      "drwxr-xr-x  4 gjb  gjb   4096 Jun 29 06:39 \u001b[01;34m.npm\u001b[0m\n",
      "drwx------  3 gjb  gjb   4096 Nov 13  2021 \u001b[01;34m.nv\u001b[0m\n",
      "lrwxrwxrwx  1 gjb  gjb     35 Dec  6  2022 \u001b[01;36m.profile\u001b[0m -> conf/config_files/bash_wsl/.profile\n",
      "-rw-------  1 gjb  gjb    207 Jun 15 12:30 .python_history\n",
      "drwx------  3 gjb  gjb   4096 Nov 19  2021 \u001b[01;34m.singularity\u001b[0m\n",
      "drwxr-xr-x  3 gjb  gjb   4096 Jun 20 12:07 \u001b[01;34m.ssh\u001b[0m\n",
      "lrwxrwxrwx  1 gjb  gjb     43 Dec  6  2022 \u001b[01;36m.start_docker.sh\u001b[0m -> conf/config_files/bash_wsl/.start_docker.sh\n",
      "drwxr-xr-x  2 gjb  gjb   4096 Jan 15 07:57 \u001b[01;34m.streamlit\u001b[0m\n",
      "-rw-r--r--  1 gjb  gjb      0 Nov 11  2021 .sudo_as_admin_successful\n",
      "lrwxrwxrwx  1 gjb  gjb     28 Dec  6  2022 \u001b[01;36m.tmux\u001b[0m -> conf/config_files/tmux/.tmux\n",
      "lrwxrwxrwx  1 gjb  gjb     33 Dec  6  2022 \u001b[01;36m.tmux.conf\u001b[0m -> conf/config_files/tmux/.tmux.conf\n",
      "lrwxrwxrwx  1 gjb  gjb     38 Dec  6  2022 \u001b[01;36m.tmux_demo.conf\u001b[0m -> conf/config_files/tmux/.tmux_demo.conf\n",
      "drwxr-xr-x  2 gjb  gjb   4096 Mar 24 12:59 \u001b[01;34m.vcpkg\u001b[0m\n",
      "lrwxrwxrwx  1 gjb  gjb     26 Dec  6  2022 \u001b[01;36m.vim\u001b[0m -> conf/config_files/vim/.vim\n",
      "-rw-------  1 gjb  gjb  32101 Jun 28 10:15 .viminfo\n",
      "lrwxrwxrwx  1 gjb  gjb     28 Dec  6  2022 \u001b[01;36m.vimrc\u001b[0m -> conf/config_files/vim/.vimrc\n",
      "-rwxr-xr-x  1 gjb  gjb   3481 May  8 08:47 \u001b[01;32m.vimrc~\u001b[0m\n",
      "drwxr-xr-x  5 gjb  gjb   4096 Feb 16  2022 \u001b[01;34m.vscode-server\u001b[0m\n",
      "-rw-r--r--  1 gjb  gjb    209 Jun 26 11:24 .wget-hsts\n",
      "drwxr-xr-x  3 gjb  gjb   4096 Apr 29  2022 \u001b[01;34m.yarn\u001b[0m\n",
      "lrwxrwxrwx  1 gjb  gjb     38 Nov 13  2021 \u001b[01;36mDocuments\u001b[0m -> /mnt/c/Users/geert/OneDrive/Documents/\n",
      "lrwxrwxrwx  1 gjb  gjb     29 Nov 13  2021 \u001b[01;36mDownloads\u001b[0m -> /mnt/c/Users/geert/Downloads/\n",
      "drwxr-xr-x 43 gjb  gjb   4096 Jun 25 18:00 \u001b[01;34mProjects\u001b[0m\n",
      "-rw-r--r--  1 gjb  gjb   6199 Jun 29 06:53 Untitled.ipynb\n",
      "-rwxr-xr-x  1 gjb  gjb  45792 Jun 25 16:20 \u001b[01;32ma.out\u001b[0m\n",
      "drwxr-xr-x  2 gjb  gjb   4096 Jun 28 10:15 \u001b[01;34mbin\u001b[0m\n",
      "drwxr-xr-x  5 gjb  gjb   4096 Jun 23 09:04 \u001b[01;34mconf\u001b[0m\n",
      "drwxr-xr-x  5 gjb  gjb   4096 May 31 12:28 \u001b[01;34mdemo-magic\u001b[0m\n",
      "drwxr-xr-x  5 gjb  gjb   4096 Jun 14  2022 \u001b[01;34mgo\u001b[0m\n",
      "drwxr-xr-x  8 gjb  gjb   4096 Jan  8 09:03 \u001b[01;34mjulia-1.8.5\u001b[0m\n",
      "drwxr-xr-x  8 gjb  gjb   4096 Jun  7 10:56 \u001b[01;34mjulia-1.9.1\u001b[0m\n",
      "drwxr-xr-x 19 gjb  gjb   4096 Jun 12 11:51 \u001b[01;34mmambaforge\u001b[0m\n",
      "drwxr-xr-x 12 gjb  gjb   4096 Jul  4  2022 \u001b[01;34mnltk_data\u001b[0m\n",
      "drwxr-xr-x  6 gjb  gjb   4096 Jun 20 16:40 \u001b[01;34mnode-v18.16.1-linux-x64\u001b[0m\n",
      "drwxr-xr-x 26 gjb  gjb   4096 Jun 28 16:47 \u001b[01;34mtmp\u001b[0m\n",
      "drwxr-xr-x 14 gjb  gjb   4096 Mar 24 12:59 \u001b[01;34mvcpkg\u001b[0m\n"
     ]
    }
   ],
   "source": [
    "ls -a -l"
   ]
  },
  {
   "cell_type": "markdown",
   "id": "4ecfc60a-da95-4708-8c9a-5b87a3fd0101",
   "metadata": {},
   "source": [
    "### man and --help: getting help"
   ]
  },
  {
   "cell_type": "markdown",
   "id": "ae15611d-6d86-4cdb-81a4-ece03570ab7d",
   "metadata": {},
   "source": [
    "Although you will soon have memorized the most commonly used options for various commands, you may need information on them.  For most linux commands, this is straightforward: you can use the `--help` option for many, the `-h` option for others."
   ]
  },
  {
   "cell_type": "code",
   "execution_count": 4,
   "id": "d6342b95-2261-430f-8b85-c18f4d4a49a3",
   "metadata": {},
   "outputs": [
    {
     "name": "stdout",
     "output_type": "stream",
     "text": [
      "Usage: ls [OPTION]... [FILE]...\n",
      "List information about the FILEs (the current directory by default).\n",
      "Sort entries alphabetically if none of -cftuvSUX nor --sort is specified.\n",
      "\n",
      "Mandatory arguments to long options are mandatory for short options too.\n",
      "  -a, --all                  do not ignore entries starting with .\n",
      "  -A, --almost-all           do not list implied . and ..\n",
      "      --author               with -l, print the author of each file\n",
      "  -b, --escape               print C-style escapes for nongraphic characters\n",
      "      --block-size=SIZE      with -l, scale sizes by SIZE when printing them;\n",
      "                               e.g., '--block-size=M'; see SIZE format below\n",
      "  -B, --ignore-backups       do not list implied entries ending with ~\n",
      "  -c                         with -lt: sort by, and show, ctime (time of last\n",
      "                               modification of file status information);\n",
      "                               with -l: show ctime and sort by name;\n",
      "                               otherwise: sort by ctime, newest first\n",
      "  -C                         list entries by columns\n",
      "      --color[=WHEN]         colorize the output; WHEN can be 'always' (default\n",
      "                               if omitted), 'auto', or 'never'; more info below\n",
      "  -d, --directory            list directories themselves, not their contents\n",
      "  -D, --dired                generate output designed for Emacs' dired mode\n",
      "  -f                         do not sort, enable -aU, disable -ls --color\n",
      "  -F, --classify             append indicator (one of */=>@|) to entries\n",
      "      --file-type            likewise, except do not append '*'\n",
      "      --format=WORD          across -x, commas -m, horizontal -x, long -l,\n",
      "                               single-column -1, verbose -l, vertical -C\n",
      "      --full-time            like -l --time-style=full-iso\n",
      "  -g                         like -l, but do not list owner\n",
      "      --group-directories-first\n",
      "                             group directories before files;\n",
      "                               can be augmented with a --sort option, but any\n",
      "                               use of --sort=none (-U) disables grouping\n",
      "  -G, --no-group             in a long listing, don't print group names\n",
      "  -h, --human-readable       with -l and -s, print sizes like 1K 234M 2G etc.\n",
      "      --si                   likewise, but use powers of 1000 not 1024\n",
      "  -H, --dereference-command-line\n",
      "                             follow symbolic links listed on the command line\n",
      "      --dereference-command-line-symlink-to-dir\n",
      "                             follow each command line symbolic link\n",
      "                               that points to a directory\n",
      "      --hide=PATTERN         do not list implied entries matching shell PATTERN\n",
      "                               (overridden by -a or -A)\n",
      "      --hyperlink[=WHEN]     hyperlink file names; WHEN can be 'always'\n",
      "                               (default if omitted), 'auto', or 'never'\n",
      "      --indicator-style=WORD  append indicator with style WORD to entry names:\n",
      "                               none (default), slash (-p),\n",
      "                               file-type (--file-type), classify (-F)\n",
      "  -i, --inode                print the index number of each file\n",
      "  -I, --ignore=PATTERN       do not list implied entries matching shell PATTERN\n",
      "  -k, --kibibytes            default to 1024-byte blocks for disk usage;\n",
      "                               used only with -s and per directory totals\n",
      "  -l                         use a long listing format\n",
      "  -L, --dereference          when showing file information for a symbolic\n",
      "                               link, show information for the file the link\n",
      "                               references rather than for the link itself\n",
      "  -m                         fill width with a comma separated list of entries\n",
      "  -n, --numeric-uid-gid      like -l, but list numeric user and group IDs\n",
      "  -N, --literal              print entry names without quoting\n",
      "  -o                         like -l, but do not list group information\n",
      "  -p, --indicator-style=slash\n",
      "                             append / indicator to directories\n",
      "  -q, --hide-control-chars   print ? instead of nongraphic characters\n",
      "      --show-control-chars   show nongraphic characters as-is (the default,\n",
      "                               unless program is 'ls' and output is a terminal)\n",
      "  -Q, --quote-name           enclose entry names in double quotes\n",
      "      --quoting-style=WORD   use quoting style WORD for entry names:\n",
      "                               literal, locale, shell, shell-always,\n",
      "                               shell-escape, shell-escape-always, c, escape\n",
      "                               (overrides QUOTING_STYLE environment variable)\n",
      "  -r, --reverse              reverse order while sorting\n",
      "  -R, --recursive            list subdirectories recursively\n",
      "  -s, --size                 print the allocated size of each file, in blocks\n",
      "  -S                         sort by file size, largest first\n",
      "      --sort=WORD            sort by WORD instead of name: none (-U), size (-S),\n",
      "                               time (-t), version (-v), extension (-X)\n",
      "      --time=WORD            change the default of using modification times;\n",
      "                               access time (-u): atime, access, use;\n",
      "                               change time (-c): ctime, status;\n",
      "                               birth time: birth, creation;\n",
      "                             with -l, WORD determines which time to show;\n",
      "                             with --sort=time, sort by WORD (newest first)\n",
      "      --time-style=TIME_STYLE  time/date format with -l; see TIME_STYLE below\n",
      "  -t                         sort by time, newest first; see --time\n",
      "  -T, --tabsize=COLS         assume tab stops at each COLS instead of 8\n",
      "  -u                         with -lt: sort by, and show, access time;\n",
      "                               with -l: show access time and sort by name;\n",
      "                               otherwise: sort by access time, newest first\n",
      "  -U                         do not sort; list entries in directory order\n",
      "  -v                         natural sort of (version) numbers within text\n",
      "  -w, --width=COLS           set output width to COLS.  0 means no limit\n",
      "  -x                         list entries by lines instead of by columns\n",
      "  -X                         sort alphabetically by entry extension\n",
      "  -Z, --context              print any security context of each file\n",
      "  -1                         list one file per line.  Avoid '\\n' with -q or -b\n",
      "      --help     display this help and exit\n",
      "      --version  output version information and exit\n",
      "\n",
      "The SIZE argument is an integer and optional unit (example: 10K is 10*1024).\n",
      "Units are K,M,G,T,P,E,Z,Y (powers of 1024) or KB,MB,... (powers of 1000).\n",
      "Binary prefixes can be used, too: KiB=K, MiB=M, and so on.\n",
      "\n",
      "The TIME_STYLE argument can be full-iso, long-iso, iso, locale, or +FORMAT.\n",
      "FORMAT is interpreted like in date(1).  If FORMAT is FORMAT1<newline>FORMAT2,\n",
      "then FORMAT1 applies to non-recent files and FORMAT2 to recent files.\n",
      "TIME_STYLE prefixed with 'posix-' takes effect only outside the POSIX locale.\n",
      "Also the TIME_STYLE environment variable sets the default style to use.\n",
      "\n",
      "Using color to distinguish file types is disabled both by default and\n",
      "with --color=never.  With --color=auto, ls emits color codes only when\n",
      "standard output is connected to a terminal.  The LS_COLORS environment\n",
      "variable can change the settings.  Use the dircolors command to set it.\n",
      "\n",
      "Exit status:\n",
      " 0  if OK,\n",
      " 1  if minor problems (e.g., cannot access subdirectory),\n",
      " 2  if serious trouble (e.g., cannot access command-line argument).\n",
      "\n",
      "GNU coreutils online help: <https://www.gnu.org/software/coreutils/>\n",
      "Report any translation bugs to <https://translationproject.org/team/>\n",
      "Full documentation <https://www.gnu.org/software/coreutils/ls>\n",
      "or available locally via: info '(coreutils) ls invocation'\n"
     ]
    }
   ],
   "source": [
    "ls --help"
   ]
  },
  {
   "cell_type": "markdown",
   "id": "ca7f9f28-63d9-4dfc-afd3-92ddc2b7ed01",
   "metadata": {},
   "source": [
    "The Linux system comes with documentation as well, you can access that using the `man` (manual) command."
   ]
  },
  {
   "cell_type": "code",
   "execution_count": 5,
   "id": "d2c59353-5e13-4d3e-ada0-f30baff4f8dd",
   "metadata": {},
   "outputs": [
    {
     "name": "stdout",
     "output_type": "stream",
     "text": [
      "LS(1)                            User Commands                           LS(1)\n",
      "\n",
      "NAME\n",
      "       ls - list directory contents\n",
      "\n",
      "SYNOPSIS\n",
      "       ls [OPTION]... [FILE]...\n",
      "\n",
      "DESCRIPTION\n",
      "       List  information  about  the FILEs (the current directory by default).\n",
      "       Sort entries alphabetically if none of -cftuvSUX nor --sort  is  speci‐\n",
      "       fied.\n",
      "\n",
      "       Mandatory  arguments  to  long  options are mandatory for short options\n",
      "       too.\n",
      "\n",
      "       -a, --all\n",
      "              do not ignore entries starting with .\n",
      "\n",
      "       -A, --almost-all\n",
      "              do not list implied . and ..\n",
      "\n",
      "       --author\n",
      "              with -l, print the author of each file\n",
      "\n",
      "       -b, --escape\n",
      "              print C-style escapes for nongraphic characters\n",
      "\n",
      "       --block-size=SIZE\n",
      "              with  -l,  scale  sizes  by  SIZE  when  printing  them;   e.g.,\n",
      "              '--block-size=M'; see SIZE format below\n",
      "\n",
      "       -B, --ignore-backups\n",
      "              do not list implied entries ending with ~\n",
      "\n",
      "       -c     with -lt: sort by, and show, ctime (time of last modification of\n",
      "              file status information); with -l: show ctime and sort by  name;\n",
      "              otherwise: sort by ctime, newest first\n",
      "\n",
      "       -C     list entries by columns\n",
      "\n",
      "       --color[=WHEN]\n",
      "              colorize  the output; WHEN can be 'always' (default if omitted),\n",
      "              'auto', or 'never'; more info below\n",
      "\n",
      "       -d, --directory\n",
      "              list directories themselves, not their contents\n",
      "\n",
      "       -D, --dired\n",
      "              generate output designed for Emacs' dired mode\n",
      "\n",
      "       -f     do not sort, enable -aU, disable -ls --color\n",
      "\n",
      "       -F, --classify\n",
      "              append indicator (one of */=>@|) to entries\n",
      "\n",
      "       --file-type\n",
      "              likewise, except do not append '*'\n",
      "\n",
      "       --format=WORD\n",
      "              across -x, commas -m, horizontal -x, long -l, single-column  -1,\n",
      "              verbose -l, vertical -C\n",
      "\n",
      "       --full-time\n",
      "              like -l --time-style=full-iso\n",
      "\n",
      "       -g     like -l, but do not list owner\n",
      "\n",
      "       --group-directories-first\n",
      "              group directories before files;\n",
      "\n",
      "              can   be  augmented  with  a  --sort  option,  but  any  use  of\n",
      "              --sort=none (-U) disables grouping\n",
      "\n",
      "       -G, --no-group\n",
      "              in a long listing, don't print group names\n",
      "\n",
      "       -h, --human-readable\n",
      "              with -l and -s, print sizes like 1K 234M 2G etc.\n",
      "\n",
      "       --si   likewise, but use powers of 1000 not 1024\n",
      "\n",
      "       -H, --dereference-command-line\n",
      "              follow symbolic links listed on the command line\n",
      "\n",
      "       --dereference-command-line-symlink-to-dir\n",
      "              follow each command line symbolic link\n",
      "\n",
      "              that points to a directory\n",
      "\n",
      "       --hide=PATTERN\n",
      "              do not list implied entries matching shell  PATTERN  (overridden\n",
      "              by -a or -A)\n",
      "\n",
      "       --hyperlink[=WHEN]\n",
      "              hyperlink file names; WHEN can be 'always' (default if omitted),\n",
      "              'auto', or 'never'\n",
      "\n",
      "       --indicator-style=WORD\n",
      "              append indicator with style WORD to entry names: none (default),\n",
      "              slash (-p), file-type (--file-type), classify (-F)\n",
      "\n",
      "       -i, --inode\n",
      "              print the index number of each file\n",
      "\n",
      "       -I, --ignore=PATTERN\n",
      "              do not list implied entries matching shell PATTERN\n",
      "\n",
      "       -k, --kibibytes\n",
      "              default  to  1024-byte  blocks for disk usage; used only with -s\n",
      "              and per directory totals\n",
      "\n",
      "       -l     use a long listing format\n",
      "\n",
      "       -L, --dereference\n",
      "              when showing file information for a symbolic link, show informa‐\n",
      "              tion  for  the file the link references rather than for the link\n",
      "              itself\n",
      "\n",
      "       -m     fill width with a comma separated list of entries\n",
      "\n",
      "       -n, --numeric-uid-gid\n",
      "              like -l, but list numeric user and group IDs\n",
      "\n",
      "       -N, --literal\n",
      "              print entry names without quoting\n",
      "\n",
      "       -o     like -l, but do not list group information\n",
      "\n",
      "       -p, --indicator-style=slash\n",
      "              append / indicator to directories\n",
      "\n",
      "       -q, --hide-control-chars\n",
      "              print ? instead of nongraphic characters\n",
      "\n",
      "       --show-control-chars\n",
      "              show nongraphic characters as-is (the default, unless program is\n",
      "              'ls' and output is a terminal)\n",
      "\n",
      "       -Q, --quote-name\n",
      "              enclose entry names in double quotes\n",
      "\n",
      "       --quoting-style=WORD\n",
      "              use  quoting style WORD for entry names: literal, locale, shell,\n",
      "              shell-always,  shell-escape,  shell-escape-always,   c,   escape\n",
      "              (overrides QUOTING_STYLE environment variable)\n",
      "\n",
      "       -r, --reverse\n",
      "              reverse order while sorting\n",
      "\n",
      "       -R, --recursive\n",
      "              list subdirectories recursively\n",
      "\n",
      "       -s, --size\n",
      "              print the allocated size of each file, in blocks\n",
      "\n",
      "       -S     sort by file size, largest first\n",
      "\n",
      "       --sort=WORD\n",
      "              sort  by  WORD instead of name: none (-U), size (-S), time (-t),\n",
      "              version (-v), extension (-X)\n",
      "\n",
      "       --time=WORD\n",
      "              change the default of  using  modification  times;  access  time\n",
      "              (-u): atime, access, use; change time (-c): ctime, status; birth\n",
      "              time: birth, creation;\n",
      "\n",
      "              with -l, WORD determines which time to show;  with  --sort=time,\n",
      "              sort by WORD (newest first)\n",
      "\n",
      "       --time-style=TIME_STYLE\n",
      "              time/date format with -l; see TIME_STYLE below\n",
      "\n",
      "       -t     sort by time, newest first; see --time\n",
      "\n",
      "       -T, --tabsize=COLS\n",
      "              assume tab stops at each COLS instead of 8\n",
      "\n",
      "       -u     with  -lt:  sort by, and show, access time; with -l: show access\n",
      "              time and sort by name; otherwise: sort by  access  time,  newest\n",
      "              first\n",
      "\n",
      "       -U     do not sort; list entries in directory order\n",
      "\n",
      "       -v     natural sort of (version) numbers within text\n",
      "\n",
      "       -w, --width=COLS\n",
      "              set output width to COLS.  0 means no limit\n",
      "\n",
      "       -x     list entries by lines instead of by columns\n",
      "\n",
      "       -X     sort alphabetically by entry extension\n",
      "\n",
      "       -Z, --context\n",
      "              print any security context of each file\n",
      "\n",
      "       -1     list one file per line.  Avoid '\\n' with -q or -b\n",
      "\n",
      "       --help display this help and exit\n",
      "\n",
      "       --version\n",
      "              output version information and exit\n",
      "\n",
      "       The  SIZE  argument  is  an  integer and optional unit (example: 10K is\n",
      "       10*1024).  Units are K,M,G,T,P,E,Z,Y  (powers  of  1024)  or  KB,MB,...\n",
      "       (powers  of 1000).  Binary prefixes can be used, too: KiB=K, MiB=M, and\n",
      "       so on.\n",
      "\n",
      "       The TIME_STYLE argument can be  full-iso,  long-iso,  iso,  locale,  or\n",
      "       +FORMAT.   FORMAT  is  interpreted  like in date(1).  If FORMAT is FOR‐\n",
      "       MAT1<newline>FORMAT2, then FORMAT1 applies to non-recent files and FOR‐\n",
      "       MAT2  to  recent files.  TIME_STYLE prefixed with 'posix-' takes effect\n",
      "       only outside the POSIX locale.  Also the TIME_STYLE  environment  vari‐\n",
      "       able sets the default style to use.\n",
      "\n",
      "       Using  color  to distinguish file types is disabled both by default and\n",
      "       with --color=never.  With --color=auto, ls emits color codes only  when\n",
      "       standard  output is connected to a terminal.  The LS_COLORS environment\n",
      "       variable can change the settings.  Use the dircolors command to set it.\n",
      "\n",
      "   Exit status:\n",
      "       0      if OK,\n",
      "\n",
      "       1      if minor problems (e.g., cannot access subdirectory),\n",
      "\n",
      "       2      if serious trouble (e.g., cannot access command-line argument).\n",
      "\n",
      "AUTHOR\n",
      "       Written by Richard M. Stallman and David MacKenzie.\n",
      "\n",
      "REPORTING BUGS\n",
      "       GNU coreutils online help: <https://www.gnu.org/software/coreutils/>\n",
      "       Report any translation bugs to <https://translationproject.org/team/>\n",
      "\n",
      "COPYRIGHT\n",
      "       Copyright © 2020 Free Software Foundation, Inc.   License  GPLv3+:  GNU\n",
      "       GPL version 3 or later <https://gnu.org/licenses/gpl.html>.\n",
      "       This  is  free  software:  you  are free to change and redistribute it.\n",
      "       There is NO WARRANTY, to the extent permitted by law.\n",
      "\n",
      "SEE ALSO\n",
      "       Full documentation <https://www.gnu.org/software/coreutils/ls>\n",
      "       or available locally via: info '(coreutils) ls invocation'\n",
      "\n",
      "GNU coreutils 8.32               February 2022                           LS(1)\n"
     ]
    }
   ],
   "source": [
    "man ls"
   ]
  },
  {
   "cell_type": "markdown",
   "id": "428c2381-398f-4768-a878-e57a18ebb22a",
   "metadata": {},
   "source": [
    "For many commands there will even be a list of examples to get you started."
   ]
  },
  {
   "cell_type": "markdown",
   "id": "f527191e-9a44-46c9-9164-e39143a289f9",
   "metadata": {},
   "source": [
    "### Editing files"
   ]
  },
  {
   "cell_type": "markdown",
   "id": "989195a3-0a50-4c15-99ba-18faa3f6fbf7",
   "metadata": {},
   "source": [
    "There are many ways to create files.  You can edit files directly on the system itself, or you can do that on your own laptop and desktop, and then transfer them to the HPC infrastructure.  In this section, we will concentrate on the first option, creating a file on the HPC system.\n",
    "\n",
    "Again, there is a plethora of options of which we will mention only three:\n",
    "  * `nano`: a quite friendly editor that is straightforward to use;\n",
    "  * `vim` or `emacs`: veritable powertools with many features, but a considerable learning curve.\n",
    "\n",
    "For now, we will start with `nano` as it is the most accessible.  In the screencast below you will see how to do that."
   ]
  },
  {
   "cell_type": "markdown",
   "id": "2cf5cf5c-ef5d-42c5-ad16-dd3a9166d127",
   "metadata": {},
   "source": [
    "**To do: video showing nano**"
   ]
  },
  {
   "cell_type": "markdown",
   "id": "e0e734be-3069-45f2-8ed9-5f7fa0b29da8",
   "metadata": {},
   "source": [
    "When you've watched the screencast, open a terminal and try it yourself.  If you don't know how to open a terminal, watch the video below."
   ]
  },
  {
   "cell_type": "markdown",
   "id": "2d3d8486-eadb-4b4d-8b84-cc18b44a0fe9",
   "metadata": {},
   "source": [
    "**To do: video showing opening terminal session**"
   ]
  },
  {
   "cell_type": "markdown",
   "id": "e84a780d-9109-4399-bacd-b6f1689dce7d",
   "metadata": {},
   "source": [
    "Use `nano` to create a Python script `hello.py` that writes \"hello world!\" to standard output.  When you are done and run `ls`, you should now see the script."
   ]
  },
  {
   "cell_type": "code",
   "execution_count": null,
   "id": "98f795da-4819-46de-b199-8c35730473f9",
   "metadata": {},
   "outputs": [],
   "source": [
    "ls"
   ]
  },
  {
   "cell_type": "markdown",
   "id": "7ae9f35e-c00c-4c68-9caf-f8a75c0dffb1",
   "metadata": {},
   "source": [
    "Of course you may wonder why you can't simply use the editor that comes with Jupyter lab to create and edit your files, and in theory, you could.  However, this is not the most ideal way to access the infrastructure, and we only use it for this tutorial since it is pretty expensive."
   ]
  },
  {
   "cell_type": "markdown",
   "id": "4df8c453-1a0f-4851-b8cc-f841300bd616",
   "metadata": {},
   "source": [
    "### less: viewing files"
   ]
  },
  {
   "cell_type": "markdown",
   "id": "f5a24ea9-bbb1-4683-b91b-de111e4e6aa5",
   "metadata": {},
   "source": [
    "Often, you quickly want to view the contents of a file without modifying it.  Here, the `less` command is your friend.  Technically, it is called a pager, since it allows you to view a (long) file one page at the time.  Watch the video below to see it in action."
   ]
  },
  {
   "cell_type": "markdown",
   "id": "1f36f086-577e-4943-b9a9-81b311b2a10c",
   "metadata": {},
   "source": [
    "**To do: video showing less**"
   ]
  },
  {
   "cell_type": "markdown",
   "id": "465bf463-0604-4e47-afed-e8a2953400a5",
   "metadata": {},
   "source": [
    "Remember, to exit less, just press the 'q' key.  Head over to the terminal and try it yourself to view the contents of the `hello.py` file."
   ]
  },
  {
   "cell_type": "markdown",
   "id": "711557f0-a12a-4194-b1d9-0a255f2fe342",
   "metadata": {},
   "source": [
    "### mkdir: create a directory"
   ]
  },
  {
   "cell_type": "markdown",
   "id": "34b85d6d-7c8e-4041-b787-3f78df8ff0c5",
   "metadata": {},
   "source": [
    "To organize your files and your work, you typically use folder, also called directories.  It is trivial to create a new one using the `mkdir` (make directory) command."
   ]
  },
  {
   "cell_type": "code",
   "execution_count": 1,
   "id": "84e29f24-f925-4f86-b999-6c049296656b",
   "metadata": {},
   "outputs": [],
   "source": [
    "mkdir my_project"
   ]
  },
  {
   "cell_type": "markdown",
   "id": "706f589f-3de8-4903-b025-c7d48fee53f3",
   "metadata": {},
   "source": [
    "When you list the contents of your home direcgtory, you will now see the directory `my_project` as well."
   ]
  },
  {
   "cell_type": "code",
   "execution_count": 2,
   "id": "bd4dff82-8b4d-478b-b383-71994874a934",
   "metadata": {},
   "outputs": [
    {
     "name": "stdout",
     "output_type": "stream",
     "text": [
      "001_hpc_intro.ipynb  \u001b[0m\u001b[01;32ma.out\u001b[0m       \u001b[01;34mgo\u001b[0m           \u001b[01;34mmy_project\u001b[0m               \u001b[01;34mvcpkg\u001b[0m\n",
      "\u001b[01;36mDocuments\u001b[0m            \u001b[01;34mbin\u001b[0m         \u001b[01;34mjulia-1.8.5\u001b[0m  \u001b[01;34mnltk_data\u001b[0m\n",
      "\u001b[01;36mDownloads\u001b[0m            \u001b[01;34mconf\u001b[0m        \u001b[01;34mjulia-1.9.1\u001b[0m  \u001b[01;34mnode-v18.16.1-linux-x64\u001b[0m\n",
      "\u001b[01;34mProjects\u001b[0m             \u001b[01;34mdemo-magic\u001b[0m  \u001b[01;34mmambaforge\u001b[0m   \u001b[01;34mtmp\u001b[0m\n"
     ]
    }
   ],
   "source": [
    "ls"
   ]
  },
  {
   "cell_type": "markdown",
   "id": "c483f9f3-d12b-4dc3-b2f0-6f8ed012a790",
   "metadata": {},
   "source": [
    "Note that you will get an error when you try to create a directory that already exists."
   ]
  },
  {
   "cell_type": "code",
   "execution_count": 3,
   "id": "06afe536-7a5b-4cbd-8480-2f1d38cc735f",
   "metadata": {},
   "outputs": [
    {
     "name": "stdout",
     "output_type": "stream",
     "text": [
      "mkdir: cannot create directory ‘my_project’: File exists\n"
     ]
    },
    {
     "ename": "",
     "evalue": "1",
     "output_type": "error",
     "traceback": []
    }
   ],
   "source": [
    "mkdir my_project"
   ]
  },
  {
   "cell_type": "markdown",
   "id": "b90ec0c1-85dd-4cec-a91d-60ccd7305194",
   "metadata": {},
   "source": [
    "### mv: move and rename"
   ]
  },
  {
   "cell_type": "markdown",
   "id": "e5ef7bda-bd76-4bdb-b614-bcb429b03d84",
   "metadata": {},
   "source": [
    "You are probably used to moving files around your computer by dragging them from one directory to another using the mouse.  In a terminal, you can use the `mv` (move) command for that purpose.\n",
    "\n",
    "For instance, suppose that our `hello.py` script is part of the project for which you created the `my_project` directory, you can move it there easily by using the file name `hello.py` and the destination directory `my_project`."
   ]
  },
  {
   "cell_type": "code",
   "execution_count": 4,
   "id": "d6810ce7-57d2-4d8d-b2a2-a3013edeb68f",
   "metadata": {},
   "outputs": [],
   "source": [
    "mv hello.py my_project"
   ]
  },
  {
   "cell_type": "markdown",
   "id": "68975f4f-cbba-4721-b1c1-5dcc78b36dde",
   "metadata": {},
   "source": [
    "When you list the contents of the directory, you see that the `hello.py` file is no longer in the currect directory."
   ]
  },
  {
   "cell_type": "code",
   "execution_count": 5,
   "id": "d9a52390-9f90-4384-b171-209929646be3",
   "metadata": {},
   "outputs": [
    {
     "name": "stdout",
     "output_type": "stream",
     "text": [
      "001_hpc_intro.ipynb  \u001b[0m\u001b[01;32ma.out\u001b[0m       \u001b[01;34mgo\u001b[0m           \u001b[01;34mmy_project\u001b[0m               \u001b[01;34mvcpkg\u001b[0m\n",
      "\u001b[01;36mDocuments\u001b[0m            \u001b[01;34mbin\u001b[0m         \u001b[01;34mjulia-1.8.5\u001b[0m  \u001b[01;34mnltk_data\u001b[0m\n",
      "\u001b[01;36mDownloads\u001b[0m            \u001b[01;34mconf\u001b[0m        \u001b[01;34mjulia-1.9.1\u001b[0m  \u001b[01;34mnode-v18.16.1-linux-x64\u001b[0m\n",
      "\u001b[01;34mProjects\u001b[0m             \u001b[01;34mdemo-magic\u001b[0m  \u001b[01;34mmambaforge\u001b[0m   \u001b[01;34mtmp\u001b[0m\n"
     ]
    }
   ],
   "source": [
    "ls"
   ]
  },
  {
   "cell_type": "markdown",
   "id": "a76bab8a-7862-4268-b4ac-d4d4d15c2ab4",
   "metadata": {},
   "source": [
    "Let's verify that it is indeed in the `my_project` directory by giving an argument to `ls`."
   ]
  },
  {
   "cell_type": "code",
   "execution_count": 6,
   "id": "a502da6f-2c5a-41d3-b92f-40f9a673fd53",
   "metadata": {},
   "outputs": [
    {
     "name": "stdout",
     "output_type": "stream",
     "text": [
      "hello.py\n"
     ]
    }
   ],
   "source": [
    "ls my_project"
   ]
  },
  {
   "cell_type": "markdown",
   "id": "a847edda-e2ab-48fe-9181-86f95a7626c9",
   "metadata": {},
   "source": [
    "Perhaps the name `my_project` for our directory is a bit too generic, and you would prefer a different name.  This is easy, you can rename files and directories using `mv` as well.  Again specify the current name `my_project` and the new name `hello_project` as arguments to `mv``."
   ]
  },
  {
   "cell_type": "code",
   "execution_count": 7,
   "id": "d65ee23d-35b1-47f3-865c-6ddaf0dc1536",
   "metadata": {},
   "outputs": [],
   "source": [
    "mv my_project hello_project"
   ]
  },
  {
   "cell_type": "markdown",
   "id": "143c701b-d6fb-4cea-8466-c4fa028f9472",
   "metadata": {},
   "source": [
    "Checking the content of the directory shows that the name was indeed changed to `hello_project`."
   ]
  },
  {
   "cell_type": "code",
   "execution_count": 8,
   "id": "36941986-e8e0-4265-b02a-63623c63f6ac",
   "metadata": {},
   "outputs": [
    {
     "name": "stdout",
     "output_type": "stream",
     "text": [
      "001_hpc_intro.ipynb  \u001b[0m\u001b[01;32ma.out\u001b[0m       \u001b[01;34mgo\u001b[0m             \u001b[01;34mmambaforge\u001b[0m               \u001b[01;34mvcpkg\u001b[0m\n",
      "\u001b[01;36mDocuments\u001b[0m            \u001b[01;34mbin\u001b[0m         \u001b[01;34mhello_project\u001b[0m  \u001b[01;34mnltk_data\u001b[0m\n",
      "\u001b[01;36mDownloads\u001b[0m            \u001b[01;34mconf\u001b[0m        \u001b[01;34mjulia-1.8.5\u001b[0m    \u001b[01;34mnode-v18.16.1-linux-x64\u001b[0m\n",
      "\u001b[01;34mProjects\u001b[0m             \u001b[01;34mdemo-magic\u001b[0m  \u001b[01;34mjulia-1.9.1\u001b[0m    \u001b[01;34mtmp\u001b[0m\n"
     ]
    }
   ],
   "source": [
    "ls"
   ]
  },
  {
   "cell_type": "markdown",
   "id": "850dd5e9-a335-43e6-89d3-e55881468425",
   "metadata": {},
   "source": [
    "### pwd: where am I?"
   ]
  },
  {
   "cell_type": "markdown",
   "id": "ee16d62e-a652-4547-b676-405c4af5855a",
   "metadata": {},
   "source": [
    "Sometimes you want to verify in which directory you are, and that is what the `pwd` (present working directory) will tell you."
   ]
  },
  {
   "cell_type": "code",
   "execution_count": 9,
   "id": "fd368ec7-091c-467d-a968-bfaa5da14c3f",
   "metadata": {},
   "outputs": [
    {
     "name": "stdout",
     "output_type": "stream",
     "text": [
      "/home/gjb\n"
     ]
    }
   ],
   "source": [
    "pwd"
   ]
  },
  {
   "cell_type": "markdown",
   "id": "398c7a57-465b-457b-88a2-2af6093199f2",
   "metadata": {},
   "source": [
    "As you can see, you are in your home directory."
   ]
  },
  {
   "cell_type": "markdown",
   "id": "88487a17-3baa-42e7-9a7b-bf12bc237dbe",
   "metadata": {},
   "source": [
    "### cd: navigating directories"
   ]
  },
  {
   "cell_type": "markdown",
   "id": "d3e0ca2e-3286-42e2-9891-c1f6a7429229",
   "metadata": {},
   "source": [
    "To move to another directory, you can use the `cd` (change directory) command.  For isntance, to go into the `hello_project` directory you simply give the destination as an argument to `cd`."
   ]
  },
  {
   "cell_type": "code",
   "execution_count": 10,
   "id": "62a45000-1687-48ae-9d18-9c3c2549eb04",
   "metadata": {},
   "outputs": [],
   "source": [
    "cd hello_project"
   ]
  },
  {
   "cell_type": "markdown",
   "id": "baa22364-c349-43ef-ad00-e32d0f72f995",
   "metadata": {},
   "source": [
    "Use `pwd` to verify that you are indeed in that directory."
   ]
  },
  {
   "cell_type": "code",
   "execution_count": 11,
   "id": "4f178a68-5f4b-47dc-83bb-9332ba724145",
   "metadata": {},
   "outputs": [
    {
     "name": "stdout",
     "output_type": "stream",
     "text": [
      "/home/gjb/hello_project\n"
     ]
    }
   ],
   "source": [
    "pwd"
   ]
  },
  {
   "cell_type": "markdown",
   "id": "2fffbff0-20da-45fe-aa2b-163a9bacf979",
   "metadata": {},
   "source": [
    "Now, head over to the terminal.  Take a close look at your current prompt.  This is the string of characters after which you type commands.  You will notice that it shows a `~`.  This is an abbreviation for your home directory.  Now execute the `cd hello_project` command in the terminal and note the change to the prompt.  It will now show `~/hello_project`, i.e., your present working direcgtory.\n",
    "\n",
    "\n",
    "So, just by looking at the prompt in a terminal, you can always see where you are."
   ]
  },
  {
   "cell_type": "markdown",
   "id": "6d84a850-f15c-4217-9dc5-9c0684170cf6",
   "metadata": {},
   "source": [
    "You can view the file system as a (mathematical) tree.  The `hello_project` directory is in your home directory, so the latter is the parent directory of `hello_project`.  This induces the notion of \"up\" and \"down\": you go up to the parent directory, or from your home directory down into `hello_project`.  From that perspective, it makes sense to call `hello_project` a subdirectory of your home directory.\n",
    "\n",
    "To move up to the parent directory, you use `..` as a destination."
   ]
  },
  {
   "cell_type": "code",
   "execution_count": 12,
   "id": "2173191a-ef8a-494b-8697-f16dcf836790",
   "metadata": {},
   "outputs": [],
   "source": [
    "cd .."
   ]
  },
  {
   "cell_type": "markdown",
   "id": "b34dffc7-d1be-4c42-9ecf-389c37ad51cb",
   "metadata": {},
   "source": [
    "Confirm that you are back in your home directory."
   ]
  },
  {
   "cell_type": "code",
   "execution_count": 13,
   "id": "95acf947-4419-40bd-a98d-adef06fa7d3d",
   "metadata": {},
   "outputs": [
    {
     "name": "stdout",
     "output_type": "stream",
     "text": [
      "/home/gjb\n"
     ]
    }
   ],
   "source": [
    "pwd"
   ]
  },
  {
   "cell_type": "markdown",
   "id": "c94eb251-76e1-4017-9584-c1405bef6259",
   "metadata": {},
   "source": [
    "A useful shortcut, just using `cd` without any arguments will always bring you to your home directory, regardless what your current working directory is."
   ]
  },
  {
   "cell_type": "markdown",
   "id": "aee04a0b-45a8-4ca1-ad27-0acd2e3bbaa6",
   "metadata": {},
   "source": [
    "### Home, data and scratch directory"
   ]
  },
  {
   "cell_type": "markdown",
   "id": "01272fe4-6853-46b2-807f-8b70c31accac",
   "metadata": {},
   "source": [
    "Besides your home directory, you have access to two more personal directories: the data and scratch directories.\n",
    "\n",
    "| directory | environment variable | quota | purpose |\n",
    "|-----------|----------------------|-------|---------|\n",
    "| home      | VSC_HOME             | 3 GB  | configuration files |\n",
    "| data      | VSC_DATA             | 75 GB | scripts, data       |\n",
    "| scratch   | VSC_SCRATCH          | 500 GB | temporary data/instensive I/O |"
   ]
  },
  {
   "cell_type": "markdown",
   "id": "28db44ff-0019-4930-b01e-201a7c71700a",
   "metadata": {},
   "source": [
    "For a thorough discussion of the purpose, stengths and weaknesses of these various directories, be sure to read the [documentation](https://docs.vscentrum.be/en/latest/access/where_can_i_store_what_kind_of_data.html)."
   ]
  },
  {
   "cell_type": "markdown",
   "id": "9f22d346-f814-45c9-8c88-0aeb230020b9",
   "metadata": {},
   "source": [
    "The environment variables mentioned in the table allow you to easily navigate to these directories using the `cd` command."
   ]
  },
  {
   "cell_type": "code",
   "execution_count": 14,
   "id": "bcf0d569-3506-4e59-9d6f-ca2e62b86b69",
   "metadata": {},
   "outputs": [],
   "source": [
    "cd $VSC_DATA"
   ]
  },
  {
   "cell_type": "markdown",
   "id": "82c45325-c0dc-4707-a154-d35f3ae2bca5",
   "metadata": {},
   "source": [
    "Note the `$` prefixed to the variable name: this lets you use the *value* of the variable named `VSC_DATA`, so don't forget to type that.\n",
    "\n",
    "Also note that Bash is case sensitive, so upper and lower case matter!\n",
    "\n",
    "Verify that you are in the `VSC_DATA` directory using `pwd` and list the files."
   ]
  },
  {
   "cell_type": "code",
   "execution_count": 15,
   "id": "fd1f9311-fcdc-4bb7-83be-4c8dc72c7fa5",
   "metadata": {},
   "outputs": [
    {
     "name": "stdout",
     "output_type": "stream",
     "text": [
      "/home/gjb\n"
     ]
    }
   ],
   "source": [
    "pwd"
   ]
  },
  {
   "cell_type": "code",
   "execution_count": 16,
   "id": "31fabca8-9fb4-497d-b90d-cb6da863f1f7",
   "metadata": {},
   "outputs": [
    {
     "name": "stdout",
     "output_type": "stream",
     "text": [
      "001_hpc_intro.ipynb  \u001b[0m\u001b[01;32ma.out\u001b[0m       \u001b[01;34mgo\u001b[0m             \u001b[01;34mmambaforge\u001b[0m               \u001b[01;34mvcpkg\u001b[0m\n",
      "\u001b[01;36mDocuments\u001b[0m            \u001b[01;34mbin\u001b[0m         \u001b[01;34mhello_project\u001b[0m  \u001b[01;34mnltk_data\u001b[0m\n",
      "\u001b[01;36mDownloads\u001b[0m            \u001b[01;34mconf\u001b[0m        \u001b[01;34mjulia-1.8.5\u001b[0m    \u001b[01;34mnode-v18.16.1-linux-x64\u001b[0m\n",
      "\u001b[01;34mProjects\u001b[0m             \u001b[01;34mdemo-magic\u001b[0m  \u001b[01;34mjulia-1.9.1\u001b[0m    \u001b[01;34mtmp\u001b[0m\n"
     ]
    }
   ],
   "source": [
    "ls"
   ]
  },
  {
   "cell_type": "markdown",
   "id": "658cb62c-6e8b-4d1a-97b1-030fc54f709e",
   "metadata": {},
   "source": [
    "Similarly, you can change to the scratch directory, which is also empty."
   ]
  },
  {
   "cell_type": "code",
   "execution_count": 17,
   "id": "596002c3-ae6c-42d0-955c-b514ab4dfd09",
   "metadata": {},
   "outputs": [],
   "source": [
    "cd $VSC_SCRATCH"
   ]
  },
  {
   "cell_type": "code",
   "execution_count": 19,
   "id": "42d319f7-6c78-4c46-96a8-bf318523c572",
   "metadata": {},
   "outputs": [
    {
     "name": "stdout",
     "output_type": "stream",
     "text": [
      "/home/gjb\n"
     ]
    }
   ],
   "source": [
    "pwd"
   ]
  },
  {
   "cell_type": "code",
   "execution_count": 18,
   "id": "db9d7808-22e6-4c14-b43c-50886ca69c2c",
   "metadata": {},
   "outputs": [
    {
     "name": "stdout",
     "output_type": "stream",
     "text": [
      "001_hpc_intro.ipynb  \u001b[0m\u001b[01;32ma.out\u001b[0m       \u001b[01;34mgo\u001b[0m             \u001b[01;34mmambaforge\u001b[0m               \u001b[01;34mvcpkg\u001b[0m\n",
      "\u001b[01;36mDocuments\u001b[0m            \u001b[01;34mbin\u001b[0m         \u001b[01;34mhello_project\u001b[0m  \u001b[01;34mnltk_data\u001b[0m\n",
      "\u001b[01;36mDownloads\u001b[0m            \u001b[01;34mconf\u001b[0m        \u001b[01;34mjulia-1.8.5\u001b[0m    \u001b[01;34mnode-v18.16.1-linux-x64\u001b[0m\n",
      "\u001b[01;34mProjects\u001b[0m             \u001b[01;34mdemo-magic\u001b[0m  \u001b[01;34mjulia-1.9.1\u001b[0m    \u001b[01;34mtmp\u001b[0m\n"
     ]
    }
   ],
   "source": [
    "ls"
   ]
  },
  {
   "cell_type": "markdown",
   "id": "8284b60d-fc97-41cc-a77f-25687bc1e8e1",
   "metadata": {},
   "source": [
    "Change back to the home directory, and move the `hello_project` directory to the data directory.  After that, change to that directory."
   ]
  },
  {
   "cell_type": "code",
   "execution_count": 20,
   "id": "d737b254-ca2b-46e5-b6f6-05660f88b0e3",
   "metadata": {},
   "outputs": [],
   "source": [
    "cd"
   ]
  },
  {
   "cell_type": "code",
   "execution_count": null,
   "id": "04b8d723-3d44-4d15-9ecd-02d39af0a503",
   "metadata": {},
   "outputs": [],
   "source": [
    "mv hello_project $VSC_DATA"
   ]
  },
  {
   "cell_type": "code",
   "execution_count": null,
   "id": "f2602666-9615-4173-82d5-d1e747e6817e",
   "metadata": {},
   "outputs": [],
   "source": [
    "cd $VSC_DATA/hello_project"
   ]
  },
  {
   "cell_type": "code",
   "execution_count": null,
   "id": "71fc974b-84a6-4f9f-bfbb-d6b46a08fd2d",
   "metadata": {},
   "outputs": [],
   "source": [
    "pwd"
   ]
  },
  {
   "cell_type": "markdown",
   "id": "7ccc4c42-0710-44ad-84f9-fcee78a2fb28",
   "metadata": {},
   "source": [
    "### cp: copy files and directories"
   ]
  },
  {
   "cell_type": "markdown",
   "id": "3c529f45-3e2f-4735-a1c9-e0228f60ac0f",
   "metadata": {},
   "source": [
    "To copy files and directories, you can use the `cp` (copy) command.  Simply specify the name of the file you want to copy and the directory and/or name you want to copy it to.  For instance, you can copy the script `hello.py` to `bye.py`."
   ]
  },
  {
   "cell_type": "code",
   "execution_count": null,
   "id": "9283efb5-9ce3-42e4-bd06-0b5bc02f4c24",
   "metadata": {},
   "outputs": [],
   "source": [
    "cp hello.py bye.py"
   ]
  },
  {
   "attachments": {},
   "cell_type": "markdown",
   "id": "b01b6dbd-f711-4643-a34b-8d0cc910ead2",
   "metadata": {},
   "source": [
    "If you feel like practising your `nano` skills a bit more, you can now modify `bye.py` so that it writes \"by world!\" to the screen, rather than \"hello world!\".\n",
    "\n",
    "You can also copy an entire directoy by adding the `-r` (recursive) flag."
   ]
  },
  {
   "cell_type": "markdown",
   "id": "05f1cac9-f8f6-4a02-b2a1-a8a298111eb5",
   "metadata": {},
   "source": [
    "### Running your own script"
   ]
  },
  {
   "cell_type": "markdown",
   "id": "d3397dab-5050-40b9-b12e-f8359a073d31",
   "metadata": {},
   "source": [
    "You created the `hello.py` and `bye.py` scripts, but you didn't do anything with them yet.  Of course, you would want to run them.  Since they are Python scripts, you would use the Python interpreter to run them."
   ]
  },
  {
   "cell_type": "code",
   "execution_count": null,
   "id": "fe8444dd-b794-4f87-a8cc-ce43bf0a710f",
   "metadata": {},
   "outputs": [],
   "source": [
    "python hello.py"
   ]
  },
  {
   "cell_type": "markdown",
   "id": "54d2d548-cd83-4599-b2fd-d42214d41982",
   "metadata": {},
   "source": [
    "### chmod: change permissions"
   ]
  },
  {
   "cell_type": "markdown",
   "id": "959cb474-a8eb-4861-bf33-cd7cf07d6b63",
   "metadata": {},
   "source": [
    "It would be more convenient not to have to type `python` each time you want to execute your script.  Remember the first line?  That was:\n",
    "```bash\n",
    "#!/usr/bin/env python\n",
    "```\n",
    "That line contains all the information that the script `hello.py` should be executed as a Python script by the `python` interpreter... if the file were executable.  Let's have a look at the file permissions."
   ]
  },
  {
   "cell_type": "code",
   "execution_count": 2,
   "id": "b7fff186-aab9-4e7a-92e5-84f93557ba8a",
   "metadata": {},
   "outputs": [
    {
     "name": "stdout",
     "output_type": "stream",
     "text": [
      "-rw-r--r-- 1 gjb gjb 44 Jun 29 08:25 hello.py\n"
     ]
    }
   ],
   "source": [
    "ls -l *.py"
   ]
  },
  {
   "cell_type": "markdown",
   "id": "78a6d061-3970-40ce-91f0-8f2ab0e30ed2",
   "metadata": {},
   "source": [
    "Note: `*.py` is called a \"glob\", it means all files in this directory that have names ending in `.py`.\n",
    "\n",
    "As you can see, the output of the `ls` command starts with `-rw-r--r--`.  These are the permissions of the file.  Actually, it consists of four parts:\n",
    "  * `-`: this emans that `hello.py` is a file, if it were a directory there would be a `d`;\n",
    "  * `rw-`: these are the permissions of the owner of the file;\n",
    "  * `r--`: these are the permissions for members of the group of the file (ignore this for now);\n",
    "  * `r--`: these are the permissoins for everyone else on the system.\n",
    "\n",
    "Roughly speaking, there are three permissions:\n",
    "  * `r`: read permission, i.e., permission to view the contents of the file;\n",
    "  * `w`: write permission, i.e, permission to modify the file;\n",
    "  * `x`: execute permission, i.e., permission to run the file."
   ]
  }
 ],
 "metadata": {
  "kernelspec": {
   "display_name": "Bash",
   "language": "bash",
   "name": "bash"
  },
  "language_info": {
   "codemirror_mode": "shell",
   "file_extension": ".sh",
   "mimetype": "text/x-sh",
   "name": "bash"
  }
 },
 "nbformat": 4,
 "nbformat_minor": 5
}
