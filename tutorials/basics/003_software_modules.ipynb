{
 "cells": [
  {
   "cell_type": "markdown",
   "id": "63f10593-3df4-4b49-ae41-3697fbd71569",
   "metadata": {},
   "source": [
    "# HPC intro"
   ]
  },
  {
   "cell_type": "markdown",
   "id": "1931bf79-64f8-43cd-8629-1957ca5b1bf3",
   "metadata": {},
   "source": [
    "## Software module system"
   ]
  },
  {
   "cell_type": "markdown",
   "id": "353eb0c8-25dc-4ac2-8ece-526d3d129709",
   "metadata": {},
   "source": [
    "An HPC system is almost by definition a multi-tenant system.  The users on such a system have specific requirements with respect to the software they want to use.  For instance, some may want to work with a certain version of Python, while others prefer a newer one.\n",
    "\n",
    "To deal with this, most HPC systems use a module system that allows you to easily pick the software and its specific version you want to use.  There is just a single command to interact with the software stack: `module`.  It has several subcommands that you will learn about below.\n",
    "\n",
    "The utility software many HPC centers use for this purpose is [Lmod](https://github.com/TACC/Lmod) developed by [TACC](https://www.tacc.utexas.edu/)."
   ]
  },
  {
   "cell_type": "markdown",
   "id": "bac189e5-48cf-4653-8cbb-466b552eaea0",
   "metadata": {},
   "source": [
    "### Available software"
   ]
  },
  {
   "cell_type": "markdown",
   "id": "e02856f9-6af0-456c-aabd-de4464687c12",
   "metadata": {},
   "source": [
    "In order to get a list of the software that is available through the module system, you can use the `module available` command.  That will list all the software packages that you can use on the system.\n",
    "\n",
    "Since this list is huge, you can be a bit more specific by providing (part of) the name of the software package you are looking for.  Note that this is case-sensitive."
   ]
  },
  {
   "cell_type": "code",
   "execution_count": null,
   "id": "3c9577da-d861-4da7-973d-39736bf4a053",
   "metadata": {
    "tags": []
   },
   "outputs": [],
   "source": [
    "module available Python"
   ]
  },
  {
   "cell_type": "markdown",
   "id": "ac62bcbf-242a-4347-824c-89b5b8682234",
   "metadata": {},
   "source": [
    "To run Python, the `Python/3.10.8-GCCcore-10.3.0-bare` module sounds promising.  The name may seem a bit cryptic, but once you understand the pattern, it is easy to interpret.\n",
    "\n",
    "The name of a module consists of several parts that provide useful information:\n",
    "  * `Python` is the name of the software package;\n",
    "  * `3.10.8` is the version of that package, i.e., of the Python distribution;\n",
    "  * `GCCcore-10.3.0` tells you that this Python distribution has been compiled using the GCC compiler suite, version 10.3.0;\n",
    "  * `bare` indicates that no third-party Python libraries were installed.\n",
    "\n",
    "Note that you can abbreviate `available` to `av`."
   ]
  },
  {
   "cell_type": "markdown",
   "id": "80b0c88a-28bd-450c-977c-5de9235565f5",
   "metadata": {},
   "source": [
    "### Getting an overview"
   ]
  },
  {
   "cell_type": "markdown",
   "id": "b840dbda-d66c-4e8e-9910-f7ea53a895d9",
   "metadata": {},
   "source": [
    "The output of the `available` subcommand can be a bit unwieldy.  The `overview` subcommand gives you a more compact output since it will only list the modules and the number of versions thereof."
   ]
  },
  {
   "cell_type": "code",
   "execution_count": null,
   "id": "9d3c3325-bfe9-42f7-b2e0-e449046de800",
   "metadata": {},
   "outputs": [],
   "source": [
    "module overview Python"
   ]
  },
  {
   "cell_type": "markdown",
   "id": "ff308710-178b-49ea-9688-979e104b8464",
   "metadata": {},
   "source": [
    "Note that you can abbreviate `overview` to `ov`."
   ]
  },
  {
   "cell_type": "markdown",
   "id": "f1d0385d-8f3d-48bc-ac08-1f270df41f6c",
   "metadata": {},
   "source": [
    "### Getting information on software"
   ]
  },
  {
   "cell_type": "markdown",
   "id": "4d85a137-84a5-4fc1-b9ca-b9d3c9450995",
   "metadata": {},
   "source": [
    "Once you have found a promising module, you can get a description of it using the `whatis` subcommand."
   ]
  },
  {
   "cell_type": "code",
   "execution_count": null,
   "id": "655e6b63-5aeb-4e0c-9911-691938042659",
   "metadata": {},
   "outputs": [],
   "source": [
    "module whatis Python/3.10.8-GCCcore-10.3.0-bare"
   ]
  },
  {
   "cell_type": "markdown",
   "id": "b223afd6-9681-4d62-a598-f3433167f7b1",
   "metadata": {},
   "source": [
    "This will provide a description of the software, its website as well as a list of extensions if there are any."
   ]
  },
  {
   "cell_type": "markdown",
   "id": "825e9063-79e7-411a-9239-b21373aba098",
   "metadata": {},
   "source": [
    "### Using a software package"
   ]
  },
  {
   "cell_type": "markdown",
   "id": "07479db9-6cb9-4ad9-91e2-0e444cbe3e3a",
   "metadata": {},
   "source": [
    "To use a software package, you simply load the corresponding module."
   ]
  },
  {
   "cell_type": "code",
   "execution_count": null,
   "id": "bbf8c97c-53f9-4357-9920-26534aa54dfb",
   "metadata": {
    "tags": []
   },
   "outputs": [],
   "source": [
    "module load Python/3.10.8-GCCcore-10.3.0-bare"
   ]
  },
  {
   "cell_type": "markdown",
   "id": "83986695-db18-41e6-a675-b160f7e567d2",
   "metadata": {},
   "source": [
    "You can verify that you now use the Python interpreter you expect by checking version and location of the `python` executable."
   ]
  },
  {
   "cell_type": "code",
   "execution_count": null,
   "id": "0452cb0e-0620-4adc-8db8-472a3ec2ffcd",
   "metadata": {
    "tags": []
   },
   "outputs": [],
   "source": [
    "python --version"
   ]
  },
  {
   "cell_type": "code",
   "execution_count": null,
   "id": "1089218a-60c0-4baa-adc2-84f52147d0e6",
   "metadata": {
    "tags": []
   },
   "outputs": [],
   "source": [
    "which python"
   ]
  },
  {
   "cell_type": "markdown",
   "id": "7cffa53b-75d9-4984-a876-06387277f6d4",
   "metadata": {},
   "source": [
    "Now you can run your script using this version of Python."
   ]
  },
  {
   "cell_type": "markdown",
   "id": "aa9873fa-7a23-4850-98f6-f987daf81ee0",
   "metadata": {},
   "source": [
    "### List loaded modules"
   ]
  },
  {
   "cell_type": "markdown",
   "id": "cd27482e-35fe-472e-b968-5910259c4dbc",
   "metadata": {},
   "source": [
    "You can list the modules you have currently loaded using the `list` subcommand."
   ]
  },
  {
   "cell_type": "code",
   "execution_count": null,
   "id": "79eeaa13-26dd-458d-8c4d-07ac48c4259b",
   "metadata": {},
   "outputs": [],
   "source": [
    "module list"
   ]
  },
  {
   "cell_type": "markdown",
   "id": "a52db906-5685-430e-bdba-852a0ec999bf",
   "metadata": {},
   "source": [
    "You probably get a lot more module listed than you anticipated.  Those unexpected modules are dependencies, i.e., modules that are required by the module you loaded.  This happens automatically and ensures that your environment is properly and completely set up to use the module you are interested in, i.e., `Python/3.10.8-GCCcore-10.3.0-bare` in our running example."
   ]
  },
  {
   "cell_type": "markdown",
   "id": "fc22670f-105d-4990-9632-6f98e515fedd",
   "metadata": {},
   "source": [
    "### Unloading modules"
   ]
  },
  {
   "cell_type": "markdown",
   "id": "a64c2103-92be-491a-8575-1b86e1baae7e",
   "metadata": {},
   "source": [
    "If you no longer need a module you previously loaded, you can unload it using the `unload` subcommand.  For example, to unload the Python module, you would execute the command below."
   ]
  },
  {
   "cell_type": "code",
   "execution_count": null,
   "id": "4fe9cfeb-6518-45d9-ab2c-ea64f74062cb",
   "metadata": {},
   "outputs": [],
   "source": [
    "module unload Python"
   ]
  },
  {
   "cell_type": "markdown",
   "id": "b2a2eb92-22dd-4d19-a624-6018c75e28a2",
   "metadata": {},
   "source": [
    "Note that you do not need to specify the specific version of a module when you unload it.  This is not required, since you can have only one version loaded of a given module.  For instance, loading a different version of the Python module would substitute the version you load for the one that was loaded.\n",
    "\n",
    "When you now list the loaded modules, you will notice that indeed, the Python module is no longer loaded, but all the modules it depended on are still loaded.  This is either a feature or a bug, depending on your point of view."
   ]
  },
  {
   "cell_type": "markdown",
   "id": "1318ea99-e933-46ea-b55f-038c5bcb5228",
   "metadata": {},
   "source": [
    "### Clean slate"
   ]
  },
  {
   "cell_type": "markdown",
   "id": "e6fc61f0-d5f4-4cf5-abb4-a882eca99511",
   "metadata": {},
   "source": [
    "If you want to make sure that no modules are loaded, you can use the `purge` subcommand."
   ]
  },
  {
   "cell_type": "code",
   "execution_count": null,
   "id": "1659ea48-6153-4ec4-be57-e976a8a6d6d4",
   "metadata": {},
   "outputs": [],
   "source": [
    "module purge"
   ]
  },
  {
   "cell_type": "markdown",
   "id": "e1f0198c-169e-4f86-a67f-cc990554fa02",
   "metadata": {},
   "source": [
    "When you now check the loaded modules, you will see that none are loaded."
   ]
  },
  {
   "cell_type": "code",
   "execution_count": null,
   "id": "c778ef84-0fff-4471-ac1b-6359e9e47f72",
   "metadata": {},
   "outputs": [],
   "source": [
    "module list"
   ]
  },
  {
   "cell_type": "markdown",
   "id": "dea937b8-c2c9-4c12-8d79-3274b552d904",
   "metadata": {},
   "source": [
    "### Searching for modules"
   ]
  },
  {
   "cell_type": "markdown",
   "id": "eb4fc544-2694-4fe1-b97a-72a59f8d393e",
   "metadata": {},
   "source": [
    "Both the `available`/`av` and the `overview`/`ov` subcommands can have regular expressions as arguments, which makes searching a lot easier.  For instance, if you only want to view modules \"Python\" or \"python\" (since you're not sure about the spelling), you can use the `-r` option, and provide a regular expression."
   ]
  },
  {
   "cell_type": "code",
   "execution_count": null,
   "id": "73017c70-5355-49ed-8f0d-521f2f406929",
   "metadata": {},
   "outputs": [],
   "source": [
    "module -r av '^[Pp]ython/'"
   ]
  },
  {
   "cell_type": "markdown",
   "id": "433b72b2-f5b6-427b-9502-efc4f96369ec",
   "metadata": {},
   "source": [
    "In case you are not familiar with regular expressions, this is a breakdown of this particular one:\n",
    "  * `^`: the string you search for should occur at the start of the module name;\n",
    "  * `[Pp]`: the first character can be either upper case or lower case \"p\";\n",
    "  * `ython/`: literal match;\n",
    "This regular expression can match only modules with names that are either \"Python\" or \"python\".\n",
    "\n",
    "You should really learn about regular expressions since they are very useful, see for instance this [tutorial](https://www.regular-expressions.info/tutorial.html) if you want to know more."
   ]
  },
  {
   "cell_type": "markdown",
   "id": "07aeacac-48f5-44b6-b2d1-99d3efba8974",
   "metadata": {},
   "source": [
    "Another subcommand that you should consider to search for modules is `spider`.  You can try it out for the our running example to see how you like it."
   ]
  },
  {
   "cell_type": "code",
   "execution_count": null,
   "id": "ebf1622b-4b27-4a97-846c-13be92483ac2",
   "metadata": {},
   "outputs": [],
   "source": [
    "module -r spider '^[Pp]ython/'"
   ]
  },
  {
   "cell_type": "markdown",
   "id": "d0b8bc38-0919-4780-8d48-35d99d73a8bd",
   "metadata": {},
   "source": [
    "An advantage of `spider` is that it will show a description of the module you have found."
   ]
  },
  {
   "cell_type": "markdown",
   "id": "910897e6-2156-4ee3-9f11-b1914b93fabf",
   "metadata": {},
   "source": [
    "### Additional features"
   ]
  },
  {
   "cell_type": "markdown",
   "id": "679453b0-d3a1-4815-9e72-be5d64de4e27",
   "metadata": {},
   "source": [
    "The `module` command has a host of other features, but it is outside the scope of this tutorial to discuss them in detail.\n",
    "\n",
    "For instance, an interesting topic to explore are collections of modules that can easily be managed using the `save` and `restore` subcommands.\n",
    "\n",
    "You can find all about using collections and other features in the [documentation]( http://lmod.readthedocs.org)."
   ]
  },
  {
   "cell_type": "markdown",
   "id": "ef21f5c0-100b-4e04-9c0a-ceb101eca05a",
   "metadata": {},
   "source": [
    "### Getting help"
   ]
  },
  {
   "cell_type": "markdown",
   "id": "7733ce1d-707d-46bf-b190-5b6138bea96c",
   "metadata": {},
   "source": [
    "As for most Linux commands, you can get help on `module` by using the `--help` flag."
   ]
  },
  {
   "cell_type": "code",
   "execution_count": null,
   "id": "ff55c9e7-19a0-4888-9019-ece25fdfa491",
   "metadata": {},
   "outputs": [],
   "source": [
    "module --help"
   ]
  },
  {
   "cell_type": "markdown",
   "id": "3c4b9fd1-d262-404e-aade-869d4b051886",
   "metadata": {},
   "source": [
    "## Summary"
   ]
  },
  {
   "cell_type": "markdown",
   "id": "b92fb65a-08d2-4d95-9129-f63aad716300",
   "metadata": {},
   "source": [
    "In this tutorial you learned about the module system to use software on our HPC infrastructure.  Specifically, you can now\n",
    "  * search for modules: `module av ...`, `module ov ...`, `module spider ...`, optionallly using a regular\n",
    "    expression, e.g., `module -r spider ...`;\n",
    "    get information on a module: `module whatis ...`;\n",
    "  * load a module: `module load ...`;\n",
    "  * list all loaded modules: `module list`;\n",
    "  * unload a module: `module unload ...`\n",
    "  * unload all modules: `module purge`;\n",
    "  * get help: `module --help`."
   ]
  },
  {
   "cell_type": "markdown",
   "id": "0cc2e9d6-2477-401d-95e2-4b7099c25169",
   "metadata": {},
   "source": [
    "## Where to go from here?"
   ]
  },
  {
   "cell_type": "markdown",
   "id": "292e9b57-1cc3-4e8b-8ad4-c58bd6615906",
   "metadata": {},
   "source": [
    "Now that you know how to set up your environment to use various software packages, you may want to explore how to\n",
    "  * [run Python scripts](005_running_python.ipynb);\n",
    "  * [run R scripts](running_r_scripts.ipynb)."
   ]
  }
 ],
 "metadata": {
  "kernelspec": {
   "display_name": "Bash (ipykernel)",
   "language": "bash",
   "name": "bash"
  },
  "language_info": {
   "codemirror_mode": "shell",
   "file_extension": ".sh",
   "mimetype": "text/x-sh",
   "name": "bash"
  }
 },
 "nbformat": 4,
 "nbformat_minor": 5
}
